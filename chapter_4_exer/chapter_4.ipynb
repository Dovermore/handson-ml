{
 "cells": [
  {
   "cell_type": "code",
   "execution_count": 2,
   "metadata": {
    "collapsed": true
   },
   "outputs": [],
   "source": [
    "import pandas as pd\n",
    "import matplotlib.pyplot as plt\n",
    "import numpy as np\n",
    "import sklearn\n",
    "from sklearn.linear_model import LinearRegression"
   ]
  },
  {
   "cell_type": "markdown",
   "metadata": {},
   "source": [
    "## The normal euqation"
   ]
  },
  {
   "cell_type": "code",
   "execution_count": 45,
   "metadata": {},
   "outputs": [
    {
     "data": {
      "image/png": "[encoded data removed]",
      "text/plain": [
       "<matplotlib.figure.Figure at 0x11314bd68>"
      ]
     },
     "metadata": {},
     "output_type": "display_data"
    }
   ],
   "source": [
    "X = 5 * np.random.rand(100, 1)\n",
    "y = 3 * X + np.random.randn(100, 1) + 4\n",
    "\n",
    "plt.plot(X, y, \"b.\")\n",
    "plt.show()"
   ]
  },
  {
   "cell_type": "code",
   "execution_count": 46,
   "metadata": {},
   "outputs": [
    {
     "name": "stdout",
     "output_type": "stream",
     "text": [
      "[[ 2.90804535]\n",
      " [ 4.21509616]]\n"
     ]
    }
   ],
   "source": [
    "X_b = np.c_[X, np.ones((100, 1))]\n",
    "# theta_best = np.linalg.inv()\n",
    "theta_best = np.linalg.inv(X_b.T.dot(X_b)).dot(X_b.T).dot(y)\n",
    "\n",
    "print(theta_best)"
   ]
  },
  {
   "cell_type": "code",
   "execution_count": 47,
   "metadata": {},
   "outputs": [
    {
     "data": {
      "text/plain": [
       "array([[  4.21509616],\n",
       "       [ 10.03118687],\n",
       "       [ 18.75532293]])"
      ]
     },
     "execution_count": 47,
     "metadata": {},
     "output_type": "execute_result"
    }
   ],
   "source": [
    "X_new = np.array([[0], [2], [5]])\n",
    "X_new_b = np.c_[X_new, np.ones((3, 1))]\n",
    "y_pred = X_new_b.dot(theta_best)\n",
    "y_pred"
   ]
  },
  {
   "cell_type": "code",
   "execution_count": 48,
   "metadata": {
    "collapsed": true
   },
   "outputs": [],
   "source": [
    "class StringFormulaNotValid(Exception):\n",
    "    pass\n",
    "\n",
    "def plot_graph(formula, x_range, *option):\n",
    "    x = np.array(x_range)\n",
    "    if type(formula)==str:\n",
    "        try:\n",
    "            y = eval(formula) \n",
    "        except:\n",
    "            raise StringFormulaNotValid(\"The formula {} is not a valid expression\".format(formula))\n",
    "    else:\n",
    "        y = formula(x)\n",
    "    if option:\n",
    "        plt.plot(x,y,*option)\n",
    "    else:\n",
    "        plt.plot(x,y)"
   ]
  },
  {
   "cell_type": "code",
   "execution_count": 49,
   "metadata": {
    "scrolled": true
   },
   "outputs": [
    {
     "data": {
      "image/png": "[encoded data removed]",
      "text/plain": [
       "<matplotlib.figure.Figure at 0x116948908>"
      ]
     },
     "metadata": {},
     "output_type": "display_data"
    }
   ],
   "source": [
    "plot_graph(\"theta_best.T[0][0]*x+theta_best.T[0][1]\", [0,5], \"g-\")\n",
    "plt.plot(X, y, \"b.\")\n",
    "plt.plot()\n",
    "plt.axis([0, 5, 0, 20])\n",
    "plt.show()"
   ]
  },
  {
   "cell_type": "code",
   "execution_count": 50,
   "metadata": {},
   "outputs": [
    {
     "data": {
      "text/plain": [
       "array([[2.908045354575394],\n",
       "       [4.215096157546749]], dtype=object)"
      ]
     },
     "execution_count": 50,
     "metadata": {},
     "output_type": "execute_result"
    }
   ],
   "source": [
    "from sklearn.linear_model import LinearRegression\n",
    "\n",
    "lin_reg= LinearRegression()\n",
    "lin_reg.fit(X, y)\n",
    "theta_lin_reg = np.array([lin_reg.coef_, lin_reg.intercept_])\n",
    "theta_lin_reg"
   ]
  },
  {
   "cell_type": "code",
   "execution_count": 51,
   "metadata": {
    "scrolled": true
   },
   "outputs": [
    {
     "data": {
      "image/png": "[encoded data removed]",
      "text/plain": [
       "<matplotlib.figure.Figure at 0x116f45438>"
      ]
     },
     "metadata": {},
     "output_type": "display_data"
    }
   ],
   "source": [
    "plot_graph(lambda x: theta_lin_reg.T[0][0]*x+theta_lin_reg.T[0][1], [0,5], \"r*\")\n",
    "plt.plot(X, y, \"b.\")\n",
    "plt.plot()\n",
    "plt.axis([0, 5, 0, 20])\n",
    "plt.show()"
   ]
  },
  {
   "cell_type": "code",
   "execution_count": 52,
   "metadata": {},
   "outputs": [
    {
     "data": {
      "image/png": "[encoded data removed]",
      "text/plain": [
       "<matplotlib.figure.Figure at 0x116f7dc88>"
      ]
     },
     "metadata": {},
     "output_type": "display_data"
    }
   ],
   "source": [
    "plot_graph(\"theta_best.T[0][0]*x+theta_best.T[0][1]\", [0,5], \"g-\")\n",
    "plot_graph(lambda x: theta_lin_reg.T[0][0]*x+theta_lin_reg.T[0][1], [0,5], \"r-.\")\n",
    "plt.show()"
   ]
  },
  {
   "cell_type": "code",
   "execution_count": 53,
   "metadata": {},
   "outputs": [
    {
     "data": {
      "text/plain": [
       "array([[ 2.90804535],\n",
       "       [ 4.21509616]])"
      ]
     },
     "execution_count": 53,
     "metadata": {},
     "output_type": "execute_result"
    }
   ],
   "source": [
    "eta = 0.1\n",
    "n_iterations = 1000\n",
    "m = 100\n",
    "\n",
    "theta = np.random.randn(2, 1)\n",
    "\n",
    "for iteration in range(n_iterations):\n",
    "    gradients = 2/m * X_b.T.dot(X_b.dot(theta) - y)\n",
    "    theta= theta - eta * gradients\n",
    "\n",
    "theta"
   ]
  },
  {
   "cell_type": "code",
   "execution_count": 54,
   "metadata": {
    "collapsed": true
   },
   "outputs": [],
   "source": [
    "theta_path_sgd = []\n",
    "m = len(X_b)\n",
    "np.random.seed(42)"
   ]
  },
  {
   "cell_type": "code",
   "execution_count": 69,
   "metadata": {
    "scrolled": false
   },
   "outputs": [
    {
     "data": {
      "image/png": "[encoded data removed]",
      "text/plain": [
       "<matplotlib.figure.Figure at 0x1183dc2b0>"
      ]
     },
     "metadata": {},
     "output_type": "display_data"
    }
   ],
   "source": [
    "eta = 0.1\n",
    "n_iterations = 1000\n",
    "m = 100\n",
    "theta = np.random.randn(2,1)\n",
    "\n",
    "for iteration in range(n_iterations):\n",
    "    gradients = 2/m * X_b.T.dot(X_b.dot(theta) - y)\n",
    "    theta = theta - eta * gradients\n",
    "\n",
    "X = 2 * np.random.rand(100, 1)\n",
    "y = 4 + 3 * X + np.random.randn(100, 1)\n",
    "\n",
    "X_new = np.array([[0], [2]])\n",
    "X_new_b = np.c_[np.ones((2, 1)), X_new]  # add x0 = 1 to each instance\n",
    "\n",
    "n_epochs = 50\n",
    "t0, t1 = 5, 50  # learning schedule hyperparameters\n",
    "\n",
    "def learning_schedule(t):\n",
    "    return t0 / (t + t1)\n",
    "\n",
    "theta = np.random.randn(2,1)  # random initialization\n",
    "\n",
    "for epoch in range(n_epochs):\n",
    "    for i in range(m):\n",
    "        if epoch == 0 and i < 20:                    # not shown in the book\n",
    "            y_predict = X_new_b.dot(theta)           # not shown\n",
    "            style = \"b-\" if i > 0 else \"r--\"         # not shown\n",
    "            plt.plot(X_new, y_predict, style)        # not shown\n",
    "        random_index = np.random.randint(m)\n",
    "        xi = X_b[random_index:random_index+1]\n",
    "        yi = y[random_index:random_index+1]\n",
    "        gradients = 2 * xi.T.dot(xi.dot(theta) - yi)\n",
    "        eta = learning_schedule(epoch * m + i)\n",
    "        theta = theta - eta * gradients\n",
    "        theta_path_sgd.append(theta)                 # not shown\n",
    "\n",
    "plt.plot(X, y, \"b.\")                                 # not shown\n",
    "plt.xlabel(\"$x_1$\", fontsize=18)                     # not shown\n",
    "plt.ylabel(\"$y$\", rotation=0, fontsize=18)           # not shown\n",
    "plt.axis([0, 2, 0, 15])                              # not shown\n",
    "plt.show() "
   ]
  },
  {
   "cell_type": "code",
   "execution_count": 60,
   "metadata": {},
   "outputs": [
    {
     "data": {
      "text/plain": [
       "(array([ 3.82625905]), array([ 3.26064801]))"
      ]
     },
     "execution_count": 60,
     "metadata": {},
     "output_type": "execute_result"
    }
   ],
   "source": [
    "from sklearn.linear_model import SGDRegressor\n",
    "\n",
    "sgd_reg = SGDRegressor(max_iter=50, penalty=None, eta0=0.1)\n",
    "sgd_reg.fit(X, y.ravel())\n",
    "\n",
    "sgd_reg.intercept_, sgd_reg.coef_"
   ]
  },
  {
   "cell_type": "code",
   "execution_count": 37,
   "metadata": {
    "scrolled": true
   },
   "outputs": [
    {
     "data": {
      "text/plain": [
       "array([[  0.57220232],\n",
       "       [  4.08852719],\n",
       "       [  1.54589506],\n",
       "       [ -0.38883668],\n",
       "       [  5.28055985],\n",
       "       [  1.31682455],\n",
       "       [  6.73672559],\n",
       "       [  3.30854802],\n",
       "       [ -5.04073736],\n",
       "       [ -8.92826495],\n",
       "       [ -2.51091782],\n",
       "       [ -1.94876412],\n",
       "       [  0.33020562],\n",
       "       [ -8.35348715],\n",
       "       [  1.04545344],\n",
       "       [ -1.67530333],\n",
       "       [  2.35921282],\n",
       "       [  3.99422015],\n",
       "       [  1.70406301],\n",
       "       [ -0.44743236],\n",
       "       [  8.92440124],\n",
       "       [  3.62864217],\n",
       "       [-15.17180442],\n",
       "       [  2.85381803],\n",
       "       [ 10.89537771],\n",
       "       [  2.88558169],\n",
       "       [ -3.84800217],\n",
       "       [  6.63629159],\n",
       "       [  3.8750416 ],\n",
       "       [  0.45048315],\n",
       "       [ -1.07497638],\n",
       "       [  4.31490946],\n",
       "       [ -1.07473446],\n",
       "       [ -6.31607467],\n",
       "       [ -5.32696211],\n",
       "       [  1.47105464],\n",
       "       [ -1.81875252],\n",
       "       [  4.64981208],\n",
       "       [  3.78463927],\n",
       "       [  5.43797919],\n",
       "       [  8.52389311],\n",
       "       [ -5.30895338],\n",
       "       [ -4.18573021],\n",
       "       [-10.34634765],\n",
       "       [  1.7311135 ],\n",
       "       [ -2.85485868],\n",
       "       [  2.63493344],\n",
       "       [  2.00083344],\n",
       "       [  0.09572981],\n",
       "       [  1.56608892],\n",
       "       [  2.91213092],\n",
       "       [ -9.46486971],\n",
       "       [  1.95038193],\n",
       "       [-11.08761383],\n",
       "       [  6.84843566],\n",
       "       [ -1.72632213],\n",
       "       [ -2.45126912],\n",
       "       [  5.39721063],\n",
       "       [  0.16371141],\n",
       "       [  8.9725061 ],\n",
       "       [ -2.18094128],\n",
       "       [  0.027432  ],\n",
       "       [  3.24835495],\n",
       "       [ -1.15317534],\n",
       "       [ -4.47364931],\n",
       "       [ -7.98112674],\n",
       "       [ 13.69797505],\n",
       "       [-11.30403624],\n",
       "       [ -5.92588676],\n",
       "       [ -4.5203887 ],\n",
       "       [  4.18629245],\n",
       "       [ 13.7783586 ],\n",
       "       [ -3.17849816],\n",
       "       [ -1.65974007],\n",
       "       [ -3.38965464],\n",
       "       [  6.59943799],\n",
       "       [ -0.97026352],\n",
       "       [ -1.85780143],\n",
       "       [ -3.02171533],\n",
       "       [  1.14822249],\n",
       "       [ -4.78211505],\n",
       "       [  3.33506083],\n",
       "       [ -2.16055183],\n",
       "       [  0.38824956],\n",
       "       [ -1.98902795],\n",
       "       [  1.77548279],\n",
       "       [  3.54906813],\n",
       "       [  5.85934149],\n",
       "       [ -0.93107955],\n",
       "       [ -0.48086627],\n",
       "       [  4.74396168],\n",
       "       [ -6.98445958],\n",
       "       [  6.13608474],\n",
       "       [  1.78600116],\n",
       "       [ -6.11374447],\n",
       "       [ -6.27982595],\n",
       "       [  0.56717247],\n",
       "       [-10.97251689],\n",
       "       [ -2.55840501],\n",
       "       [ 12.5520372 ]])"
      ]
     },
     "execution_count": 37,
     "metadata": {},
     "output_type": "execute_result"
    }
   ],
   "source": [
    "m = 100\n",
    "X = 6 * np.random.randn(m, 1)\n",
    "y = 0.5 * X**2 + X + 2 + np.random.randn(m, 1)\n",
    "X"
   ]
  },
  {
   "cell_type": "code",
   "execution_count": 36,
   "metadata": {
    "scrolled": true
   },
   "outputs": [
    {
     "data": {
      "image/png": "[encoded data removed]",
      "text/plain": [
       "<matplotlib.figure.Figure at 0x107908b00>"
      ]
     },
     "metadata": {},
     "output_type": "display_data"
    }
   ],
   "source": [
    "plt.plot(X, y, \"b.\")\n",
    "plt.plot()\n",
    "plt.axis([-3, 3, 0, 10])\n",
    "plt.show()"
   ]
  },
  {
   "cell_type": "code",
   "execution_count": 42,
   "metadata": {},
   "outputs": [
    {
     "data": {
      "text/plain": [
       "array([[  5.72202322e-01,   3.27415497e-01],\n",
       "       [  4.08852719e+00,   1.67160546e+01],\n",
       "       [  1.54589506e+00,   2.38979152e+00],\n",
       "       [ -3.88836675e-01,   1.51193960e-01],\n",
       "       [  5.28055985e+00,   2.78843123e+01],\n",
       "       [  1.31682455e+00,   1.73402690e+00],\n",
       "       [  6.73672559e+00,   4.53834717e+01],\n",
       "       [  3.30854802e+00,   1.09464900e+01],\n",
       "       [ -5.04073736e+00,   2.54090332e+01],\n",
       "       [ -8.92826495e+00,   7.97139151e+01],\n",
       "       [ -2.51091782e+00,   6.30470831e+00],\n",
       "       [ -1.94876412e+00,   3.79768160e+00],\n",
       "       [  3.30205623e-01,   1.09035753e-01],\n",
       "       [ -8.35348715e+00,   6.97807475e+01],\n",
       "       [  1.04545344e+00,   1.09297290e+00],\n",
       "       [ -1.67530333e+00,   2.80664126e+00],\n",
       "       [  2.35921282e+00,   5.56588515e+00],\n",
       "       [  3.99422015e+00,   1.59537946e+01],\n",
       "       [  1.70406301e+00,   2.90383074e+00],\n",
       "       [ -4.47432355e-01,   2.00195713e-01],\n",
       "       [  8.92440124e+00,   7.96449374e+01],\n",
       "       [  3.62864217e+00,   1.31670440e+01],\n",
       "       [ -1.51718044e+01,   2.30183649e+02],\n",
       "       [  2.85381803e+00,   8.14427734e+00],\n",
       "       [  1.08953777e+01,   1.18709256e+02],\n",
       "       [  2.88558169e+00,   8.32658166e+00],\n",
       "       [ -3.84800217e+00,   1.48071207e+01],\n",
       "       [  6.63629159e+00,   4.40403661e+01],\n",
       "       [  3.87504160e+00,   1.50159474e+01],\n",
       "       [  4.50483145e-01,   2.02935064e-01],\n",
       "       [ -1.07497638e+00,   1.15557422e+00],\n",
       "       [  4.31490946e+00,   1.86184437e+01],\n",
       "       [ -1.07473446e+00,   1.15505417e+00],\n",
       "       [ -6.31607467e+00,   3.98927992e+01],\n",
       "       [ -5.32696211e+00,   2.83765253e+01],\n",
       "       [  1.47105464e+00,   2.16400176e+00],\n",
       "       [ -1.81875252e+00,   3.30786072e+00],\n",
       "       [  4.64981208e+00,   2.16207524e+01],\n",
       "       [  3.78463927e+00,   1.43234944e+01],\n",
       "       [  5.43797919e+00,   2.95716177e+01],\n",
       "       [  8.52389311e+00,   7.26567538e+01],\n",
       "       [ -5.30895338e+00,   2.81849860e+01],\n",
       "       [ -4.18573021e+00,   1.75203374e+01],\n",
       "       [ -1.03463477e+01,   1.07046910e+02],\n",
       "       [  1.73111350e+00,   2.99675395e+00],\n",
       "       [ -2.85485868e+00,   8.15021811e+00],\n",
       "       [  2.63493344e+00,   6.94287425e+00],\n",
       "       [  2.00083344e+00,   4.00333447e+00],\n",
       "       [  9.57298080e-02,   9.16419613e-03],\n",
       "       [  1.56608892e+00,   2.45263451e+00],\n",
       "       [  2.91213092e+00,   8.48050650e+00],\n",
       "       [ -9.46486971e+00,   8.95837587e+01],\n",
       "       [  1.95038193e+00,   3.80398966e+00],\n",
       "       [ -1.10876138e+01,   1.22935180e+02],\n",
       "       [  6.84843566e+00,   4.69010710e+01],\n",
       "       [ -1.72632213e+00,   2.98018808e+00],\n",
       "       [ -2.45126912e+00,   6.00872029e+00],\n",
       "       [  5.39721063e+00,   2.91298826e+01],\n",
       "       [  1.63711410e-01,   2.68014258e-02],\n",
       "       [  8.97250610e+00,   8.05058657e+01],\n",
       "       [ -2.18094128e+00,   4.75650485e+00],\n",
       "       [  2.74319992e-02,   7.52514582e-04],\n",
       "       [  3.24835495e+00,   1.05518099e+01],\n",
       "       [ -1.15317534e+00,   1.32981337e+00],\n",
       "       [ -4.47364931e+00,   2.00135381e+01],\n",
       "       [ -7.98112674e+00,   6.36983840e+01],\n",
       "       [  1.36979750e+01,   1.87634520e+02],\n",
       "       [ -1.13040362e+01,   1.27781235e+02],\n",
       "       [ -5.92588676e+00,   3.51161339e+01],\n",
       "       [ -4.52038870e+00,   2.04339140e+01],\n",
       "       [  4.18629245e+00,   1.75250445e+01],\n",
       "       [  1.37783586e+01,   1.89843166e+02],\n",
       "       [ -3.17849816e+00,   1.01028505e+01],\n",
       "       [ -1.65974007e+00,   2.75473711e+00],\n",
       "       [ -3.38965464e+00,   1.14897586e+01],\n",
       "       [  6.59943799e+00,   4.35525818e+01],\n",
       "       [ -9.70263518e-01,   9.41411294e-01],\n",
       "       [ -1.85780143e+00,   3.45142614e+00],\n",
       "       [ -3.02171533e+00,   9.13076351e+00],\n",
       "       [  1.14822249e+00,   1.31841489e+00],\n",
       "       [ -4.78211505e+00,   2.28686244e+01],\n",
       "       [  3.33506083e+00,   1.11226308e+01],\n",
       "       [ -2.16055183e+00,   4.66798420e+00],\n",
       "       [  3.88249562e-01,   1.50737722e-01],\n",
       "       [ -1.98902795e+00,   3.95623218e+00],\n",
       "       [  1.77548279e+00,   3.15233914e+00],\n",
       "       [  3.54906813e+00,   1.25958846e+01],\n",
       "       [  5.85934149e+00,   3.43318827e+01],\n",
       "       [ -9.31079555e-01,   8.66909137e-01],\n",
       "       [ -4.80866268e-01,   2.31232368e-01],\n",
       "       [  4.74396168e+00,   2.25051724e+01],\n",
       "       [ -6.98445958e+00,   4.87826756e+01],\n",
       "       [  6.13608474e+00,   3.76515359e+01],\n",
       "       [  1.78600116e+00,   3.18980014e+00],\n",
       "       [ -6.11374447e+00,   3.73778715e+01],\n",
       "       [ -6.27982595e+00,   3.94362140e+01],\n",
       "       [  5.67172473e-01,   3.21684614e-01],\n",
       "       [ -1.09725169e+01,   1.20396127e+02],\n",
       "       [ -2.55840501e+00,   6.54543618e+00],\n",
       "       [  1.25520372e+01,   1.57553638e+02]])"
      ]
     },
     "execution_count": 42,
     "metadata": {},
     "output_type": "execute_result"
    }
   ],
   "source": [
    "from sklearn.preprocessing import PolynomialFeatures\n",
    "\n",
    "poly_features = PolynomialFeatures(degree=2, include_bias=False)\n",
    "X_poly = poly_features.fit_transform(X)\n",
    "X_poly"
   ]
  },
  {
   "cell_type": "code",
   "execution_count": 41,
   "metadata": {
    "scrolled": true
   },
   "outputs": [
    {
     "data": {
      "text/plain": [
       "array([[  1.00000000e+00,   5.72202322e-01,   3.27415497e-01],\n",
       "       [  1.00000000e+00,   4.08852719e+00,   1.67160546e+01],\n",
       "       [  1.00000000e+00,   1.54589506e+00,   2.38979152e+00],\n",
       "       [  1.00000000e+00,  -3.88836675e-01,   1.51193960e-01],\n",
       "       [  1.00000000e+00,   5.28055985e+00,   2.78843123e+01],\n",
       "       [  1.00000000e+00,   1.31682455e+00,   1.73402690e+00],\n",
       "       [  1.00000000e+00,   6.73672559e+00,   4.53834717e+01],\n",
       "       [  1.00000000e+00,   3.30854802e+00,   1.09464900e+01],\n",
       "       [  1.00000000e+00,  -5.04073736e+00,   2.54090332e+01],\n",
       "       [  1.00000000e+00,  -8.92826495e+00,   7.97139151e+01],\n",
       "       [  1.00000000e+00,  -2.51091782e+00,   6.30470831e+00],\n",
       "       [  1.00000000e+00,  -1.94876412e+00,   3.79768160e+00],\n",
       "       [  1.00000000e+00,   3.30205623e-01,   1.09035753e-01],\n",
       "       [  1.00000000e+00,  -8.35348715e+00,   6.97807475e+01],\n",
       "       [  1.00000000e+00,   1.04545344e+00,   1.09297290e+00],\n",
       "       [  1.00000000e+00,  -1.67530333e+00,   2.80664126e+00],\n",
       "       [  1.00000000e+00,   2.35921282e+00,   5.56588515e+00],\n",
       "       [  1.00000000e+00,   3.99422015e+00,   1.59537946e+01],\n",
       "       [  1.00000000e+00,   1.70406301e+00,   2.90383074e+00],\n",
       "       [  1.00000000e+00,  -4.47432355e-01,   2.00195713e-01],\n",
       "       [  1.00000000e+00,   8.92440124e+00,   7.96449374e+01],\n",
       "       [  1.00000000e+00,   3.62864217e+00,   1.31670440e+01],\n",
       "       [  1.00000000e+00,  -1.51718044e+01,   2.30183649e+02],\n",
       "       [  1.00000000e+00,   2.85381803e+00,   8.14427734e+00],\n",
       "       [  1.00000000e+00,   1.08953777e+01,   1.18709256e+02],\n",
       "       [  1.00000000e+00,   2.88558169e+00,   8.32658166e+00],\n",
       "       [  1.00000000e+00,  -3.84800217e+00,   1.48071207e+01],\n",
       "       [  1.00000000e+00,   6.63629159e+00,   4.40403661e+01],\n",
       "       [  1.00000000e+00,   3.87504160e+00,   1.50159474e+01],\n",
       "       [  1.00000000e+00,   4.50483145e-01,   2.02935064e-01],\n",
       "       [  1.00000000e+00,  -1.07497638e+00,   1.15557422e+00],\n",
       "       [  1.00000000e+00,   4.31490946e+00,   1.86184437e+01],\n",
       "       [  1.00000000e+00,  -1.07473446e+00,   1.15505417e+00],\n",
       "       [  1.00000000e+00,  -6.31607467e+00,   3.98927992e+01],\n",
       "       [  1.00000000e+00,  -5.32696211e+00,   2.83765253e+01],\n",
       "       [  1.00000000e+00,   1.47105464e+00,   2.16400176e+00],\n",
       "       [  1.00000000e+00,  -1.81875252e+00,   3.30786072e+00],\n",
       "       [  1.00000000e+00,   4.64981208e+00,   2.16207524e+01],\n",
       "       [  1.00000000e+00,   3.78463927e+00,   1.43234944e+01],\n",
       "       [  1.00000000e+00,   5.43797919e+00,   2.95716177e+01],\n",
       "       [  1.00000000e+00,   8.52389311e+00,   7.26567538e+01],\n",
       "       [  1.00000000e+00,  -5.30895338e+00,   2.81849860e+01],\n",
       "       [  1.00000000e+00,  -4.18573021e+00,   1.75203374e+01],\n",
       "       [  1.00000000e+00,  -1.03463477e+01,   1.07046910e+02],\n",
       "       [  1.00000000e+00,   1.73111350e+00,   2.99675395e+00],\n",
       "       [  1.00000000e+00,  -2.85485868e+00,   8.15021811e+00],\n",
       "       [  1.00000000e+00,   2.63493344e+00,   6.94287425e+00],\n",
       "       [  1.00000000e+00,   2.00083344e+00,   4.00333447e+00],\n",
       "       [  1.00000000e+00,   9.57298080e-02,   9.16419613e-03],\n",
       "       [  1.00000000e+00,   1.56608892e+00,   2.45263451e+00],\n",
       "       [  1.00000000e+00,   2.91213092e+00,   8.48050650e+00],\n",
       "       [  1.00000000e+00,  -9.46486971e+00,   8.95837587e+01],\n",
       "       [  1.00000000e+00,   1.95038193e+00,   3.80398966e+00],\n",
       "       [  1.00000000e+00,  -1.10876138e+01,   1.22935180e+02],\n",
       "       [  1.00000000e+00,   6.84843566e+00,   4.69010710e+01],\n",
       "       [  1.00000000e+00,  -1.72632213e+00,   2.98018808e+00],\n",
       "       [  1.00000000e+00,  -2.45126912e+00,   6.00872029e+00],\n",
       "       [  1.00000000e+00,   5.39721063e+00,   2.91298826e+01],\n",
       "       [  1.00000000e+00,   1.63711410e-01,   2.68014258e-02],\n",
       "       [  1.00000000e+00,   8.97250610e+00,   8.05058657e+01],\n",
       "       [  1.00000000e+00,  -2.18094128e+00,   4.75650485e+00],\n",
       "       [  1.00000000e+00,   2.74319992e-02,   7.52514582e-04],\n",
       "       [  1.00000000e+00,   3.24835495e+00,   1.05518099e+01],\n",
       "       [  1.00000000e+00,  -1.15317534e+00,   1.32981337e+00],\n",
       "       [  1.00000000e+00,  -4.47364931e+00,   2.00135381e+01],\n",
       "       [  1.00000000e+00,  -7.98112674e+00,   6.36983840e+01],\n",
       "       [  1.00000000e+00,   1.36979750e+01,   1.87634520e+02],\n",
       "       [  1.00000000e+00,  -1.13040362e+01,   1.27781235e+02],\n",
       "       [  1.00000000e+00,  -5.92588676e+00,   3.51161339e+01],\n",
       "       [  1.00000000e+00,  -4.52038870e+00,   2.04339140e+01],\n",
       "       [  1.00000000e+00,   4.18629245e+00,   1.75250445e+01],\n",
       "       [  1.00000000e+00,   1.37783586e+01,   1.89843166e+02],\n",
       "       [  1.00000000e+00,  -3.17849816e+00,   1.01028505e+01],\n",
       "       [  1.00000000e+00,  -1.65974007e+00,   2.75473711e+00],\n",
       "       [  1.00000000e+00,  -3.38965464e+00,   1.14897586e+01],\n",
       "       [  1.00000000e+00,   6.59943799e+00,   4.35525818e+01],\n",
       "       [  1.00000000e+00,  -9.70263518e-01,   9.41411294e-01],\n",
       "       [  1.00000000e+00,  -1.85780143e+00,   3.45142614e+00],\n",
       "       [  1.00000000e+00,  -3.02171533e+00,   9.13076351e+00],\n",
       "       [  1.00000000e+00,   1.14822249e+00,   1.31841489e+00],\n",
       "       [  1.00000000e+00,  -4.78211505e+00,   2.28686244e+01],\n",
       "       [  1.00000000e+00,   3.33506083e+00,   1.11226308e+01],\n",
       "       [  1.00000000e+00,  -2.16055183e+00,   4.66798420e+00],\n",
       "       [  1.00000000e+00,   3.88249562e-01,   1.50737722e-01],\n",
       "       [  1.00000000e+00,  -1.98902795e+00,   3.95623218e+00],\n",
       "       [  1.00000000e+00,   1.77548279e+00,   3.15233914e+00],\n",
       "       [  1.00000000e+00,   3.54906813e+00,   1.25958846e+01],\n",
       "       [  1.00000000e+00,   5.85934149e+00,   3.43318827e+01],\n",
       "       [  1.00000000e+00,  -9.31079555e-01,   8.66909137e-01],\n",
       "       [  1.00000000e+00,  -4.80866268e-01,   2.31232368e-01],\n",
       "       [  1.00000000e+00,   4.74396168e+00,   2.25051724e+01],\n",
       "       [  1.00000000e+00,  -6.98445958e+00,   4.87826756e+01],\n",
       "       [  1.00000000e+00,   6.13608474e+00,   3.76515359e+01],\n",
       "       [  1.00000000e+00,   1.78600116e+00,   3.18980014e+00],\n",
       "       [  1.00000000e+00,  -6.11374447e+00,   3.73778715e+01],\n",
       "       [  1.00000000e+00,  -6.27982595e+00,   3.94362140e+01],\n",
       "       [  1.00000000e+00,   5.67172473e-01,   3.21684614e-01],\n",
       "       [  1.00000000e+00,  -1.09725169e+01,   1.20396127e+02],\n",
       "       [  1.00000000e+00,  -2.55840501e+00,   6.54543618e+00],\n",
       "       [  1.00000000e+00,   1.25520372e+01,   1.57553638e+02]])"
      ]
     },
     "execution_count": 41,
     "metadata": {},
     "output_type": "execute_result"
    }
   ],
   "source": [
    "from sklearn.preprocessing import PolynomialFeatures\n",
    "\n",
    "poly_features = PolynomialFeatures(degree=2, include_bias=True)\n",
    "X_poly = poly_features.fit_transform(X)\n",
    "X_poly"
   ]
  },
  {
   "cell_type": "code",
   "execution_count": 40,
   "metadata": {},
   "outputs": [
    {
     "data": {
      "text/plain": [
       "(array([ 2.06977451]), array([[ 1.00166392,  0.4981362 ]]))"
      ]
     },
     "execution_count": 40,
     "metadata": {},
     "output_type": "execute_result"
    }
   ],
   "source": [
    "lin_reg = LinearRegression()\n",
    "lin_reg.fit(X_poly, y)\n",
    "lin_reg.intercept_, lin_reg.coef_"
   ]
  },
  {
   "cell_type": "code",
   "execution_count": null,
   "metadata": {
    "collapsed": true
   },
   "outputs": [],
   "source": [
    "def plot_learning_curves(model, X, y):\n",
    "    X_train, X_val, y_train"
   ]
  },
  {
   "cell_type": "code",
   "execution_count": 84,
   "metadata": {
    "collapsed": true
   },
   "outputs": [],
   "source": [
    "np.array?"
   ]
  },
  {
   "cell_type": "code",
   "execution_count": 31,
   "metadata": {
    "collapsed": true
   },
   "outputs": [],
   "source": [
    "y.ravel?"
   ]
  }
 ],
 "metadata": {
  "kernelspec": {
   "display_name": "Python (root)",
   "language": "python",
   "name": "myenv"
  },
  "language_info": {
   "codemirror_mode": {
    "name": "ipython",
    "version": 3
   },
   "file_extension": ".py",
   "mimetype": "text/x-python",
   "name": "python",
   "nbconvert_exporter": "python",
   "pygments_lexer": "ipython3",
   "version": "3.6.1"
  }
 },
 "nbformat": 4,
 "nbformat_minor": 2
}
