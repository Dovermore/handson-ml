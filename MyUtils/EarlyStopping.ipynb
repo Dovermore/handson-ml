{
 "cells": [
  {
   "cell_type": "code",
   "execution_count": 117,
   "metadata": {
    "ExecuteTime": {
     "end_time": "2018-03-09T06:33:21.421217Z",
     "start_time": "2018-03-09T06:33:21.336170Z"
    }
   },
   "outputs": [],
   "source": [
    "class EarlyStopping():\n",
    "    \n",
    "    '''\n",
    "    Constructor of class EarlyStopping\n",
    "    Argument:\n",
    "        mdrop: The number of drop before terminate the training process\n",
    "        thresh: Threshold value for comparison\n",
    "        operation: callable or string indicating the comparison process\n",
    "                   E.g. \"<\" will compare current val < threshold\n",
    "                   The callable need to have two input argument of (a, b)\n",
    "                   and return True or False\n",
    "    '''\n",
    "    operations = [\"<\", \">\", \"<=\", \">=\", \"==\"]\n",
    "    \n",
    "    def __init__(self, mdrop, thresh=0, operation=\">\"):\n",
    "        self.mdrop = mdrop\n",
    "        self.cdrop = 0\n",
    "        self.thresh = thresh\n",
    "        if not (operation in self.operations or callable(operation)):\n",
    "            raise TypeError(\"Invalid operation input. The valid operations \\\n",
    "are {}, or callable. But {} are passed.\".format(self.operations, \n",
    "                           operation))\n",
    "            \n",
    "        self.operation = operation\n",
    "        self.records = []\n",
    "\n",
    "    \n",
    "    def __compare_val(self):\n",
    "        ans = False\n",
    "        if not callable(self.operation):\n",
    "            ans = eval(\"{}{}{}\".format(self.records[-1], \n",
    "                                        self.operation, self.thresh))\n",
    "        else:\n",
    "            ans = self.operation(self.records[-1], self.thresh)\n",
    "        return ans\n",
    "        \n",
    "    def check_val(self, new_val):\n",
    "        \n",
    "        self.records.append(new_val)\n",
    "        if (self.__compare_val() > 0):\n",
    "            self.thresh = self.records[-1]\n",
    "            self.cdrop = 0\n",
    "        else:\n",
    "            self.cdrop += 1\n",
    "        \n",
    "        if self.cdrop >= self.mdrop:\n",
    "            print(\"***\\nEarly Stopping!\")\n",
    "            print(\"\\tcdrop={}, mdrop={}\".format(self.cdrop, self.mdrop))\n",
    "            print(\"\\tThe threshold is {} at iteration {}\".format(self.thresh, \n",
    "                                            len(self.records)-self.mdrop))\n",
    "            print(\"\\tThe previous values are:\", self.records[-self.mdrop:])\n",
    "            return False\n",
    "        return True"
   ]
  }
 ],
 "metadata": {
  "kernelspec": {
   "display_name": "Python 3",
   "language": "python",
   "name": "python3"
  },
  "language_info": {
   "codemirror_mode": {
    "name": "ipython",
    "version": 3
   },
   "file_extension": ".py",
   "mimetype": "text/x-python",
   "name": "python",
   "nbconvert_exporter": "python",
   "pygments_lexer": "ipython3",
   "version": "3.6.3"
  },
  "varInspector": {
   "cols": {
    "lenName": 16,
    "lenType": 16,
    "lenVar": 40
   },
   "kernels_config": {
    "python": {
     "delete_cmd_postfix": "",
     "delete_cmd_prefix": "del ",
     "library": "var_list.py",
     "varRefreshCmd": "print(var_dic_list())"
    },
    "r": {
     "delete_cmd_postfix": ") ",
     "delete_cmd_prefix": "rm(",
     "library": "var_list.r",
     "varRefreshCmd": "cat(var_dic_list()) "
    }
   },
   "types_to_exclude": [
    "module",
    "function",
    "builtin_function_or_method",
    "instance",
    "_Feature"
   ],
   "window_display": false
  }
 },
 "nbformat": 4,
 "nbformat_minor": 2
}
