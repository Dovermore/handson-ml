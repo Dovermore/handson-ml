{
 "cells": [
  {
   "cell_type": "markdown",
   "metadata": {},
   "source": [
    "## Import library and data and split data"
   ]
  },
  {
   "cell_type": "code",
   "execution_count": 19,
   "metadata": {
    "collapsed": true
   },
   "outputs": [],
   "source": [
    "import numpy as np\n",
    "import matplotlib\n",
    "import matplotlib.pyplot as plt\n",
    "import pandas as pd\n",
    "from sklearn.svm import LinearSVR, SVR\n",
    "from sklearn.linear_model import SGDRegressor\n",
    "from sklearn import datasets\n",
    "from sklearn.preprocessing import StandardScaler\n",
    "from sklearn.metrics import accuracy_score"
   ]
  },
  {
   "cell_type": "code",
   "execution_count": 16,
   "metadata": {},
   "outputs": [
    {
     "data": {
      "text/plain": [
       "(16512, 8)"
      ]
     },
     "execution_count": 16,
     "metadata": {},
     "output_type": "execute_result"
    }
   ],
   "source": [
    "from sklearn.datasets import fetch_california_housing\n",
    "from sklearn.model_selection import train_test_split\n",
    "\n",
    "\n",
    "housing = fetch_california_housing()\n",
    "X = StandardScaler().fit_transform(housing[\"data\"])\n",
    "y = housing[\"target\"]\n",
    "\n",
    "X_train, X_test, y_train, y_test = train_test_split(X, y, test_size=0.2)\n",
    "\n",
    "X_train.shape"
   ]
  },
  {
   "cell_type": "code",
   "execution_count": 17,
   "metadata": {},
   "outputs": [
    {
     "data": {
      "text/plain": [
       "-0.00092779378616903081"
      ]
     },
     "execution_count": 17,
     "metadata": {},
     "output_type": "execute_result"
    }
   ],
   "source": [
    "X_train.mean()"
   ]
  },
  {
   "cell_type": "code",
   "execution_count": 18,
   "metadata": {},
   "outputs": [
    {
     "data": {
      "text/plain": [
       "array([ 5.00001,  2.282  ,  3.056  , ...,  0.922  ,  1.518  ,  0.62   ])"
      ]
     },
     "execution_count": 18,
     "metadata": {},
     "output_type": "execute_result"
    }
   ],
   "source": [
    "y_train"
   ]
  },
  {
   "cell_type": "markdown",
   "metadata": {},
   "source": [
    "## Start Model and Train the model prototype"
   ]
  },
  {
   "cell_type": "markdown",
   "metadata": {},
   "source": [
    "### First lets try linear Model"
   ]
  },
  {
   "cell_type": "code",
   "execution_count": 24,
   "metadata": {
    "collapsed": true
   },
   "outputs": [],
   "source": [
    "lin_svr = LinearSVR(loss='squared_epsilon_insensitive', dual=False)"
   ]
  },
  {
   "cell_type": "code",
   "execution_count": 25,
   "metadata": {},
   "outputs": [
    {
     "data": {
      "text/plain": [
       "LinearSVR(C=1.0, dual=False, epsilon=0.0, fit_intercept=True,\n",
       "     intercept_scaling=1.0, loss='squared_epsilon_insensitive',\n",
       "     max_iter=1000, random_state=None, tol=0.0001, verbose=0)"
      ]
     },
     "execution_count": 25,
     "metadata": {},
     "output_type": "execute_result"
    }
   ],
   "source": [
    "lin_svr.fit(X_train, y_train)"
   ]
  },
  {
   "cell_type": "code",
   "execution_count": 26,
   "metadata": {
    "collapsed": true
   },
   "outputs": [],
   "source": [
    "from sklearn.metrics import mean_squared_error"
   ]
  },
  {
   "cell_type": "code",
   "execution_count": 29,
   "metadata": {},
   "outputs": [
    {
     "data": {
      "text/plain": [
       "0.71555297827319209"
      ]
     },
     "execution_count": 29,
     "metadata": {},
     "output_type": "execute_result"
    }
   ],
   "source": [
    "mse_lin = mean_squared_error(y_train, lin_svr.predict(X_train))\n",
    "rmse_lin = np.sqrt(mse_lin)\n",
    "rmse_lin"
   ]
  },
  {
   "cell_type": "markdown",
   "metadata": {},
   "source": [
    "### Then Use kernelized search with RBFkernel"
   ]
  },
  {
   "cell_type": "code",
   "execution_count": 30,
   "metadata": {
    "collapsed": true
   },
   "outputs": [],
   "source": [
    "ker_svr = SVR()"
   ]
  },
  {
   "cell_type": "code",
   "execution_count": 31,
   "metadata": {},
   "outputs": [
    {
     "data": {
      "text/plain": [
       "SVR(C=1.0, cache_size=200, coef0=0.0, degree=3, epsilon=0.1, gamma='auto',\n",
       "  kernel='rbf', max_iter=-1, shrinking=True, tol=0.001, verbose=False)"
      ]
     },
     "execution_count": 31,
     "metadata": {},
     "output_type": "execute_result"
    }
   ],
   "source": [
    "ker_svr.fit(X_train, y_train)"
   ]
  },
  {
   "cell_type": "code",
   "execution_count": 33,
   "metadata": {},
   "outputs": [
    {
     "data": {
      "text/plain": [
       "0.57504938363002644"
      ]
     },
     "execution_count": 33,
     "metadata": {},
     "output_type": "execute_result"
    }
   ],
   "source": [
    "mse_ker = mean_squared_error(y_train, ker_svr.predict(X_train))\n",
    "rmse_ker = np.sqrt(mse_ker)\n",
    "rmse_ker"
   ]
  },
  {
   "cell_type": "markdown",
   "metadata": {},
   "source": [
    "###  Seems rbf kernel is better\n",
    "\n",
    "Let's try a grid search on this model"
   ]
  },
  {
   "cell_type": "code",
   "execution_count": 37,
   "metadata": {},
   "outputs": [],
   "source": [
    "from sklearn.model_selection import RandomizedSearchCV\n",
    "from scipy.stats import reciprocal, uniform"
   ]
  },
  {
   "cell_type": "code",
   "execution_count": 39,
   "metadata": {},
   "outputs": [],
   "source": [
    "param_dict = {\n",
    "    \n",
    "}\n",
    "\n",
    "param_dict = {\"gamma\": reciprocal(0.001, 0.1), \"C\": uniform(1, 10)}\n",
    "rand_ker_svr=RandomizedSearchCV(ker_svr, param_dict, verbose=2, n_iter=50, scoring=\"neg_mean_squared_error\")"
   ]
  },
  {
   "cell_type": "markdown",
   "metadata": {},
   "source": [
    "Create a smaller training set for value exploration"
   ]
  },
  {
   "cell_type": "code",
   "execution_count": 40,
   "metadata": {
    "collapsed": true
   },
   "outputs": [],
   "source": [
    "small_size = 2000\n",
    "X_train_small = X_train[:small_size]\n",
    "y_train_small = y_train[:small_size]"
   ]
  },
  {
   "cell_type": "markdown",
   "metadata": {},
   "source": [
    "Now do the randomized gird search"
   ]
  },
  {
   "cell_type": "code",
   "execution_count": 41,
   "metadata": {},
   "outputs": [
    {
     "name": "stdout",
     "output_type": "stream",
     "text": [
      "Fitting 3 folds for each of 50 candidates, totalling 150 fits\n",
      "[CV] C=9.82296394959, gamma=0.0141464620499 ..........................\n",
      "[CV] ........... C=9.82296394959, gamma=0.0141464620499, total=   0.1s\n",
      "[CV] C=9.82296394959, gamma=0.0141464620499 ..........................\n"
     ]
    },
    {
     "name": "stderr",
     "output_type": "stream",
     "text": [
      "[Parallel(n_jobs=1)]: Done   1 out of   1 | elapsed:    0.2s remaining:    0.0s\n"
     ]
    },
    {
     "name": "stdout",
     "output_type": "stream",
     "text": [
      "[CV] ........... C=9.82296394959, gamma=0.0141464620499, total=   0.1s\n",
      "[CV] C=9.82296394959, gamma=0.0141464620499 ..........................\n",
      "[CV] ........... C=9.82296394959, gamma=0.0141464620499, total=   0.1s\n",
      "[CV] C=1.94482789257, gamma=0.0589802173355 ..........................\n",
      "[CV] ........... C=1.94482789257, gamma=0.0589802173355, total=   0.1s\n",
      "[CV] C=1.94482789257, gamma=0.0589802173355 ..........................\n",
      "[CV] ........... C=1.94482789257, gamma=0.0589802173355, total=   0.1s\n",
      "[CV] C=1.94482789257, gamma=0.0589802173355 ..........................\n",
      "[CV] ........... C=1.94482789257, gamma=0.0589802173355, total=   0.1s\n",
      "[CV] C=1.77393880573, gamma=0.00113181656648 .........................\n",
      "[CV] .......... C=1.77393880573, gamma=0.00113181656648, total=   0.1s\n",
      "[CV] C=1.77393880573, gamma=0.00113181656648 .........................\n",
      "[CV] .......... C=1.77393880573, gamma=0.00113181656648, total=   0.1s\n",
      "[CV] C=1.77393880573, gamma=0.00113181656648 .........................\n",
      "[CV] .......... C=1.77393880573, gamma=0.00113181656648, total=   0.1s\n",
      "[CV] C=5.77005139075, gamma=0.0593546576453 ..........................\n",
      "[CV] ........... C=5.77005139075, gamma=0.0593546576453, total=   0.1s\n",
      "[CV] C=5.77005139075, gamma=0.0593546576453 ..........................\n",
      "[CV] ........... C=5.77005139075, gamma=0.0593546576453, total=   0.1s\n",
      "[CV] C=5.77005139075, gamma=0.0593546576453 ..........................\n",
      "[CV] ........... C=5.77005139075, gamma=0.0593546576453, total=   0.1s\n",
      "[CV] C=2.24424580502, gamma=0.00783288079173 .........................\n",
      "[CV] .......... C=2.24424580502, gamma=0.00783288079173, total=   0.1s\n",
      "[CV] C=2.24424580502, gamma=0.00783288079173 .........................\n",
      "[CV] .......... C=2.24424580502, gamma=0.00783288079173, total=   0.1s\n",
      "[CV] C=2.24424580502, gamma=0.00783288079173 .........................\n",
      "[CV] .......... C=2.24424580502, gamma=0.00783288079173, total=   0.1s\n",
      "[CV] C=9.90191434331, gamma=0.00260941573824 .........................\n",
      "[CV] .......... C=9.90191434331, gamma=0.00260941573824, total=   0.1s\n",
      "[CV] C=9.90191434331, gamma=0.00260941573824 .........................\n",
      "[CV] .......... C=9.90191434331, gamma=0.00260941573824, total=   0.1s\n",
      "[CV] C=9.90191434331, gamma=0.00260941573824 .........................\n",
      "[CV] .......... C=9.90191434331, gamma=0.00260941573824, total=   0.1s\n",
      "[CV] C=2.72534095056, gamma=0.0784332550116 ..........................\n",
      "[CV] ........... C=2.72534095056, gamma=0.0784332550116, total=   0.1s\n",
      "[CV] C=2.72534095056, gamma=0.0784332550116 ..........................\n",
      "[CV] ........... C=2.72534095056, gamma=0.0784332550116, total=   0.1s\n",
      "[CV] C=2.72534095056, gamma=0.0784332550116 ..........................\n",
      "[CV] ........... C=2.72534095056, gamma=0.0784332550116, total=   0.1s\n",
      "[CV] C=10.6562971383, gamma=0.0683625316891 ..........................\n",
      "[CV] ........... C=10.6562971383, gamma=0.0683625316891, total=   0.1s\n",
      "[CV] C=10.6562971383, gamma=0.0683625316891 ..........................\n",
      "[CV] ........... C=10.6562971383, gamma=0.0683625316891, total=   0.1s\n",
      "[CV] C=10.6562971383, gamma=0.0683625316891 ..........................\n",
      "[CV] ........... C=10.6562971383, gamma=0.0683625316891, total=   0.2s\n",
      "[CV] C=6.81360716686, gamma=0.0192688698886 ..........................\n",
      "[CV] ........... C=6.81360716686, gamma=0.0192688698886, total=   0.1s\n",
      "[CV] C=6.81360716686, gamma=0.0192688698886 ..........................\n",
      "[CV] ........... C=6.81360716686, gamma=0.0192688698886, total=   0.1s\n",
      "[CV] C=6.81360716686, gamma=0.0192688698886 ..........................\n",
      "[CV] ........... C=6.81360716686, gamma=0.0192688698886, total=   0.1s\n",
      "[CV] C=5.75758780282, gamma=0.00279278812219 .........................\n",
      "[CV] .......... C=5.75758780282, gamma=0.00279278812219, total=   0.1s\n",
      "[CV] C=5.75758780282, gamma=0.00279278812219 .........................\n",
      "[CV] .......... C=5.75758780282, gamma=0.00279278812219, total=   0.1s\n",
      "[CV] C=5.75758780282, gamma=0.00279278812219 .........................\n",
      "[CV] .......... C=5.75758780282, gamma=0.00279278812219, total=   0.1s\n",
      "[CV] C=3.76443659589, gamma=0.02490189734 ............................\n",
      "[CV] ............. C=3.76443659589, gamma=0.02490189734, total=   0.1s\n",
      "[CV] C=3.76443659589, gamma=0.02490189734 ............................\n",
      "[CV] ............. C=3.76443659589, gamma=0.02490189734, total=   0.1s\n",
      "[CV] C=3.76443659589, gamma=0.02490189734 ............................\n",
      "[CV] ............. C=3.76443659589, gamma=0.02490189734, total=   0.1s\n",
      "[CV] C=3.88275719721, gamma=0.00583767826403 .........................\n",
      "[CV] .......... C=3.88275719721, gamma=0.00583767826403, total=   0.1s\n",
      "[CV] C=3.88275719721, gamma=0.00583767826403 .........................\n",
      "[CV] .......... C=3.88275719721, gamma=0.00583767826403, total=   0.2s\n",
      "[CV] C=3.88275719721, gamma=0.00583767826403 .........................\n",
      "[CV] .......... C=3.88275719721, gamma=0.00583767826403, total=   0.2s\n",
      "[CV] C=9.20453532566, gamma=0.0954070417087 ..........................\n",
      "[CV] ........... C=9.20453532566, gamma=0.0954070417087, total=   0.2s\n",
      "[CV] C=9.20453532566, gamma=0.0954070417087 ..........................\n",
      "[CV] ........... C=9.20453532566, gamma=0.0954070417087, total=   0.2s\n",
      "[CV] C=9.20453532566, gamma=0.0954070417087 ..........................\n",
      "[CV] ........... C=9.20453532566, gamma=0.0954070417087, total=   0.2s\n",
      "[CV] C=4.57498952392, gamma=0.00157580920319 .........................\n",
      "[CV] .......... C=4.57498952392, gamma=0.00157580920319, total=   0.1s\n",
      "[CV] C=4.57498952392, gamma=0.00157580920319 .........................\n",
      "[CV] .......... C=4.57498952392, gamma=0.00157580920319, total=   0.1s\n",
      "[CV] C=4.57498952392, gamma=0.00157580920319 .........................\n",
      "[CV] .......... C=4.57498952392, gamma=0.00157580920319, total=   0.1s\n",
      "[CV] C=4.47613147863, gamma=0.00511156522813 .........................\n",
      "[CV] .......... C=4.47613147863, gamma=0.00511156522813, total=   0.1s\n",
      "[CV] C=4.47613147863, gamma=0.00511156522813 .........................\n",
      "[CV] .......... C=4.47613147863, gamma=0.00511156522813, total=   0.1s\n",
      "[CV] C=4.47613147863, gamma=0.00511156522813 .........................\n",
      "[CV] .......... C=4.47613147863, gamma=0.00511156522813, total=   0.1s\n",
      "[CV] C=4.32577676681, gamma=0.0363487785973 ..........................\n",
      "[CV] ........... C=4.32577676681, gamma=0.0363487785973, total=   0.1s\n",
      "[CV] C=4.32577676681, gamma=0.0363487785973 ..........................\n",
      "[CV] ........... C=4.32577676681, gamma=0.0363487785973, total=   0.1s\n",
      "[CV] C=4.32577676681, gamma=0.0363487785973 ..........................\n",
      "[CV] ........... C=4.32577676681, gamma=0.0363487785973, total=   0.1s\n",
      "[CV] C=5.0511397429, gamma=0.00240551663365 ..........................\n",
      "[CV] ........... C=5.0511397429, gamma=0.00240551663365, total=   0.1s\n",
      "[CV] C=5.0511397429, gamma=0.00240551663365 ..........................\n",
      "[CV] ........... C=5.0511397429, gamma=0.00240551663365, total=   0.1s\n",
      "[CV] C=5.0511397429, gamma=0.00240551663365 ..........................\n",
      "[CV] ........... C=5.0511397429, gamma=0.00240551663365, total=   0.1s\n",
      "[CV] C=3.96569198449, gamma=0.0260173637735 ..........................\n",
      "[CV] ........... C=3.96569198449, gamma=0.0260173637735, total=   0.1s\n",
      "[CV] C=3.96569198449, gamma=0.0260173637735 ..........................\n",
      "[CV] ........... C=3.96569198449, gamma=0.0260173637735, total=   0.1s\n",
      "[CV] C=3.96569198449, gamma=0.0260173637735 ..........................\n",
      "[CV] ........... C=3.96569198449, gamma=0.0260173637735, total=   0.1s\n",
      "[CV] C=3.83172346358, gamma=0.0502229688032 ..........................\n",
      "[CV] ........... C=3.83172346358, gamma=0.0502229688032, total=   0.1s\n",
      "[CV] C=3.83172346358, gamma=0.0502229688032 ..........................\n",
      "[CV] ........... C=3.83172346358, gamma=0.0502229688032, total=   0.1s\n",
      "[CV] C=3.83172346358, gamma=0.0502229688032 ..........................\n",
      "[CV] ........... C=3.83172346358, gamma=0.0502229688032, total=   0.1s\n",
      "[CV] C=6.78550251093, gamma=0.0455932511407 ..........................\n",
      "[CV] ........... C=6.78550251093, gamma=0.0455932511407, total=   0.1s\n",
      "[CV] C=6.78550251093, gamma=0.0455932511407 ..........................\n",
      "[CV] ........... C=6.78550251093, gamma=0.0455932511407, total=   0.1s\n",
      "[CV] C=6.78550251093, gamma=0.0455932511407 ..........................\n",
      "[CV] ........... C=6.78550251093, gamma=0.0455932511407, total=   0.1s\n",
      "[CV] C=4.82875922648, gamma=0.0189452252128 ..........................\n"
     ]
    },
    {
     "name": "stdout",
     "output_type": "stream",
     "text": [
      "[CV] ........... C=4.82875922648, gamma=0.0189452252128, total=   0.1s\n",
      "[CV] C=4.82875922648, gamma=0.0189452252128 ..........................\n",
      "[CV] ........... C=4.82875922648, gamma=0.0189452252128, total=   0.1s\n",
      "[CV] C=4.82875922648, gamma=0.0189452252128 ..........................\n",
      "[CV] ........... C=4.82875922648, gamma=0.0189452252128, total=   0.1s\n",
      "[CV] C=5.81341213795, gamma=0.0522605564537 ..........................\n",
      "[CV] ........... C=5.81341213795, gamma=0.0522605564537, total=   0.1s\n",
      "[CV] C=5.81341213795, gamma=0.0522605564537 ..........................\n",
      "[CV] ........... C=5.81341213795, gamma=0.0522605564537, total=   0.1s\n",
      "[CV] C=5.81341213795, gamma=0.0522605564537 ..........................\n",
      "[CV] ........... C=5.81341213795, gamma=0.0522605564537, total=   0.1s\n",
      "[CV] C=3.96816127129, gamma=0.0176230742221 ..........................\n",
      "[CV] ........... C=3.96816127129, gamma=0.0176230742221, total=   0.1s\n",
      "[CV] C=3.96816127129, gamma=0.0176230742221 ..........................\n",
      "[CV] ........... C=3.96816127129, gamma=0.0176230742221, total=   0.1s\n",
      "[CV] C=3.96816127129, gamma=0.0176230742221 ..........................\n",
      "[CV] ........... C=3.96816127129, gamma=0.0176230742221, total=   0.1s\n",
      "[CV] C=8.2037933048, gamma=0.0228684176981 ...........................\n",
      "[CV] ............ C=8.2037933048, gamma=0.0228684176981, total=   0.1s\n",
      "[CV] C=8.2037933048, gamma=0.0228684176981 ...........................\n",
      "[CV] ............ C=8.2037933048, gamma=0.0228684176981, total=   0.1s\n",
      "[CV] C=8.2037933048, gamma=0.0228684176981 ...........................\n",
      "[CV] ............ C=8.2037933048, gamma=0.0228684176981, total=   0.1s\n",
      "[CV] C=8.10444017192, gamma=0.0193357735756 ..........................\n",
      "[CV] ........... C=8.10444017192, gamma=0.0193357735756, total=   0.1s\n",
      "[CV] C=8.10444017192, gamma=0.0193357735756 ..........................\n",
      "[CV] ........... C=8.10444017192, gamma=0.0193357735756, total=   0.1s\n",
      "[CV] C=8.10444017192, gamma=0.0193357735756 ..........................\n",
      "[CV] ........... C=8.10444017192, gamma=0.0193357735756, total=   0.1s\n",
      "[CV] C=7.34605217291, gamma=0.0427101018768 ..........................\n",
      "[CV] ........... C=7.34605217291, gamma=0.0427101018768, total=   0.1s\n",
      "[CV] C=7.34605217291, gamma=0.0427101018768 ..........................\n",
      "[CV] ........... C=7.34605217291, gamma=0.0427101018768, total=   0.1s\n",
      "[CV] C=7.34605217291, gamma=0.0427101018768 ..........................\n",
      "[CV] ........... C=7.34605217291, gamma=0.0427101018768, total=   0.1s\n",
      "[CV] C=5.0016022495, gamma=0.0071196112501 ...........................\n",
      "[CV] ............ C=5.0016022495, gamma=0.0071196112501, total=   0.1s\n",
      "[CV] C=5.0016022495, gamma=0.0071196112501 ...........................\n",
      "[CV] ............ C=5.0016022495, gamma=0.0071196112501, total=   0.1s\n",
      "[CV] C=5.0016022495, gamma=0.0071196112501 ...........................\n",
      "[CV] ............ C=5.0016022495, gamma=0.0071196112501, total=   0.1s\n",
      "[CV] C=8.4840001253, gamma=0.0028813501174 ...........................\n",
      "[CV] ............ C=8.4840001253, gamma=0.0028813501174, total=   0.1s\n",
      "[CV] C=8.4840001253, gamma=0.0028813501174 ...........................\n",
      "[CV] ............ C=8.4840001253, gamma=0.0028813501174, total=   0.1s\n",
      "[CV] C=8.4840001253, gamma=0.0028813501174 ...........................\n",
      "[CV] ............ C=8.4840001253, gamma=0.0028813501174, total=   0.1s\n",
      "[CV] C=5.20927173562, gamma=0.0307708904681 ..........................\n",
      "[CV] ........... C=5.20927173562, gamma=0.0307708904681, total=   0.1s\n",
      "[CV] C=5.20927173562, gamma=0.0307708904681 ..........................\n",
      "[CV] ........... C=5.20927173562, gamma=0.0307708904681, total=   0.1s\n",
      "[CV] C=5.20927173562, gamma=0.0307708904681 ..........................\n",
      "[CV] ........... C=5.20927173562, gamma=0.0307708904681, total=   0.1s\n",
      "[CV] C=6.77097667966, gamma=0.0294251967732 ..........................\n",
      "[CV] ........... C=6.77097667966, gamma=0.0294251967732, total=   0.1s\n",
      "[CV] C=6.77097667966, gamma=0.0294251967732 ..........................\n",
      "[CV] ........... C=6.77097667966, gamma=0.0294251967732, total=   0.1s\n",
      "[CV] C=6.77097667966, gamma=0.0294251967732 ..........................\n",
      "[CV] ........... C=6.77097667966, gamma=0.0294251967732, total=   0.1s\n",
      "[CV] C=5.27721397585, gamma=0.00215908390927 .........................\n",
      "[CV] .......... C=5.27721397585, gamma=0.00215908390927, total=   0.1s\n",
      "[CV] C=5.27721397585, gamma=0.00215908390927 .........................\n",
      "[CV] .......... C=5.27721397585, gamma=0.00215908390927, total=   0.1s\n",
      "[CV] C=5.27721397585, gamma=0.00215908390927 .........................\n",
      "[CV] .......... C=5.27721397585, gamma=0.00215908390927, total=   0.1s\n",
      "[CV] C=9.12672964984, gamma=0.00177363117546 .........................\n",
      "[CV] .......... C=9.12672964984, gamma=0.00177363117546, total=   0.1s\n",
      "[CV] C=9.12672964984, gamma=0.00177363117546 .........................\n",
      "[CV] .......... C=9.12672964984, gamma=0.00177363117546, total=   0.1s\n",
      "[CV] C=9.12672964984, gamma=0.00177363117546 .........................\n",
      "[CV] .......... C=9.12672964984, gamma=0.00177363117546, total=   0.1s\n",
      "[CV] C=6.48618583321, gamma=0.00148608159342 .........................\n",
      "[CV] .......... C=6.48618583321, gamma=0.00148608159342, total=   0.1s\n",
      "[CV] C=6.48618583321, gamma=0.00148608159342 .........................\n",
      "[CV] .......... C=6.48618583321, gamma=0.00148608159342, total=   0.1s\n",
      "[CV] C=6.48618583321, gamma=0.00148608159342 .........................\n",
      "[CV] .......... C=6.48618583321, gamma=0.00148608159342, total=   0.1s\n",
      "[CV] C=8.85746594323, gamma=0.0820853510314 ..........................\n",
      "[CV] ........... C=8.85746594323, gamma=0.0820853510314, total=   0.1s\n",
      "[CV] C=8.85746594323, gamma=0.0820853510314 ..........................\n",
      "[CV] ........... C=8.85746594323, gamma=0.0820853510314, total=   0.2s\n",
      "[CV] C=8.85746594323, gamma=0.0820853510314 ..........................\n",
      "[CV] ........... C=8.85746594323, gamma=0.0820853510314, total=   0.1s\n",
      "[CV] C=3.66151083548, gamma=0.00374865190293 .........................\n",
      "[CV] .......... C=3.66151083548, gamma=0.00374865190293, total=   0.1s\n",
      "[CV] C=3.66151083548, gamma=0.00374865190293 .........................\n",
      "[CV] .......... C=3.66151083548, gamma=0.00374865190293, total=   0.1s\n",
      "[CV] C=3.66151083548, gamma=0.00374865190293 .........................\n",
      "[CV] .......... C=3.66151083548, gamma=0.00374865190293, total=   0.1s\n",
      "[CV] C=6.68905525202, gamma=0.0228913450106 ..........................\n",
      "[CV] ........... C=6.68905525202, gamma=0.0228913450106, total=   0.1s\n",
      "[CV] C=6.68905525202, gamma=0.0228913450106 ..........................\n",
      "[CV] ........... C=6.68905525202, gamma=0.0228913450106, total=   0.1s\n",
      "[CV] C=6.68905525202, gamma=0.0228913450106 ..........................\n",
      "[CV] ........... C=6.68905525202, gamma=0.0228913450106, total=   0.1s\n",
      "[CV] C=9.2900341476, gamma=0.0263713689717 ...........................\n",
      "[CV] ............ C=9.2900341476, gamma=0.0263713689717, total=   0.1s\n",
      "[CV] C=9.2900341476, gamma=0.0263713689717 ...........................\n",
      "[CV] ............ C=9.2900341476, gamma=0.0263713689717, total=   0.1s\n",
      "[CV] C=9.2900341476, gamma=0.0263713689717 ...........................\n",
      "[CV] ............ C=9.2900341476, gamma=0.0263713689717, total=   0.1s\n",
      "[CV] C=5.33255599326, gamma=0.00160343905916 .........................\n",
      "[CV] .......... C=5.33255599326, gamma=0.00160343905916, total=   0.1s\n",
      "[CV] C=5.33255599326, gamma=0.00160343905916 .........................\n",
      "[CV] .......... C=5.33255599326, gamma=0.00160343905916, total=   0.1s\n",
      "[CV] C=5.33255599326, gamma=0.00160343905916 .........................\n",
      "[CV] .......... C=5.33255599326, gamma=0.00160343905916, total=   0.1s\n",
      "[CV] C=1.7673314106, gamma=0.017023303776 ............................\n",
      "[CV] ............. C=1.7673314106, gamma=0.017023303776, total=   0.1s\n",
      "[CV] C=1.7673314106, gamma=0.017023303776 ............................\n",
      "[CV] ............. C=1.7673314106, gamma=0.017023303776, total=   0.1s\n",
      "[CV] C=1.7673314106, gamma=0.017023303776 ............................\n",
      "[CV] ............. C=1.7673314106, gamma=0.017023303776, total=   0.1s\n",
      "[CV] C=6.62520319159, gamma=0.0998001853281 ..........................\n",
      "[CV] ........... C=6.62520319159, gamma=0.0998001853281, total=   0.1s\n",
      "[CV] C=6.62520319159, gamma=0.0998001853281 ..........................\n"
     ]
    },
    {
     "name": "stdout",
     "output_type": "stream",
     "text": [
      "[CV] ........... C=6.62520319159, gamma=0.0998001853281, total=   0.1s\n",
      "[CV] C=6.62520319159, gamma=0.0998001853281 ..........................\n",
      "[CV] ........... C=6.62520319159, gamma=0.0998001853281, total=   0.1s\n",
      "[CV] C=3.72631591669, gamma=0.0100813109296 ..........................\n",
      "[CV] ........... C=3.72631591669, gamma=0.0100813109296, total=   0.1s\n",
      "[CV] C=3.72631591669, gamma=0.0100813109296 ..........................\n",
      "[CV] ........... C=3.72631591669, gamma=0.0100813109296, total=   0.1s\n",
      "[CV] C=3.72631591669, gamma=0.0100813109296 ..........................\n",
      "[CV] ........... C=3.72631591669, gamma=0.0100813109296, total=   0.1s\n",
      "[CV] C=4.41634594057, gamma=0.00467538239874 .........................\n",
      "[CV] .......... C=4.41634594057, gamma=0.00467538239874, total=   0.1s\n",
      "[CV] C=4.41634594057, gamma=0.00467538239874 .........................\n",
      "[CV] .......... C=4.41634594057, gamma=0.00467538239874, total=   0.1s\n",
      "[CV] C=4.41634594057, gamma=0.00467538239874 .........................\n",
      "[CV] .......... C=4.41634594057, gamma=0.00467538239874, total=   0.1s\n",
      "[CV] C=7.06832121841, gamma=0.0614630693073 ..........................\n",
      "[CV] ........... C=7.06832121841, gamma=0.0614630693073, total=   0.1s\n",
      "[CV] C=7.06832121841, gamma=0.0614630693073 ..........................\n",
      "[CV] ........... C=7.06832121841, gamma=0.0614630693073, total=   0.1s\n",
      "[CV] C=7.06832121841, gamma=0.0614630693073 ..........................\n",
      "[CV] ........... C=7.06832121841, gamma=0.0614630693073, total=   0.1s\n",
      "[CV] C=3.33918986982, gamma=0.00375895243312 .........................\n",
      "[CV] .......... C=3.33918986982, gamma=0.00375895243312, total=   0.1s\n",
      "[CV] C=3.33918986982, gamma=0.00375895243312 .........................\n",
      "[CV] .......... C=3.33918986982, gamma=0.00375895243312, total=   0.1s\n",
      "[CV] C=3.33918986982, gamma=0.00375895243312 .........................\n",
      "[CV] .......... C=3.33918986982, gamma=0.00375895243312, total=   0.1s\n",
      "[CV] C=3.18583435429, gamma=0.00242075306707 .........................\n",
      "[CV] .......... C=3.18583435429, gamma=0.00242075306707, total=   0.1s\n",
      "[CV] C=3.18583435429, gamma=0.00242075306707 .........................\n",
      "[CV] .......... C=3.18583435429, gamma=0.00242075306707, total=   0.1s\n",
      "[CV] C=3.18583435429, gamma=0.00242075306707 .........................\n",
      "[CV] .......... C=3.18583435429, gamma=0.00242075306707, total=   0.1s\n",
      "[CV] C=6.02691739131, gamma=0.0264814204384 ..........................\n",
      "[CV] ........... C=6.02691739131, gamma=0.0264814204384, total=   0.1s\n",
      "[CV] C=6.02691739131, gamma=0.0264814204384 ..........................\n",
      "[CV] ........... C=6.02691739131, gamma=0.0264814204384, total=   0.1s\n",
      "[CV] C=6.02691739131, gamma=0.0264814204384 ..........................\n",
      "[CV] ........... C=6.02691739131, gamma=0.0264814204384, total=   0.1s\n",
      "[CV] C=6.64611868566, gamma=0.00836638016966 .........................\n",
      "[CV] .......... C=6.64611868566, gamma=0.00836638016966, total=   0.1s\n",
      "[CV] C=6.64611868566, gamma=0.00836638016966 .........................\n",
      "[CV] .......... C=6.64611868566, gamma=0.00836638016966, total=   0.1s\n",
      "[CV] C=6.64611868566, gamma=0.00836638016966 .........................\n",
      "[CV] .......... C=6.64611868566, gamma=0.00836638016966, total=   0.1s\n",
      "[CV] C=2.56075374228, gamma=0.0212294961909 ..........................\n",
      "[CV] ........... C=2.56075374228, gamma=0.0212294961909, total=   0.1s\n",
      "[CV] C=2.56075374228, gamma=0.0212294961909 ..........................\n",
      "[CV] ........... C=2.56075374228, gamma=0.0212294961909, total=   0.1s\n",
      "[CV] C=2.56075374228, gamma=0.0212294961909 ..........................\n",
      "[CV] ........... C=2.56075374228, gamma=0.0212294961909, total=   0.1s\n",
      "[CV] C=7.33841977661, gamma=0.00132880056783 .........................\n",
      "[CV] .......... C=7.33841977661, gamma=0.00132880056783, total=   0.1s\n",
      "[CV] C=7.33841977661, gamma=0.00132880056783 .........................\n",
      "[CV] .......... C=7.33841977661, gamma=0.00132880056783, total=   0.1s\n",
      "[CV] C=7.33841977661, gamma=0.00132880056783 .........................\n",
      "[CV] .......... C=7.33841977661, gamma=0.00132880056783, total=   0.1s\n",
      "[CV] C=1.90634276584, gamma=0.00589038244728 .........................\n",
      "[CV] .......... C=1.90634276584, gamma=0.00589038244728, total=   0.1s\n",
      "[CV] C=1.90634276584, gamma=0.00589038244728 .........................\n",
      "[CV] .......... C=1.90634276584, gamma=0.00589038244728, total=   0.1s\n",
      "[CV] C=1.90634276584, gamma=0.00589038244728 .........................\n",
      "[CV] .......... C=1.90634276584, gamma=0.00589038244728, total=   0.1s\n"
     ]
    },
    {
     "name": "stderr",
     "output_type": "stream",
     "text": [
      "[Parallel(n_jobs=1)]: Done 150 out of 150 | elapsed:   19.6s finished\n"
     ]
    },
    {
     "data": {
      "text/plain": [
       "RandomizedSearchCV(cv=None, error_score='raise',\n",
       "          estimator=SVR(C=1.0, cache_size=200, coef0=0.0, degree=3, epsilon=0.1, gamma='auto',\n",
       "  kernel='rbf', max_iter=-1, shrinking=True, tol=0.001, verbose=False),\n",
       "          fit_params=None, iid=True, n_iter=50, n_jobs=1,\n",
       "          param_distributions={'gamma': <scipy.stats._distn_infrastructure.rv_frozen object at 0x10e995d30>, 'C': <scipy.stats._distn_infrastructure.rv_frozen object at 0x10d54b0f0>},\n",
       "          pre_dispatch='2*n_jobs', random_state=None, refit=True,\n",
       "          return_train_score=True, scoring='neg_mean_squared_error',\n",
       "          verbose=2)"
      ]
     },
     "execution_count": 41,
     "metadata": {},
     "output_type": "execute_result"
    }
   ],
   "source": [
    "rand_ker_svr.fit(X_train_small, y_train_small)"
   ]
  },
  {
   "cell_type": "code",
   "execution_count": 51,
   "metadata": {},
   "outputs": [
    {
     "data": {
      "text/plain": [
       "0.38351839849755115"
      ]
     },
     "execution_count": 51,
     "metadata": {},
     "output_type": "execute_result"
    }
   ],
   "source": [
    "results = -rand_ker_svr.best_score_\n",
    "results"
   ]
  },
  {
   "cell_type": "markdown",
   "metadata": {},
   "source": [
    "Seems much better, let's try it on a larger training set"
   ]
  },
  {
   "cell_type": "code",
   "execution_count": 53,
   "metadata": {},
   "outputs": [],
   "source": [
    "best_ker_svr = rand_ker_svr.best_estimator_"
   ]
  },
  {
   "cell_type": "code",
   "execution_count": 54,
   "metadata": {},
   "outputs": [
    {
     "data": {
      "text/plain": [
       "SVR(C=9.2045353256593661, cache_size=200, coef0=0.0, degree=3, epsilon=0.1,\n",
       "  gamma=0.095407041708655715, kernel='rbf', max_iter=-1, shrinking=True,\n",
       "  tol=0.001, verbose=False)"
      ]
     },
     "execution_count": 54,
     "metadata": {},
     "output_type": "execute_result"
    }
   ],
   "source": [
    "best_ker_svr.fit(X_train, y_train)"
   ]
  },
  {
   "cell_type": "code",
   "execution_count": 55,
   "metadata": {},
   "outputs": [
    {
     "data": {
      "text/plain": [
       "0.55099765950237567"
      ]
     },
     "execution_count": 55,
     "metadata": {},
     "output_type": "execute_result"
    }
   ],
   "source": [
    "mse_best_ker = mean_squared_error(y_train, best_ker_svr.predict(X_train))\n",
    "rmse_best_ker = np.sqrt(mse_best_ker)\n",
    "rmse_best_ker"
   ]
  },
  {
   "cell_type": "markdown",
   "metadata": {},
   "source": [
    "## Compare those different models"
   ]
  },
  {
   "cell_type": "code",
   "execution_count": 56,
   "metadata": {
    "collapsed": true
   },
   "outputs": [],
   "source": [
    "best_y_pred = best_ker_svr.predict(X_test)\n",
    "lin_y_pred = lin_svr.predict(X_test)"
   ]
  },
  {
   "cell_type": "code",
   "execution_count": 58,
   "metadata": {},
   "outputs": [
    {
     "data": {
      "text/plain": [
       "0.59071113481912729"
      ]
     },
     "execution_count": 58,
     "metadata": {},
     "output_type": "execute_result"
    }
   ],
   "source": [
    "test_mse_best_ker = mean_squared_error(y_test, best_y_pred)\n",
    "test_rmse_best_ker = np.sqrt(test_mse_best_ker)\n",
    "test_rmse_best_ker"
   ]
  },
  {
   "cell_type": "code",
   "execution_count": 60,
   "metadata": {},
   "outputs": [
    {
     "data": {
      "text/plain": [
       "1.1392903649252475"
      ]
     },
     "execution_count": 60,
     "metadata": {},
     "output_type": "execute_result"
    }
   ],
   "source": [
    "test_mse_lin_ker = mean_squared_error(y_test, lin_y_pred)\n",
    "test_rmse_lin_ker = np.sqrt(test_mse_lin_ker)\n",
    "test_rmse_lin_ker"
   ]
  },
  {
   "cell_type": "markdown",
   "metadata": {},
   "source": [
    "# Seems the model fits just well, and no overfitting no under fitting!"
   ]
  },
  {
   "cell_type": "markdown",
   "metadata": {},
   "source": [
    "# Fin"
   ]
  }
 ],
 "metadata": {
  "kernelspec": {
   "display_name": "Python (root)",
   "language": "python",
   "name": "myenv"
  },
  "language_info": {
   "codemirror_mode": {
    "name": "ipython",
    "version": 3
   },
   "file_extension": ".py",
   "mimetype": "text/x-python",
   "name": "python",
   "nbconvert_exporter": "python",
   "pygments_lexer": "ipython3",
   "version": "3.6.1"
  }
 },
 "nbformat": 4,
 "nbformat_minor": 2
}
