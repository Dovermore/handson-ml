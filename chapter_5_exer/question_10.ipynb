{
 "cells": [
  {
   "cell_type": "markdown",
   "metadata": {},
   "source": [
    "## Import library and data and split data"
   ]
  },
  {
   "cell_type": "code",
   "execution_count": 2,
   "metadata": {
    "collapsed": true
   },
   "outputs": [],
   "source": [
    "import numpy as np\n",
    "import matplotlib\n",
    "import matplotlib.pyplot as plt\n",
    "import pandas as pd\n",
    "from sklearn.svm import LinearSVR, SVR\n",
    "from sklearn.linear_model import SGDRegressor\n",
    "from sklearn import datasets\n",
    "from sklearn.preprocessing import StandardScaler\n",
    "from sklearn.metrics import accuracy_score"
   ]
  },
  {
   "cell_type": "code",
   "execution_count": 3,
   "metadata": {},
   "outputs": [
    {
     "data": {
      "text/plain": [
       "(16512, 8)"
      ]
     },
     "execution_count": 3,
     "metadata": {},
     "output_type": "execute_result"
    }
   ],
   "source": [
    "from sklearn.datasets import fetch_california_housing\n",
    "from sklearn.model_selection import train_test_split\n",
    "\n",
    "\n",
    "housing = fetch_california_housing()\n",
    "X = StandardScaler().fit_transform(housing[\"data\"])\n",
    "y = housing[\"target\"]\n",
    "\n",
    "X_train, X_test, y_train, y_test = train_test_split(X, y, test_size=0.2)\n",
    "\n",
    "X_train.shape"
   ]
  },
  {
   "cell_type": "code",
   "execution_count": 4,
   "metadata": {},
   "outputs": [
    {
     "data": {
      "text/plain": [
       "0.0011352721859367023"
      ]
     },
     "execution_count": 4,
     "metadata": {},
     "output_type": "execute_result"
    }
   ],
   "source": [
    "X_train.mean()"
   ]
  },
  {
   "cell_type": "code",
   "execution_count": 5,
   "metadata": {},
   "outputs": [
    {
     "data": {
      "text/plain": [
       "array([ 1.867,  0.52 ,  1.152, ...,  2.271,  2.817,  1.828])"
      ]
     },
     "execution_count": 5,
     "metadata": {},
     "output_type": "execute_result"
    }
   ],
   "source": [
    "y_train"
   ]
  },
  {
   "cell_type": "markdown",
   "metadata": {},
   "source": [
    "## Start Model and Train the model prototype"
   ]
  },
  {
   "cell_type": "markdown",
   "metadata": {},
   "source": [
    "### First lets try linear Model"
   ]
  },
  {
   "cell_type": "code",
   "execution_count": 6,
   "metadata": {
    "collapsed": true
   },
   "outputs": [],
   "source": [
    "lin_svr = LinearSVR(loss='squared_epsilon_insensitive', dual=False)"
   ]
  },
  {
   "cell_type": "code",
   "execution_count": 7,
   "metadata": {},
   "outputs": [
    {
     "data": {
      "text/plain": [
       "LinearSVR(C=1.0, dual=False, epsilon=0.0, fit_intercept=True,\n",
       "     intercept_scaling=1.0, loss='squared_epsilon_insensitive',\n",
       "     max_iter=1000, random_state=None, tol=0.0001, verbose=0)"
      ]
     },
     "execution_count": 7,
     "metadata": {},
     "output_type": "execute_result"
    }
   ],
   "source": [
    "lin_svr.fit(X_train, y_train)"
   ]
  },
  {
   "cell_type": "code",
   "execution_count": 8,
   "metadata": {
    "collapsed": true
   },
   "outputs": [],
   "source": [
    "from sklearn.metrics import mean_squared_error"
   ]
  },
  {
   "cell_type": "code",
   "execution_count": 9,
   "metadata": {},
   "outputs": [
    {
     "data": {
      "text/plain": [
       "0.72571885704145711"
      ]
     },
     "execution_count": 9,
     "metadata": {},
     "output_type": "execute_result"
    }
   ],
   "source": [
    "mse_lin = mean_squared_error(y_train, lin_svr.predict(X_train))\n",
    "rmse_lin = np.sqrt(mse_lin)\n",
    "rmse_lin"
   ]
  },
  {
   "cell_type": "markdown",
   "metadata": {},
   "source": [
    "### Then Use kernelized search with RBFkernel"
   ]
  },
  {
   "cell_type": "code",
   "execution_count": 10,
   "metadata": {
    "collapsed": true
   },
   "outputs": [],
   "source": [
    "ker_svr = SVR()"
   ]
  },
  {
   "cell_type": "code",
   "execution_count": 11,
   "metadata": {},
   "outputs": [
    {
     "data": {
      "text/plain": [
       "SVR(C=1.0, cache_size=200, coef0=0.0, degree=3, epsilon=0.1, gamma='auto',\n",
       "  kernel='rbf', max_iter=-1, shrinking=True, tol=0.001, verbose=False)"
      ]
     },
     "execution_count": 11,
     "metadata": {},
     "output_type": "execute_result"
    }
   ],
   "source": [
    "ker_svr.fit(X_train, y_train)"
   ]
  },
  {
   "cell_type": "code",
   "execution_count": 12,
   "metadata": {},
   "outputs": [
    {
     "data": {
      "text/plain": [
       "0.58173193703543336"
      ]
     },
     "execution_count": 12,
     "metadata": {},
     "output_type": "execute_result"
    }
   ],
   "source": [
    "mse_ker = mean_squared_error(y_train, ker_svr.predict(X_train))\n",
    "rmse_ker = np.sqrt(mse_ker)\n",
    "rmse_ker"
   ]
  },
  {
   "cell_type": "markdown",
   "metadata": {},
   "source": [
    "###  Seems rbf kernel is better\n",
    "\n",
    "Let's try a grid search on this model"
   ]
  },
  {
   "cell_type": "code",
   "execution_count": 13,
   "metadata": {
    "collapsed": true
   },
   "outputs": [],
   "source": [
    "from sklearn.model_selection import RandomizedSearchCV\n",
    "from scipy.stats import reciprocal, uniform"
   ]
  },
  {
   "cell_type": "code",
   "execution_count": 14,
   "metadata": {
    "collapsed": true
   },
   "outputs": [],
   "source": [
    "param_dict = {\n",
    "    \n",
    "}\n",
    "\n",
    "param_dict = {\"gamma\": reciprocal(0.001, 0.1), \"C\": uniform(1, 10)}\n",
    "rand_ker_svr=RandomizedSearchCV(ker_svr, param_dict, verbose=2, n_iter=50, scoring=\"neg_mean_squared_error\")"
   ]
  },
  {
   "cell_type": "markdown",
   "metadata": {},
   "source": [
    "Create a smaller training set for value exploration"
   ]
  },
  {
   "cell_type": "code",
   "execution_count": 15,
   "metadata": {
    "collapsed": true
   },
   "outputs": [],
   "source": [
    "small_size = 2000\n",
    "X_train_small = X_train[:small_size]\n",
    "y_train_small = y_train[:small_size]"
   ]
  },
  {
   "cell_type": "markdown",
   "metadata": {},
   "source": [
    "Now do the randomized gird search"
   ]
  },
  {
   "cell_type": "code",
   "execution_count": 16,
   "metadata": {},
   "outputs": [
    {
     "name": "stdout",
     "output_type": "stream",
     "text": [
      "Fitting 3 folds for each of 50 candidates, totalling 150 fits\n",
      "[CV] C=8.45150477368, gamma=0.0023411496656 ..........................\n",
      "[CV] ........... C=8.45150477368, gamma=0.0023411496656, total=   0.1s\n",
      "[CV] C=8.45150477368, gamma=0.0023411496656 ..........................\n"
     ]
    },
    {
     "name": "stderr",
     "output_type": "stream",
     "text": [
      "[Parallel(n_jobs=1)]: Done   1 out of   1 | elapsed:    0.2s remaining:    0.0s\n"
     ]
    },
    {
     "name": "stdout",
     "output_type": "stream",
     "text": [
      "[CV] ........... C=8.45150477368, gamma=0.0023411496656, total=   0.1s\n",
      "[CV] C=8.45150477368, gamma=0.0023411496656 ..........................\n",
      "[CV] ........... C=8.45150477368, gamma=0.0023411496656, total=   0.1s\n",
      "[CV] C=8.4411895693, gamma=0.0124238518199 ...........................\n",
      "[CV] ............ C=8.4411895693, gamma=0.0124238518199, total=   0.1s\n",
      "[CV] C=8.4411895693, gamma=0.0124238518199 ...........................\n",
      "[CV] ............ C=8.4411895693, gamma=0.0124238518199, total=   0.1s\n",
      "[CV] C=8.4411895693, gamma=0.0124238518199 ...........................\n",
      "[CV] ............ C=8.4411895693, gamma=0.0124238518199, total=   0.1s\n",
      "[CV] C=8.69827158034, gamma=0.0397416773495 ..........................\n",
      "[CV] ........... C=8.69827158034, gamma=0.0397416773495, total=   0.1s\n",
      "[CV] C=8.69827158034, gamma=0.0397416773495 ..........................\n",
      "[CV] ........... C=8.69827158034, gamma=0.0397416773495, total=   0.1s\n",
      "[CV] C=8.69827158034, gamma=0.0397416773495 ..........................\n",
      "[CV] ........... C=8.69827158034, gamma=0.0397416773495, total=   0.1s\n",
      "[CV] C=7.33540151204, gamma=0.00488584130899 .........................\n",
      "[CV] .......... C=7.33540151204, gamma=0.00488584130899, total=   0.1s\n",
      "[CV] C=7.33540151204, gamma=0.00488584130899 .........................\n",
      "[CV] .......... C=7.33540151204, gamma=0.00488584130899, total=   0.1s\n",
      "[CV] C=7.33540151204, gamma=0.00488584130899 .........................\n",
      "[CV] .......... C=7.33540151204, gamma=0.00488584130899, total=   0.1s\n",
      "[CV] C=9.06598540104, gamma=0.0682793215783 ..........................\n",
      "[CV] ........... C=9.06598540104, gamma=0.0682793215783, total=   0.1s\n",
      "[CV] C=9.06598540104, gamma=0.0682793215783 ..........................\n",
      "[CV] ........... C=9.06598540104, gamma=0.0682793215783, total=   0.1s\n",
      "[CV] C=9.06598540104, gamma=0.0682793215783 ..........................\n",
      "[CV] ........... C=9.06598540104, gamma=0.0682793215783, total=   0.1s\n",
      "[CV] C=9.28568180984, gamma=0.0338426854679 ..........................\n",
      "[CV] ........... C=9.28568180984, gamma=0.0338426854679, total=   0.1s\n",
      "[CV] C=9.28568180984, gamma=0.0338426854679 ..........................\n",
      "[CV] ........... C=9.28568180984, gamma=0.0338426854679, total=   0.1s\n",
      "[CV] C=9.28568180984, gamma=0.0338426854679 ..........................\n",
      "[CV] ........... C=9.28568180984, gamma=0.0338426854679, total=   0.1s\n",
      "[CV] C=10.8975056278, gamma=0.00125185105091 .........................\n",
      "[CV] .......... C=10.8975056278, gamma=0.00125185105091, total=   0.1s\n",
      "[CV] C=10.8975056278, gamma=0.00125185105091 .........................\n",
      "[CV] .......... C=10.8975056278, gamma=0.00125185105091, total=   0.1s\n",
      "[CV] C=10.8975056278, gamma=0.00125185105091 .........................\n",
      "[CV] .......... C=10.8975056278, gamma=0.00125185105091, total=   0.1s\n",
      "[CV] C=5.44893678943, gamma=0.00168723633283 .........................\n",
      "[CV] .......... C=5.44893678943, gamma=0.00168723633283, total=   0.1s\n",
      "[CV] C=5.44893678943, gamma=0.00168723633283 .........................\n",
      "[CV] .......... C=5.44893678943, gamma=0.00168723633283, total=   0.1s\n",
      "[CV] C=5.44893678943, gamma=0.00168723633283 .........................\n",
      "[CV] .......... C=5.44893678943, gamma=0.00168723633283, total=   0.1s\n",
      "[CV] C=9.85602814551, gamma=0.0154612748102 ..........................\n",
      "[CV] ........... C=9.85602814551, gamma=0.0154612748102, total=   0.1s\n",
      "[CV] C=9.85602814551, gamma=0.0154612748102 ..........................\n",
      "[CV] ........... C=9.85602814551, gamma=0.0154612748102, total=   0.1s\n",
      "[CV] C=9.85602814551, gamma=0.0154612748102 ..........................\n",
      "[CV] ........... C=9.85602814551, gamma=0.0154612748102, total=   0.1s\n",
      "[CV] C=10.6733501802, gamma=0.076173478957 ...........................\n",
      "[CV] ............ C=10.6733501802, gamma=0.076173478957, total=   0.1s\n",
      "[CV] C=10.6733501802, gamma=0.076173478957 ...........................\n",
      "[CV] ............ C=10.6733501802, gamma=0.076173478957, total=   0.1s\n",
      "[CV] C=10.6733501802, gamma=0.076173478957 ...........................\n",
      "[CV] ............ C=10.6733501802, gamma=0.076173478957, total=   0.1s\n",
      "[CV] C=9.54868700078, gamma=0.0822247607692 ..........................\n",
      "[CV] ........... C=9.54868700078, gamma=0.0822247607692, total=   0.1s\n",
      "[CV] C=9.54868700078, gamma=0.0822247607692 ..........................\n",
      "[CV] ........... C=9.54868700078, gamma=0.0822247607692, total=   0.1s\n",
      "[CV] C=9.54868700078, gamma=0.0822247607692 ..........................\n",
      "[CV] ........... C=9.54868700078, gamma=0.0822247607692, total=   0.1s\n",
      "[CV] C=1.90699215962, gamma=0.0215869002395 ..........................\n",
      "[CV] ........... C=1.90699215962, gamma=0.0215869002395, total=   0.1s\n",
      "[CV] C=1.90699215962, gamma=0.0215869002395 ..........................\n",
      "[CV] ........... C=1.90699215962, gamma=0.0215869002395, total=   0.1s\n",
      "[CV] C=1.90699215962, gamma=0.0215869002395 ..........................\n",
      "[CV] ........... C=1.90699215962, gamma=0.0215869002395, total=   0.1s\n",
      "[CV] C=7.49512769828, gamma=0.00222284665823 .........................\n",
      "[CV] .......... C=7.49512769828, gamma=0.00222284665823, total=   0.1s\n",
      "[CV] C=7.49512769828, gamma=0.00222284665823 .........................\n",
      "[CV] .......... C=7.49512769828, gamma=0.00222284665823, total=   0.1s\n",
      "[CV] C=7.49512769828, gamma=0.00222284665823 .........................\n",
      "[CV] .......... C=7.49512769828, gamma=0.00222284665823, total=   0.1s\n",
      "[CV] C=2.68244300628, gamma=0.00634361298248 .........................\n",
      "[CV] .......... C=2.68244300628, gamma=0.00634361298248, total=   0.1s\n",
      "[CV] C=2.68244300628, gamma=0.00634361298248 .........................\n",
      "[CV] .......... C=2.68244300628, gamma=0.00634361298248, total=   0.1s\n",
      "[CV] C=2.68244300628, gamma=0.00634361298248 .........................\n",
      "[CV] .......... C=2.68244300628, gamma=0.00634361298248, total=   0.1s\n",
      "[CV] C=4.73307926763, gamma=0.0541583481701 ..........................\n",
      "[CV] ........... C=4.73307926763, gamma=0.0541583481701, total=   0.1s\n",
      "[CV] C=4.73307926763, gamma=0.0541583481701 ..........................\n",
      "[CV] ........... C=4.73307926763, gamma=0.0541583481701, total=   0.1s\n",
      "[CV] C=4.73307926763, gamma=0.0541583481701 ..........................\n",
      "[CV] ........... C=4.73307926763, gamma=0.0541583481701, total=   0.1s\n",
      "[CV] C=2.17093319855, gamma=0.00218581840878 .........................\n",
      "[CV] .......... C=2.17093319855, gamma=0.00218581840878, total=   0.1s\n",
      "[CV] C=2.17093319855, gamma=0.00218581840878 .........................\n",
      "[CV] .......... C=2.17093319855, gamma=0.00218581840878, total=   0.1s\n",
      "[CV] C=2.17093319855, gamma=0.00218581840878 .........................\n",
      "[CV] .......... C=2.17093319855, gamma=0.00218581840878, total=   0.1s\n",
      "[CV] C=9.59197096836, gamma=0.00456015302739 .........................\n",
      "[CV] .......... C=9.59197096836, gamma=0.00456015302739, total=   0.1s\n",
      "[CV] C=9.59197096836, gamma=0.00456015302739 .........................\n",
      "[CV] .......... C=9.59197096836, gamma=0.00456015302739, total=   0.1s\n",
      "[CV] C=9.59197096836, gamma=0.00456015302739 .........................\n",
      "[CV] .......... C=9.59197096836, gamma=0.00456015302739, total=   0.1s\n",
      "[CV] C=3.28999035057, gamma=0.0767654047908 ..........................\n",
      "[CV] ........... C=3.28999035057, gamma=0.0767654047908, total=   0.1s\n",
      "[CV] C=3.28999035057, gamma=0.0767654047908 ..........................\n",
      "[CV] ........... C=3.28999035057, gamma=0.0767654047908, total=   0.1s\n",
      "[CV] C=3.28999035057, gamma=0.0767654047908 ..........................\n",
      "[CV] ........... C=3.28999035057, gamma=0.0767654047908, total=   0.1s\n",
      "[CV] C=10.5526155008, gamma=0.00276826945363 .........................\n",
      "[CV] .......... C=10.5526155008, gamma=0.00276826945363, total=   0.1s\n",
      "[CV] C=10.5526155008, gamma=0.00276826945363 .........................\n",
      "[CV] .......... C=10.5526155008, gamma=0.00276826945363, total=   0.1s\n",
      "[CV] C=10.5526155008, gamma=0.00276826945363 .........................\n",
      "[CV] .......... C=10.5526155008, gamma=0.00276826945363, total=   0.1s\n",
      "[CV] C=5.91160840949, gamma=0.0245752934352 ..........................\n",
      "[CV] ........... C=5.91160840949, gamma=0.0245752934352, total=   0.1s\n",
      "[CV] C=5.91160840949, gamma=0.0245752934352 ..........................\n",
      "[CV] ........... C=5.91160840949, gamma=0.0245752934352, total=   0.1s\n",
      "[CV] C=5.91160840949, gamma=0.0245752934352 ..........................\n"
     ]
    },
    {
     "name": "stdout",
     "output_type": "stream",
     "text": [
      "[CV] ........... C=5.91160840949, gamma=0.0245752934352, total=   0.1s\n",
      "[CV] C=5.21175045911, gamma=0.0772734322684 ..........................\n",
      "[CV] ........... C=5.21175045911, gamma=0.0772734322684, total=   0.1s\n",
      "[CV] C=5.21175045911, gamma=0.0772734322684 ..........................\n",
      "[CV] ........... C=5.21175045911, gamma=0.0772734322684, total=   0.1s\n",
      "[CV] C=5.21175045911, gamma=0.0772734322684 ..........................\n",
      "[CV] ........... C=5.21175045911, gamma=0.0772734322684, total=   0.1s\n",
      "[CV] C=7.16593056565, gamma=0.00101405525107 .........................\n",
      "[CV] .......... C=7.16593056565, gamma=0.00101405525107, total=   0.1s\n",
      "[CV] C=7.16593056565, gamma=0.00101405525107 .........................\n",
      "[CV] .......... C=7.16593056565, gamma=0.00101405525107, total=   0.1s\n",
      "[CV] C=7.16593056565, gamma=0.00101405525107 .........................\n",
      "[CV] .......... C=7.16593056565, gamma=0.00101405525107, total=   0.1s\n",
      "[CV] C=6.08383613696, gamma=0.00192611805437 .........................\n",
      "[CV] .......... C=6.08383613696, gamma=0.00192611805437, total=   0.1s\n",
      "[CV] C=6.08383613696, gamma=0.00192611805437 .........................\n",
      "[CV] .......... C=6.08383613696, gamma=0.00192611805437, total=   0.1s\n",
      "[CV] C=6.08383613696, gamma=0.00192611805437 .........................\n",
      "[CV] .......... C=6.08383613696, gamma=0.00192611805437, total=   0.1s\n",
      "[CV] C=8.6599773285, gamma=0.0406538440891 ...........................\n",
      "[CV] ............ C=8.6599773285, gamma=0.0406538440891, total=   0.1s\n",
      "[CV] C=8.6599773285, gamma=0.0406538440891 ...........................\n",
      "[CV] ............ C=8.6599773285, gamma=0.0406538440891, total=   0.1s\n",
      "[CV] C=8.6599773285, gamma=0.0406538440891 ...........................\n",
      "[CV] ............ C=8.6599773285, gamma=0.0406538440891, total=   0.1s\n",
      "[CV] C=2.2732491431, gamma=0.00432697984928 ..........................\n",
      "[CV] ........... C=2.2732491431, gamma=0.00432697984928, total=   0.1s\n",
      "[CV] C=2.2732491431, gamma=0.00432697984928 ..........................\n",
      "[CV] ........... C=2.2732491431, gamma=0.00432697984928, total=   0.1s\n",
      "[CV] C=2.2732491431, gamma=0.00432697984928 ..........................\n",
      "[CV] ........... C=2.2732491431, gamma=0.00432697984928, total=   0.1s\n",
      "[CV] C=7.50641882493, gamma=0.039862259866 ...........................\n",
      "[CV] ............ C=7.50641882493, gamma=0.039862259866, total=   0.1s\n",
      "[CV] C=7.50641882493, gamma=0.039862259866 ...........................\n",
      "[CV] ............ C=7.50641882493, gamma=0.039862259866, total=   0.1s\n",
      "[CV] C=7.50641882493, gamma=0.039862259866 ...........................\n",
      "[CV] ............ C=7.50641882493, gamma=0.039862259866, total=   0.1s\n",
      "[CV] C=4.73229713627, gamma=0.0106575350556 ..........................\n",
      "[CV] ........... C=4.73229713627, gamma=0.0106575350556, total=   0.1s\n",
      "[CV] C=4.73229713627, gamma=0.0106575350556 ..........................\n",
      "[CV] ........... C=4.73229713627, gamma=0.0106575350556, total=   0.1s\n",
      "[CV] C=4.73229713627, gamma=0.0106575350556 ..........................\n",
      "[CV] ........... C=4.73229713627, gamma=0.0106575350556, total=   0.1s\n",
      "[CV] C=4.15648734358, gamma=0.0876922980307 ..........................\n",
      "[CV] ........... C=4.15648734358, gamma=0.0876922980307, total=   0.1s\n",
      "[CV] C=4.15648734358, gamma=0.0876922980307 ..........................\n",
      "[CV] ........... C=4.15648734358, gamma=0.0876922980307, total=   0.1s\n",
      "[CV] C=4.15648734358, gamma=0.0876922980307 ..........................\n",
      "[CV] ........... C=4.15648734358, gamma=0.0876922980307, total=   0.1s\n",
      "[CV] C=4.90355843992, gamma=0.0661716105238 ..........................\n",
      "[CV] ........... C=4.90355843992, gamma=0.0661716105238, total=   0.1s\n",
      "[CV] C=4.90355843992, gamma=0.0661716105238 ..........................\n",
      "[CV] ........... C=4.90355843992, gamma=0.0661716105238, total=   0.1s\n",
      "[CV] C=4.90355843992, gamma=0.0661716105238 ..........................\n",
      "[CV] ........... C=4.90355843992, gamma=0.0661716105238, total=   0.1s\n",
      "[CV] C=10.0951784321, gamma=0.00146679963928 .........................\n",
      "[CV] .......... C=10.0951784321, gamma=0.00146679963928, total=   0.1s\n",
      "[CV] C=10.0951784321, gamma=0.00146679963928 .........................\n",
      "[CV] .......... C=10.0951784321, gamma=0.00146679963928, total=   0.1s\n",
      "[CV] C=10.0951784321, gamma=0.00146679963928 .........................\n",
      "[CV] .......... C=10.0951784321, gamma=0.00146679963928, total=   0.1s\n",
      "[CV] C=9.36398277917, gamma=0.00564014446619 .........................\n",
      "[CV] .......... C=9.36398277917, gamma=0.00564014446619, total=   0.1s\n",
      "[CV] C=9.36398277917, gamma=0.00564014446619 .........................\n",
      "[CV] .......... C=9.36398277917, gamma=0.00564014446619, total=   0.1s\n",
      "[CV] C=9.36398277917, gamma=0.00564014446619 .........................\n",
      "[CV] .......... C=9.36398277917, gamma=0.00564014446619, total=   0.1s\n",
      "[CV] C=5.55355716316, gamma=0.0342608835694 ..........................\n",
      "[CV] ........... C=5.55355716316, gamma=0.0342608835694, total=   0.1s\n",
      "[CV] C=5.55355716316, gamma=0.0342608835694 ..........................\n",
      "[CV] ........... C=5.55355716316, gamma=0.0342608835694, total=   0.1s\n",
      "[CV] C=5.55355716316, gamma=0.0342608835694 ..........................\n",
      "[CV] ........... C=5.55355716316, gamma=0.0342608835694, total=   0.1s\n",
      "[CV] C=10.0770599139, gamma=0.0266790535282 ..........................\n",
      "[CV] ........... C=10.0770599139, gamma=0.0266790535282, total=   0.1s\n",
      "[CV] C=10.0770599139, gamma=0.0266790535282 ..........................\n",
      "[CV] ........... C=10.0770599139, gamma=0.0266790535282, total=   0.1s\n",
      "[CV] C=10.0770599139, gamma=0.0266790535282 ..........................\n",
      "[CV] ........... C=10.0770599139, gamma=0.0266790535282, total=   0.1s\n",
      "[CV] C=1.07810497208, gamma=0.0312296072995 ..........................\n",
      "[CV] ........... C=1.07810497208, gamma=0.0312296072995, total=   0.1s\n",
      "[CV] C=1.07810497208, gamma=0.0312296072995 ..........................\n",
      "[CV] ........... C=1.07810497208, gamma=0.0312296072995, total=   0.1s\n",
      "[CV] C=1.07810497208, gamma=0.0312296072995 ..........................\n",
      "[CV] ........... C=1.07810497208, gamma=0.0312296072995, total=   0.1s\n",
      "[CV] C=7.42780318348, gamma=0.00704054502013 .........................\n",
      "[CV] .......... C=7.42780318348, gamma=0.00704054502013, total=   0.1s\n",
      "[CV] C=7.42780318348, gamma=0.00704054502013 .........................\n",
      "[CV] .......... C=7.42780318348, gamma=0.00704054502013, total=   0.1s\n",
      "[CV] C=7.42780318348, gamma=0.00704054502013 .........................\n",
      "[CV] .......... C=7.42780318348, gamma=0.00704054502013, total=   0.1s\n",
      "[CV] C=10.0233604936, gamma=0.00767821565892 .........................\n",
      "[CV] .......... C=10.0233604936, gamma=0.00767821565892, total=   0.1s\n",
      "[CV] C=10.0233604936, gamma=0.00767821565892 .........................\n",
      "[CV] .......... C=10.0233604936, gamma=0.00767821565892, total=   0.1s\n",
      "[CV] C=10.0233604936, gamma=0.00767821565892 .........................\n",
      "[CV] .......... C=10.0233604936, gamma=0.00767821565892, total=   0.1s\n",
      "[CV] C=5.4515460882, gamma=0.00254027841742 ..........................\n",
      "[CV] ........... C=5.4515460882, gamma=0.00254027841742, total=   0.1s\n",
      "[CV] C=5.4515460882, gamma=0.00254027841742 ..........................\n",
      "[CV] ........... C=5.4515460882, gamma=0.00254027841742, total=   0.1s\n",
      "[CV] C=5.4515460882, gamma=0.00254027841742 ..........................\n",
      "[CV] ........... C=5.4515460882, gamma=0.00254027841742, total=   0.1s\n",
      "[CV] C=1.45969224283, gamma=0.075394535604 ...........................\n",
      "[CV] ............ C=1.45969224283, gamma=0.075394535604, total=   0.1s\n",
      "[CV] C=1.45969224283, gamma=0.075394535604 ...........................\n",
      "[CV] ............ C=1.45969224283, gamma=0.075394535604, total=   0.1s\n",
      "[CV] C=1.45969224283, gamma=0.075394535604 ...........................\n",
      "[CV] ............ C=1.45969224283, gamma=0.075394535604, total=   0.1s\n",
      "[CV] C=9.87033336077, gamma=0.0653262991147 ..........................\n",
      "[CV] ........... C=9.87033336077, gamma=0.0653262991147, total=   0.1s\n",
      "[CV] C=9.87033336077, gamma=0.0653262991147 ..........................\n",
      "[CV] ........... C=9.87033336077, gamma=0.0653262991147, total=   0.1s\n",
      "[CV] C=9.87033336077, gamma=0.0653262991147 ..........................\n",
      "[CV] ........... C=9.87033336077, gamma=0.0653262991147, total=   0.1s\n",
      "[CV] C=1.8230692142, gamma=0.064571975659 ............................\n"
     ]
    },
    {
     "name": "stdout",
     "output_type": "stream",
     "text": [
      "[CV] ............. C=1.8230692142, gamma=0.064571975659, total=   0.1s\n",
      "[CV] C=1.8230692142, gamma=0.064571975659 ............................\n",
      "[CV] ............. C=1.8230692142, gamma=0.064571975659, total=   0.1s\n",
      "[CV] C=1.8230692142, gamma=0.064571975659 ............................\n",
      "[CV] ............. C=1.8230692142, gamma=0.064571975659, total=   0.1s\n",
      "[CV] C=10.8496967369, gamma=0.00104096800857 .........................\n",
      "[CV] .......... C=10.8496967369, gamma=0.00104096800857, total=   0.1s\n",
      "[CV] C=10.8496967369, gamma=0.00104096800857 .........................\n",
      "[CV] .......... C=10.8496967369, gamma=0.00104096800857, total=   0.1s\n",
      "[CV] C=10.8496967369, gamma=0.00104096800857 .........................\n",
      "[CV] .......... C=10.8496967369, gamma=0.00104096800857, total=   0.1s\n",
      "[CV] C=2.50482458241, gamma=0.0155651963605 ..........................\n",
      "[CV] ........... C=2.50482458241, gamma=0.0155651963605, total=   0.1s\n",
      "[CV] C=2.50482458241, gamma=0.0155651963605 ..........................\n",
      "[CV] ........... C=2.50482458241, gamma=0.0155651963605, total=   0.1s\n",
      "[CV] C=2.50482458241, gamma=0.0155651963605 ..........................\n",
      "[CV] ........... C=2.50482458241, gamma=0.0155651963605, total=   0.1s\n",
      "[CV] C=6.53369470134, gamma=0.0070355656296 ..........................\n",
      "[CV] ........... C=6.53369470134, gamma=0.0070355656296, total=   0.1s\n",
      "[CV] C=6.53369470134, gamma=0.0070355656296 ..........................\n",
      "[CV] ........... C=6.53369470134, gamma=0.0070355656296, total=   0.1s\n",
      "[CV] C=6.53369470134, gamma=0.0070355656296 ..........................\n",
      "[CV] ........... C=6.53369470134, gamma=0.0070355656296, total=   0.1s\n",
      "[CV] C=10.2810048115, gamma=0.0275836207472 ..........................\n",
      "[CV] ........... C=10.2810048115, gamma=0.0275836207472, total=   0.1s\n",
      "[CV] C=10.2810048115, gamma=0.0275836207472 ..........................\n",
      "[CV] ........... C=10.2810048115, gamma=0.0275836207472, total=   0.2s\n",
      "[CV] C=10.2810048115, gamma=0.0275836207472 ..........................\n",
      "[CV] ........... C=10.2810048115, gamma=0.0275836207472, total=   0.2s\n",
      "[CV] C=1.8522438881, gamma=0.00355199683776 ..........................\n",
      "[CV] ........... C=1.8522438881, gamma=0.00355199683776, total=   0.1s\n",
      "[CV] C=1.8522438881, gamma=0.00355199683776 ..........................\n",
      "[CV] ........... C=1.8522438881, gamma=0.00355199683776, total=   0.1s\n",
      "[CV] C=1.8522438881, gamma=0.00355199683776 ..........................\n",
      "[CV] ........... C=1.8522438881, gamma=0.00355199683776, total=   0.1s\n",
      "[CV] C=3.31663449171, gamma=0.0131871238713 ..........................\n",
      "[CV] ........... C=3.31663449171, gamma=0.0131871238713, total=   0.1s\n",
      "[CV] C=3.31663449171, gamma=0.0131871238713 ..........................\n",
      "[CV] ........... C=3.31663449171, gamma=0.0131871238713, total=   0.1s\n",
      "[CV] C=3.31663449171, gamma=0.0131871238713 ..........................\n",
      "[CV] ........... C=3.31663449171, gamma=0.0131871238713, total=   0.1s\n",
      "[CV] C=8.48340843671, gamma=0.019661988856 ...........................\n",
      "[CV] ............ C=8.48340843671, gamma=0.019661988856, total=   0.1s\n",
      "[CV] C=8.48340843671, gamma=0.019661988856 ...........................\n",
      "[CV] ............ C=8.48340843671, gamma=0.019661988856, total=   0.1s\n",
      "[CV] C=8.48340843671, gamma=0.019661988856 ...........................\n",
      "[CV] ............ C=8.48340843671, gamma=0.019661988856, total=   0.1s\n",
      "[CV] C=6.07782036981, gamma=0.0829536277964 ..........................\n",
      "[CV] ........... C=6.07782036981, gamma=0.0829536277964, total=   0.1s\n",
      "[CV] C=6.07782036981, gamma=0.0829536277964 ..........................\n",
      "[CV] ........... C=6.07782036981, gamma=0.0829536277964, total=   0.1s\n",
      "[CV] C=6.07782036981, gamma=0.0829536277964 ..........................\n",
      "[CV] ........... C=6.07782036981, gamma=0.0829536277964, total=   0.1s\n",
      "[CV] C=6.21324099388, gamma=0.00212664336084 .........................\n",
      "[CV] .......... C=6.21324099388, gamma=0.00212664336084, total=   0.1s\n",
      "[CV] C=6.21324099388, gamma=0.00212664336084 .........................\n",
      "[CV] .......... C=6.21324099388, gamma=0.00212664336084, total=   0.1s\n",
      "[CV] C=6.21324099388, gamma=0.00212664336084 .........................\n",
      "[CV] .......... C=6.21324099388, gamma=0.00212664336084, total=   0.1s\n",
      "[CV] C=8.22740428434, gamma=0.00107697549051 .........................\n",
      "[CV] .......... C=8.22740428434, gamma=0.00107697549051, total=   0.1s\n",
      "[CV] C=8.22740428434, gamma=0.00107697549051 .........................\n",
      "[CV] .......... C=8.22740428434, gamma=0.00107697549051, total=   0.1s\n",
      "[CV] C=8.22740428434, gamma=0.00107697549051 .........................\n",
      "[CV] .......... C=8.22740428434, gamma=0.00107697549051, total=   0.1s\n"
     ]
    },
    {
     "name": "stderr",
     "output_type": "stream",
     "text": [
      "[Parallel(n_jobs=1)]: Done 150 out of 150 | elapsed:   18.6s finished\n"
     ]
    },
    {
     "data": {
      "text/plain": [
       "RandomizedSearchCV(cv=None, error_score='raise',\n",
       "          estimator=SVR(C=1.0, cache_size=200, coef0=0.0, degree=3, epsilon=0.1, gamma='auto',\n",
       "  kernel='rbf', max_iter=-1, shrinking=True, tol=0.001, verbose=False),\n",
       "          fit_params=None, iid=True, n_iter=50, n_jobs=1,\n",
       "          param_distributions={'gamma': <scipy.stats._distn_infrastructure.rv_frozen object at 0x117876198>, 'C': <scipy.stats._distn_infrastructure.rv_frozen object at 0x117876748>},\n",
       "          pre_dispatch='2*n_jobs', random_state=None, refit=True,\n",
       "          return_train_score=True, scoring='neg_mean_squared_error',\n",
       "          verbose=2)"
      ]
     },
     "execution_count": 16,
     "metadata": {},
     "output_type": "execute_result"
    }
   ],
   "source": [
    "rand_ker_svr.fit(X_train_small, y_train_small)"
   ]
  },
  {
   "cell_type": "code",
   "execution_count": 18,
   "metadata": {},
   "outputs": [
    {
     "data": {
      "text/plain": [
       "0.42269990186560363"
      ]
     },
     "execution_count": 18,
     "metadata": {},
     "output_type": "execute_result"
    }
   ],
   "source": [
    "results = -rand_ker_svr.best_score_\n",
    "results"
   ]
  },
  {
   "cell_type": "markdown",
   "metadata": {},
   "source": [
    "Seems much better, let's try it on a larger training set"
   ]
  },
  {
   "cell_type": "code",
   "execution_count": 19,
   "metadata": {
    "collapsed": true
   },
   "outputs": [],
   "source": [
    "best_ker_svr = rand_ker_svr.best_estimator_"
   ]
  },
  {
   "cell_type": "code",
   "execution_count": 20,
   "metadata": {},
   "outputs": [
    {
     "data": {
      "text/plain": [
       "SVR(C=10.673350180213307, cache_size=200, coef0=0.0, degree=3, epsilon=0.1,\n",
       "  gamma=0.076173478956985535, kernel='rbf', max_iter=-1, shrinking=True,\n",
       "  tol=0.001, verbose=False)"
      ]
     },
     "execution_count": 20,
     "metadata": {},
     "output_type": "execute_result"
    }
   ],
   "source": [
    "best_ker_svr.fit(X_train, y_train)"
   ]
  },
  {
   "cell_type": "code",
   "execution_count": 21,
   "metadata": {},
   "outputs": [
    {
     "data": {
      "text/plain": [
       "0.5653235570794668"
      ]
     },
     "execution_count": 21,
     "metadata": {},
     "output_type": "execute_result"
    }
   ],
   "source": [
    "mse_best_ker = mean_squared_error(y_train, best_ker_svr.predict(X_train))\n",
    "rmse_best_ker = np.sqrt(mse_best_ker)\n",
    "rmse_best_ker"
   ]
  },
  {
   "cell_type": "markdown",
   "metadata": {},
   "source": [
    "## Compare those different models"
   ]
  },
  {
   "cell_type": "code",
   "execution_count": 22,
   "metadata": {
    "collapsed": true
   },
   "outputs": [],
   "source": [
    "best_y_pred = best_ker_svr.predict(X_test)\n",
    "lin_y_pred = lin_svr.predict(X_test)"
   ]
  },
  {
   "cell_type": "code",
   "execution_count": 23,
   "metadata": {},
   "outputs": [
    {
     "data": {
      "text/plain": [
       "0.57776851603657986"
      ]
     },
     "execution_count": 23,
     "metadata": {},
     "output_type": "execute_result"
    }
   ],
   "source": [
    "test_mse_best_ker = mean_squared_error(y_test, best_y_pred)\n",
    "test_rmse_best_ker = np.sqrt(test_mse_best_ker)\n",
    "test_rmse_best_ker"
   ]
  },
  {
   "cell_type": "code",
   "execution_count": 24,
   "metadata": {},
   "outputs": [
    {
     "data": {
      "text/plain": [
       "0.71809070267958597"
      ]
     },
     "execution_count": 24,
     "metadata": {},
     "output_type": "execute_result"
    }
   ],
   "source": [
    "test_mse_lin_ker = mean_squared_error(y_test, lin_y_pred)\n",
    "test_rmse_lin_ker = np.sqrt(test_mse_lin_ker)\n",
    "test_rmse_lin_ker"
   ]
  },
  {
   "cell_type": "markdown",
   "metadata": {},
   "source": [
    "# Seems the model fits just well, and no overfitting no under fitting!"
   ]
  },
  {
   "cell_type": "markdown",
   "metadata": {},
   "source": [
    "# Fin"
   ]
  }
 ],
 "metadata": {
  "kernelspec": {
   "display_name": "Python (root)",
   "language": "python",
   "name": "myenv"
  },
  "language_info": {
   "codemirror_mode": {
    "name": "ipython",
    "version": 3
   },
   "file_extension": ".py",
   "mimetype": "text/x-python",
   "name": "python",
   "nbconvert_exporter": "python",
   "pygments_lexer": "ipython3",
   "version": "3.6.1"
  }
 },
 "nbformat": 4,
 "nbformat_minor": 2
}
