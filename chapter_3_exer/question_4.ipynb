{
 "cells": [
  {
   "cell_type": "markdown",
   "metadata": {},
   "source": [
    "## 1. Gather(Update) Data\n",
    "\n",
    "The following functions gathers and updates data from site"
   ]
  },
  {
   "cell_type": "code",
   "execution_count": 62,
   "metadata": {
    "collapsed": true
   },
   "outputs": [],
   "source": [
    "import os\n",
    "import tarfile\n",
    "import re\n",
    "import shutil\n",
    "from six.moves import urllib\n",
    "\n",
    "DOWNLOAD_ROOT = \"http://spamassassin.apache.org/old/publiccorpus/\"\n",
    "HAM_URLS = [DOWNLOAD_ROOT + \"20030228_easy_ham.tar.bz2\", DOWNLOAD_ROOT + \"20030228_easy_ham_2.tar.bz2\"]\n",
    "SPAM_URLS = [DOWNLOAD_ROOT + \"20030228_spam.tar.bz2\", DOWNLOAD_ROOT + \"20050311_spam_2.tar.bz2\"]\n",
    "SPAM_PATH = os.path.join(\"datasets\", \"spam\")\n",
    "\n",
    "def fetch_spam_data(spam_urls, spam_path=SPAM_PATH):\n",
    "    if not os.path.isdir(spam_path):\n",
    "        os.makedirs(spam_path)\n",
    "    pattern = re.compile(\"(ham|spam)(_2)?(.tar.bz2)\")\n",
    "    for url in spam_urls:\n",
    "        m = pattern.search(url)\n",
    "        file_name = \"\".join([p for p in m.groups() if p])\n",
    "        file_path = os.path.join(spam_path, file_name)\n",
    "        try:\n",
    "            urllib.request.urlretrieve(url, file_path)\n",
    "        except:\n",
    "            pass\n",
    "        if os.path.isfile(file_path):\n",
    "            tar_bz2_file = tarfile.open(file_path)\n",
    "            tar_bz2_file.extractall(path=spam_path)\n",
    "            tar_bz2_file.close()\n",
    "        else:\n",
    "            raise \"Tar_file_{}_not_found\".format(file_name)"
   ]
  },
  {
   "cell_type": "code",
   "execution_count": 58,
   "metadata": {
    "collapsed": true
   },
   "outputs": [],
   "source": [
    "fetch_spam_data(SPAM_URLS + HAM_URLS)"
   ]
  },
  {
   "cell_type": "markdown",
   "metadata": {},
   "source": [
    "Moves data to datasets/spam/all_spam and datasets/spam/all_ham"
   ]
  },
  {
   "cell_type": "code",
   "execution_count": 70,
   "metadata": {
    "collapsed": true
   },
   "outputs": [],
   "source": [
    "SPAM_DIRS = [os.path.join(SPAM_PATH, i) for i in [\"spam\", \"spam_2\"]]\n",
    "HAM_DIRS = [os.path.join(SPAM_PATH, i) for i in [\"easy_ham\", \"easy_ham_2\"]]\n",
    "SPAM_DEST = os.path.join(SPAM_PATH, \"all_spam\")\n",
    "HAM_DEST = os.path.join(SPAM_PATH, \"all_ham\")\n",
    "\n",
    "def move_data(dest, *sources):\n",
    "    if not os.path.isdir(dest):\n",
    "        os.makedirs(dest)\n",
    "    for source in sources:\n",
    "        if not os.path.isdir(source):\n",
    "            print(\"Warning: source_dir {} not found\".format(source))\n",
    "            continue\n",
    "        for root, dirs, files in os.walk(source):\n",
    "            for file in files:\n",
    "                shutil.move(os.path.join(root, file), os.path.join(dest, file))"
   ]
  },
  {
   "cell_type": "code",
   "execution_count": 71,
   "metadata": {
    "collapsed": true
   },
   "outputs": [],
   "source": [
    "move_data(HAM_DEST, *HAM_DIRS)\n",
    "move_data(SPAM_DEST, *SPAM_DIRS)"
   ]
  },
  {
   "cell_type": "markdown",
   "metadata": {},
   "source": [
    "## 2.Analysing Data"
   ]
  },
  {
   "cell_type": "markdown",
   "metadata": {},
   "source": [
    "First We check the ratio of data to see if there are problems with positive and negative ratio"
   ]
  },
  {
   "cell_type": "code",
   "execution_count": 81,
   "metadata": {},
   "outputs": [
    {
     "name": "stdout",
     "output_type": "stream",
     "text": [
      "len(spam_filenames): 1896\n",
      "len(ham_filenames): 3900\n",
      "spam_ham_ratio:1/2.0569620253164556 or\n",
      "\t       0.48615384615384616\n"
     ]
    }
   ],
   "source": [
    "# Data with name length < 20 is not legit according to document\n",
    "ham_filenames = [name for name in sorted(os.listdir(HAM_DEST)) if len(name) > 20]\n",
    "spam_filenames = [name for name in sorted(os.listdir(SPAM_DEST)) if len(name) > 20]\n",
    "\n",
    "print(\"len(spam_filenames):\", len(spam_filenames))\n",
    "print(\"len(ham_filenames):\", len(ham_filenames))\n",
    "print(\"spam_ham_ratio:{}/{} or\\n\\t       {}\".format(1,\n",
    "                                        len(ham_filenames)/len(spam_filenames), \n",
    "                                        len(spam_filenames)/len(ham_filenames)))"
   ]
  },
  {
   "cell_type": "markdown",
   "metadata": {},
   "source": [
    "Then we load some smaple emails\n",
    "NOTE: the email structure is \n",
    "<pre>[\n",
    " header,\n",
    " payload(multipart/non_multipart)[(Only When multipart)\n",
    "                                  part1,\n",
    "                                  part2,\n",
    "                                  ...,\n",
    "                                 ]\n",
    "]</pre>"
   ]
  },
  {
   "cell_type": "code",
   "execution_count": 83,
   "metadata": {
    "collapsed": true
   },
   "outputs": [],
   "source": [
    "import email\n",
    "import email.policy\n",
    "\n",
    "\n",
    "def load_email(file_path, file_name):\n",
    "    with open(os.path.join(file_path, file_name), \"rb\") as f:\n",
    "        return email.parser.BytesParser(policy=email.policy.default).parse(f)"
   ]
  },
  {
   "cell_type": "code",
   "execution_count": 87,
   "metadata": {
    "collapsed": true
   },
   "outputs": [],
   "source": [
    "ham_emails = [load_email(HAM_DEST, file_name) for file_name in ham_filenames]\n",
    "spam_emails = [load_email(SPAM_DEST, file_name) for file_name in spam_filenames]"
   ]
  },
  {
   "cell_type": "code",
   "execution_count": 233,
   "metadata": {
    "scrolled": false
   },
   "outputs": [
    {
     "name": "stdout",
     "output_type": "stream",
     "text": [
      "    Date:        Wed, 21 Aug 2002 10:54:46 -0500\n",
      "    From:        Chris Garrigues <cwg-dated-1030377287.06fa6d@DeepEddy.Com>\n",
      "    Message-ID:  <1029945287.4797.TMDA@deepeddy.vircio.com>\n",
      "\n",
      "\n",
      "  | I can't reproduce this error.\n",
      "\n",
      "For me it is very repeatable... (like every time, without fail).\n",
      "\n",
      "This is the debug log of the pick happening ...\n",
      "\n",
      "18:19:03 Pick_It {exec pick +inbox -list -lbrace -lbrace -subject ftp -rbrace -rbrace} {4852-4852 -sequence mercury}\n",
      "18:19:03 exec pick +inbox -list -lbrace -lbrace -subject ftp -rbrace -rbrace 4852-4852 -sequence mercury\n",
      "18:19:04 Ftoc_PickMsgs {{1 hit}}\n",
      "18:19:04 Marking 1 hits\n",
      "18:19:04 tkerror: syntax error in expression \"int ...\n",
      "\n",
      "Note, if I run the pick command by hand ...\n",
      "\n",
      "delta$ pick +inbox -list -lbrace -lbrace -subject ftp -rbrace -rbrace  4852-4852 -sequence mercury\n",
      "1 hit\n",
      "\n",
      "That's where the \"1 hit\" comes from (obviously).  The version of nmh I'm\n",
      "using is ...\n",
      "\n",
      "delta$ pick -version\n",
      "pick -- nmh-1.0.4 [compiled on fuchsia.cs.mu.OZ.AU at Sun Mar 17 14:55:56 ICT 2002]\n",
      "\n",
      "And the relevant part of my .mh_profile ...\n",
      "\n",
      "delta$ mhparam pick\n",
      "-seq sel -list\n",
      "\n",
      "\n",
      "Since the pick command works, the sequence (actually, both of them, the\n",
      "one that's explicit on the command line, from the search popup, and the\n",
      "one that comes from .mh_profile) do get created.\n",
      "\n",
      "kre\n",
      "\n",
      "ps: this is still using the version of the code form a day ago, I haven't\n",
      "been able to reach the cvs repository today (local routing issue I think).\n",
      "\n",
      "\n",
      "\n",
      "_______________________________________________\n",
      "Exmh-workers mailing list\n",
      "Exmh-workers@redhat.com\n",
      "https://listman.redhat.com/mailman/listinfo/exmh-workers\n",
      "\n",
      "\n"
     ]
    }
   ],
   "source": [
    "print(ham_emails[1].get_content())"
   ]
  },
  {
   "cell_type": "code",
   "execution_count": 120,
   "metadata": {},
   "outputs": [
    {
     "name": "stdout",
     "output_type": "stream",
     "text": [
      "text/plain\n"
     ]
    }
   ],
   "source": [
    "print(ham_emails[2].get_payload()[0].get_content_type())"
   ]
  },
  {
   "cell_type": "code",
   "execution_count": 121,
   "metadata": {
    "collapsed": true
   },
   "outputs": [],
   "source": [
    "from collections import Counter\n",
    "\n",
    "def get_email_structure(email):\n",
    "    if isinstance(email, str):\n",
    "        return email\n",
    "    payload = email.get_payload()\n",
    "    if isinstance(payload, list):\n",
    "        return \"multipart({})\".format(\", \".join([\n",
    "            get_email_structure(sub_email)\n",
    "            for sub_email in payload\n",
    "        ]))\n",
    "    else:\n",
    "        return email.get_content_type()\n",
    "\n",
    "\n",
    "def structures_counter(emails):\n",
    "    structures = Counter()\n",
    "    for email in emails:\n",
    "        structure = get_email_structure(email)\n",
    "        structures[structure] += 1\n",
    "    return structures"
   ]
  },
  {
   "cell_type": "code",
   "execution_count": 123,
   "metadata": {
    "collapsed": true
   },
   "outputs": [],
   "source": [
    "ham_structures = structures_counter(ham_emails)\n",
    "spam_structures = structures_counter(spam_emails)"
   ]
  },
  {
   "cell_type": "code",
   "execution_count": 128,
   "metadata": {},
   "outputs": [
    {
     "data": {
      "text/plain": [
       "[('text/plain', 3751),\n",
       " ('multipart(text/plain, application/pgp-signature)', 101),\n",
       " ('multipart(text/plain, text/html)', 20),\n",
       " ('multipart(text/plain, text/plain)', 4),\n",
       " ('multipart(text/plain)', 3),\n",
       " ('multipart(text/plain, application/ms-tnef, text/plain)', 2),\n",
       " ('multipart(text/plain, multipart(text/plain))', 2),\n",
       " ('multipart(text/plain, application/octet-stream)', 2),\n",
       " ('text/html', 2),\n",
       " ('multipart(text/plain, multipart(text/plain, text/plain), text/rfc822-headers)',\n",
       "  2),\n",
       " ('multipart(text/plain, text/enriched)', 1),\n",
       " ('multipart(text/plain, application/x-patch)', 1),\n",
       " ('multipart(multipart(text/plain, multipart(text/plain), text/plain), application/pgp-signature)',\n",
       "  1),\n",
       " ('multipart(multipart(text/plain, text/html), image/jpeg, image/gif, image/gif, image/gif, image/gif)',\n",
       "  1),\n",
       " ('multipart(multipart(text/plain, text/plain, text/plain), application/pgp-signature)',\n",
       "  1),\n",
       " ('multipart(text/plain, application/ms-tnef)', 1),\n",
       " ('multipart(text/plain, video/mng)', 1),\n",
       " ('multipart(text/plain, text/plain, text/plain)', 1),\n",
       " ('multipart(text/plain, application/x-pkcs7-signature)', 1),\n",
       " ('multipart(text/plain, multipart(text/plain, text/plain), multipart(multipart(text/plain, application/x-pkcs7-signature)))',\n",
       "  1),\n",
       " ('multipart(text/plain, application/x-java-applet)', 1)]"
      ]
     },
     "execution_count": 128,
     "metadata": {},
     "output_type": "execute_result"
    }
   ],
   "source": [
    "ham_structures.most_common()"
   ]
  },
  {
   "cell_type": "code",
   "execution_count": 129,
   "metadata": {},
   "outputs": [
    {
     "data": {
      "text/plain": [
       "[('text/plain', 815),\n",
       " ('text/html', 772),\n",
       " ('multipart(text/plain, text/html)', 159),\n",
       " ('multipart(text/html)', 49),\n",
       " ('multipart(text/plain)', 44),\n",
       " ('multipart(multipart(text/html))', 23),\n",
       " ('multipart(multipart(text/plain, text/html))', 5),\n",
       " ('multipart(text/plain, application/octet-stream, text/plain)', 3),\n",
       " ('multipart(text/plain, application/octet-stream)', 3),\n",
       " ('multipart(text/html, text/plain)', 3),\n",
       " ('multipart(text/plain, image/jpeg)', 3),\n",
       " ('multipart(text/html, application/octet-stream)', 2),\n",
       " ('multipart/alternative', 2),\n",
       " ('multipart(text/html, image/jpeg)', 2),\n",
       " ('multipart(multipart(text/plain), application/octet-stream)', 2),\n",
       " ('multipart(text/plain, multipart(text/plain))', 1),\n",
       " ('multipart(multipart(text/plain, text/html), image/jpeg, image/jpeg, image/jpeg, image/jpeg, image/jpeg)',\n",
       "  1),\n",
       " ('multipart(multipart(text/plain, text/html), image/jpeg, image/jpeg, image/jpeg, image/jpeg, image/gif)',\n",
       "  1),\n",
       " ('text/plain charset=us-ascii', 1),\n",
       " ('multipart(multipart(text/html), application/octet-stream, image/jpeg)', 1),\n",
       " ('multipart(multipart(text/plain, text/html), image/gif)', 1),\n",
       " ('multipart(multipart(text/html), image/gif)', 1),\n",
       " ('multipart(multipart(text/plain, text/html), application/octet-stream, application/octet-stream, application/octet-stream, application/octet-stream)',\n",
       "  1),\n",
       " ('multipart(multipart(text/plain, text/html), image/gif, image/jpeg)', 1)]"
      ]
     },
     "execution_count": 129,
     "metadata": {},
     "output_type": "execute_result"
    }
   ],
   "source": [
    "spam_structures.most_common()"
   ]
  },
  {
   "cell_type": "code",
   "execution_count": 131,
   "metadata": {},
   "outputs": [
    {
     "name": "stdout",
     "output_type": "stream",
     "text": [
      "Return-Path : <exmh-workers-admin@spamassassin.taint.org>\n",
      "Delivered-To : yyyy@localhost.netnoteinc.com\n",
      "Received : from localhost (localhost [127.0.0.1])\tby phobos.labs.netnoteinc.com (Postfix) with ESMTP id 7106643C34\tfor <jm@localhost>; Wed, 21 Aug 2002 08:33:03 -0400 (EDT)\n",
      "Received : from phobos [127.0.0.1]\tby localhost with IMAP (fetchmail-5.9.0)\tfor jm@localhost (single-drop); Wed, 21 Aug 2002 13:33:03 +0100 (IST)\n",
      "Received : from listman.spamassassin.taint.org (listman.spamassassin.taint.org [66.187.233.211]) by    dogma.slashnull.org (8.11.6/8.11.6) with ESMTP id g7LCXvZ24654 for    <jm-exmh@jmason.org>; Wed, 21 Aug 2002 13:33:57 +0100\n",
      "Received : from listman.spamassassin.taint.org (localhost.localdomain [127.0.0.1]) by    listman.redhat.com (Postfix) with ESMTP id F12A13EA25; Wed, 21 Aug 2002    08:34:00 -0400 (EDT)\n",
      "Delivered-To : exmh-workers@listman.spamassassin.taint.org\n",
      "Received : from int-mx1.corp.spamassassin.taint.org (int-mx1.corp.spamassassin.taint.org    [172.16.52.254]) by listman.redhat.com (Postfix) with ESMTP id 750D33F945    for <exmh-workers@listman.redhat.com>; Wed, 21 Aug 2002 08:30:55 -0400    (EDT)\n",
      "Received : (from mail@localhost) by int-mx1.corp.spamassassin.taint.org (8.11.6/8.11.6)    id g7LCUqx17585 for exmh-workers@listman.redhat.com; Wed, 21 Aug 2002    08:30:52 -0400\n",
      "Received : from mx1.spamassassin.taint.org (mx1.spamassassin.taint.org [172.16.48.31]) by    int-mx1.corp.redhat.com (8.11.6/8.11.6) with SMTP id g7LCUqY17578 for    <exmh-workers@redhat.com>; Wed, 21 Aug 2002 08:30:52 -0400\n",
      "Received : from ratree.psu.ac.th ([202.28.97.6]) by mx1.spamassassin.taint.org    (8.11.6/8.11.6) with SMTP id g7LCGNl23207 for <exmh-workers@redhat.com>;    Wed, 21 Aug 2002 08:16:24 -0400\n",
      "Received : from delta.cs.mu.OZ.AU (delta.coe.psu.ac.th [172.30.0.98]) by    ratree.psu.ac.th (8.11.6/8.11.6) with ESMTP id g7LCUIl27286;    Wed, 21 Aug 2002 19:30:19 +0700 (ICT)\n",
      "Received : from munnari.OZ.AU (localhost [127.0.0.1]) by delta.cs.mu.OZ.AU    (8.11.6/8.11.6) with ESMTP id g7LCU1W09629; Wed, 21 Aug 2002 19:30:01    +0700 (ICT)\n",
      "From : Robert Elz <kre@munnari.OZ.AU>\n",
      "To : Chris Garrigues <cwg-dated-1030314468.7c7c85@DeepEddy.Com>\n",
      "Cc : exmh-workers@spamassassin.taint.org\n",
      "Subject : Re: New Sequences Window\n",
      "In-Reply-To : <1029882468.3116.TMDA@deepeddy.vircio.com>\n",
      "References : <1029882468.3116.TMDA@deepeddy.vircio.com>\n",
      "MIME-Version : 1.0\n",
      "Content-Type : text/plain; charset=\"us-ascii\"\n",
      "Message-Id : <9627.1029933001@munnari.OZ.AU>\n",
      "X-Loop : exmh-workers@spamassassin.taint.org\n",
      "Sender : exmh-workers-admin@spamassassin.taint.org\n",
      "Errors-To : exmh-workers-admin@spamassassin.taint.org\n",
      "X-Beenthere : exmh-workers@spamassassin.taint.org\n",
      "X-Mailman-Version : 2.0.1\n",
      "Precedence : bulk\n",
      "List-Help : <mailto:exmh-workers-request@spamassassin.taint.org?subject=help>\n",
      "List-Post : <mailto:exmh-workers@spamassassin.taint.org>\n",
      "List-Subscribe : <https://listman.spamassassin.taint.org/mailman/listinfo/exmh-workers>,    <mailto:exmh-workers-request@redhat.com?subject=subscribe>\n",
      "List-Id : Discussion list for EXMH developers <exmh-workers.spamassassin.taint.org>\n",
      "List-Unsubscribe : <https://listman.spamassassin.taint.org/mailman/listinfo/exmh-workers>,    <mailto:exmh-workers-request@redhat.com?subject=unsubscribe>\n",
      "List-Archive : <https://listman.spamassassin.taint.org/mailman/private/exmh-workers/>\n",
      "Date : Wed, 21 Aug 2002 19:30:01 +0700\n"
     ]
    }
   ],
   "source": [
    "for header, value in ham_emails[0].items():\n",
    "    print(header,\":\",value)"
   ]
  },
  {
   "cell_type": "code",
   "execution_count": 130,
   "metadata": {},
   "outputs": [
    {
     "name": "stdout",
     "output_type": "stream",
     "text": [
      "Return-Path : <ilug-admin@linux.ie>\n",
      "Delivered-To : yyyy@localhost.netnoteinc.com\n",
      "Received : from localhost (localhost [127.0.0.1])\tby phobos.labs.netnoteinc.com (Postfix) with ESMTP id 9E1F5441DD\tfor <jm@localhost>; Tue,  6 Aug 2002 06:48:09 -0400 (EDT)\n",
      "Received : from phobos [127.0.0.1]\tby localhost with IMAP (fetchmail-5.9.0)\tfor jm@localhost (single-drop); Tue, 06 Aug 2002 11:48:09 +0100 (IST)\n",
      "Received : from lugh.tuatha.org (root@lugh.tuatha.org [194.125.145.45]) by    dogma.slashnull.org (8.11.6/8.11.6) with ESMTP id g72LqWv13294 for    <jm-ilug@jmason.org>; Fri, 2 Aug 2002 22:52:32 +0100\n",
      "Received : from lugh (root@localhost [127.0.0.1]) by lugh.tuatha.org    (8.9.3/8.9.3) with ESMTP id WAA31224; Fri, 2 Aug 2002 22:50:17 +0100\n",
      "Received : from bettyjagessar.com (w142.z064000057.nyc-ny.dsl.cnc.net    [64.0.57.142]) by lugh.tuatha.org (8.9.3/8.9.3) with ESMTP id WAA31201 for    <ilug@linux.ie>; Fri, 2 Aug 2002 22:50:11 +0100\n",
      "X-Authentication-Warning : lugh.tuatha.org: Host w142.z064000057.nyc-ny.dsl.cnc.net    [64.0.57.142] claimed to be bettyjagessar.com\n",
      "Received : from 64.0.57.142 [202.63.165.34] by bettyjagessar.com    (SMTPD32-7.06 EVAL) id A42A7FC01F2; Fri, 02 Aug 2002 02:18:18 -0400\n",
      "Message-Id : <1028311679.886@0.57.142>\n",
      "Date : Fri, 02 Aug 2002 23:37:59 +0530\n",
      "To : ilug@linux.ie\n",
      "From : Start Now <startnow2002@hotmail.com>\n",
      "MIME-Version : 1.0\n",
      "Content-Type : text/plain; charset=\"US-ASCII\"; format=\"flowed\"\n",
      "Subject : [ILUG] STOP THE MLM INSANITY\n",
      "Sender : ilug-admin@linux.ie\n",
      "Errors-To : ilug-admin@linux.ie\n",
      "X-Mailman-Version : 1.1\n",
      "Precedence : bulk\n",
      "List-Id : Irish Linux Users' Group <ilug.linux.ie>\n",
      "X-Beenthere : ilug@linux.ie\n"
     ]
    }
   ],
   "source": [
    "for header, value in spam_emails[0].items():\n",
    "    print(header,\":\",value)"
   ]
  },
  {
   "cell_type": "code",
   "execution_count": 134,
   "metadata": {},
   "outputs": [
    {
     "data": {
      "text/plain": [
       "'Life Insurance - Why Pay More?'"
      ]
     },
     "execution_count": 134,
     "metadata": {},
     "output_type": "execute_result"
    }
   ],
   "source": [
    "spam_emails[1][\"Subject\"]"
   ]
  },
  {
   "cell_type": "markdown",
   "metadata": {},
   "source": [
    "### Split to train test set"
   ]
  },
  {
   "cell_type": "code",
   "execution_count": 309,
   "metadata": {
    "collapsed": true
   },
   "outputs": [],
   "source": [
    "import numpy as np\n",
    "from sklearn.model_selection import StratifiedShuffleSplit\n",
    "\n",
    "X = np.array(spam_emails + ham_emails)\n",
    "y = np.array([1] * len(spam_emails) + [0] * len(ham_emails))\n",
    "\n",
    "sss = StratifiedShuffleSplit(n_splits=1, test_size=0.2, random_state=42)\n",
    "\n",
    "for train_index, test_index in sss.split(X, y):\n",
    "    X_train_f, X_test_f = X[train_index], X[test_index]\n",
    "    y_train_f, y_test_f = y[train_index], y[test_index]"
   ]
  },
  {
   "cell_type": "markdown",
   "metadata": {},
   "source": [
    "### Dealing with html with Re!!"
   ]
  },
  {
   "cell_type": "code",
   "execution_count": 146,
   "metadata": {
    "collapsed": true
   },
   "outputs": [],
   "source": [
    "import re\n",
    "from html import unescape\n",
    "\n",
    "def html_to_plain_text(html):\n",
    "    text = re.sub('<head.*?>.*?</head>', '', html, flags=re.M | re.S | re.I)\n",
    "    text = re.sub('<a\\s.*?>', ' HYPERLINK ', text, flags=re.M | re.S | re.I)\n",
    "    text = re.sub('<.*?>', '', text, flags=re.M | re.S)\n",
    "    text = re.sub(r'(\\s*\\n)+', '\\n', text, flags=re.M | re.S)\n",
    "    return unescape(text)"
   ]
  },
  {
   "cell_type": "markdown",
   "metadata": {},
   "source": [
    "### Convert email to string\n",
    "\n",
    "This is an improved version based on:\n",
    "    <a herf=\"https://github.com/ageron/handson-ml/blob/master/03_classification.ipynb\">https://github.com/ageron/handson-ml/blob/master/03_classification.ipynb</a>"
   ]
  },
  {
   "cell_type": "code",
   "execution_count": 150,
   "metadata": {
    "collapsed": true
   },
   "outputs": [],
   "source": [
    "def email_to_text(email):\n",
    "    html = None\n",
    "    contents = \"\"\n",
    "    for part in email.walk():\n",
    "        ctype = part.get_content_type()\n",
    "        if not ctype in (\"text/plain\", \"text/html\"):\n",
    "            continue\n",
    "        try:\n",
    "            content = part.get_content()\n",
    "        except: # in case of encoding issues\n",
    "            content = str(part.get_payload())\n",
    "        if ctype == \"text/plain\":\n",
    "            contents += (\" \" + content)\n",
    "        else:\n",
    "            contents += (\" \" + html_to_plain_text(content))\n",
    "    return contents"
   ]
  },
  {
   "cell_type": "code",
   "execution_count": 169,
   "metadata": {},
   "outputs": [
    {
     "name": "stdout",
     "output_type": "stream",
     "text": [
      "=================================\n",
      "17\n",
      "multipart(text/plain, application/octet-stream, text/plain)\n",
      " \n",
      "Government Grants E-Book 2002\n",
      "edition, Just $15.95. Summer Sale, Good Until August 10, 2002!  Was $49.95.\n",
      "You Can Receive The Money You Need...\n",
      "Every day millions of\n",
      "dollars are given away to people, just like\n",
      "you!!\n",
      "Your Government spends billions of tax dollars on\n",
      "government grants.\n",
      "Do you know that private foundations, trust and\n",
      "corporations are\n",
      "required to give away a portion of theirs assets.\n",
      "It doesn't matter,\n",
      "where you live (USA ONLY), your employment status,\n",
      "or if you are broke, retired\n",
      "or living on a fixed income. There may be a grant\n",
      "for you!\n",
      "ANYONE can apply\n",
      "for a Grant from 18 years old and up!\n",
      "We will show you HOW & WHERE to get Grants. THIS BOOK IS NEWLY UPDATED WITH THE\n",
      "MOST CURRENT INFORMATION!!!\n",
      "Grants from $500.00 to $50,000.00 are possible!\n",
      "GRANTS don't have to be paid back, EVER!\n",
      "Grants can be ideal for people who are or were\n",
      "bankrupt or just have bad credit.\n",
      "Please Visit Our\n",
      "Website\n",
      "And Place Your  Order\n",
      "TODAY!  HYPERLINK CLICK HERE  \n",
      "To Order by postal mail, please send $15.95 Plus $4.00 S & H.\n",
      "Make payable to Grant Gold 2002.\n",
      "Grant Gold 2002\n",
      "P. O. Box 36\n",
      "Dayton, Ohio  45405\n",
      "If you would like to order via Fax, please include your credit card information below and fax to our Fax Line.\n",
      "OUR 24 HOUR FAX NUMBER:  775-257-6657.\n",
      "*****\n",
      "Important Credit Card Information! Please Read Below!\n",
      "*     Credit Card Address, City, State and Zip Code, must match billing address to be processed.\n",
      "CHECK____  MONEYORDER____  VISA____ MASTERCARD____ AmericanExpress___ Debt Card___\n",
      "Name_______________________________________________________\n",
      "(As it appears on Check or Credit Card)\n",
      "Address____________________________________________________\n",
      "(As it appears on Check or Credit Card)\n",
      "___________________________________________________\n",
      "City,State,Zip(As it appears on Check or Credit Card)\n",
      "___________________________________________________\n",
      "(Credit Card Number)\n",
      "Expiration Month_____  Year_____\n",
      "___________________________________________________\n",
      "Email Address (Please Write Neat)\n",
      "___________________________________________________\n",
      "Authorized Signature\n",
      "We apologize for any email you may have inadvertently\n",
      "received.\n",
      "Please  HYPERLINK CLICK\n",
      "HERE to unsubscribe from future\n",
      "mailings.\n",
      "\n",
      "=================================\n",
      "42\n",
      "multipart(text/plain, application/octet-stream)\n",
      " \n",
      "Government Grants E-Book 2002\n",
      "edition, Just $15.95. Summer Sale, Good Until August 10, 2002!  Was $49.95.\n",
      "You Can Receive The Money You Need...\n",
      "Every day millions of\n",
      "dollars are given away to people, just like\n",
      "you!!\n",
      "Your Government spends billions of tax dollars on\n",
      "government grants.\n",
      "Do you know that private foundations, trust and\n",
      "corporations are\n",
      "required to give away a portion of theirs assets.\n",
      "It doesn't matter,\n",
      "where you live (USA ONLY), your employment status,\n",
      "or if you are broke, retired\n",
      "or living on a fixed income. There may be a grant\n",
      "for you!\n",
      "ANYONE can apply\n",
      "for a Grant from 18 years old and up!\n",
      "We will show you HOW & WHERE to get Grants. THIS BOOK IS NEWLY UPDATED WITH THE\n",
      "MOST CURRENT INFORMATION!!!\n",
      "Grants from $500.00 to $50,000.00 are possible!\n",
      "GRANTS don't have to be paid back, EVER!\n",
      "Grants can be ideal for people who are or were\n",
      "bankrupt or just have bad credit.\n",
      "Please Visit Our\n",
      "Website\n",
      "And Place Your  Order\n",
      "TODAY!  HYPERLINK CLICK HERE  \n",
      "To Order by postal mail, please send $15.95 Plus $4.00 S & H.\n",
      "Make payable to Grant Gold 2002.\n",
      "Grant Gold 2002\n",
      "P. O. Box 36\n",
      "Dayton, Ohio  45405\n",
      "If you would like to order via Fax, please include your credit card information below and fax to our Fax Line.\n",
      "OUR 24 HOUR FAX NUMBER:  775-257-6657.\n",
      "*****\n",
      "Important Credit Card Information! Please Read Below!\n",
      "*     Credit Card Address, City, State and Zip Code, must match billing address to be processed.\n",
      "CHECK____  MONEYORDER____  VISA____ MASTERCARD____ AmericanExpress___ Debt Card___\n",
      "Name_______________________________________________________\n",
      "(As it appears on Check or Credit Card)\n",
      "Address____________________________________________________\n",
      "(As it appears on Check or Credit Card)\n",
      "___________________________________________________\n",
      "City,State,Zip(As it appears on Check or Credit Card)\n",
      "___________________________________________________\n",
      "(Credit Card Number)\n",
      "Expiration Month_____  Year_____\n",
      "___________________________________________________\n",
      "Email Address (Please Write Neat)\n",
      "___________________________________________________\n",
      "Authorized Signature\n",
      "We apologize for any email you may have inadvertently\n",
      "received.\n",
      "Please  HYPERLINK CLICK\n",
      "HERE to unsubscribe from future\n",
      "mailings.\n",
      "\n",
      "=================================\n",
      "45\n",
      "multipart(text/html)\n",
      " \n",
      "Government Grants E-Book 2002\n",
      "edition, Just $15.95. Summer Sale, Good Until August 10, 2002!  Was $49.95.\n",
      "You Can Receive The Money You Need...\n",
      "Every day millions of\n",
      "dollars are given away to people, just like\n",
      "you!!\n",
      "Your Government spends billions of tax dollars on\n",
      "government grants.\n",
      "Do you know that private foundations, trust and\n",
      "corporations are\n",
      "required to give away a portion of theirs assets.\n",
      "It doesn't matter,\n",
      "where you live (USA ONLY), your employment status,\n",
      "or if you are broke, retired\n",
      "or living on a fixed income. There may be a grant\n",
      "for you!\n",
      "ANYONE can apply\n",
      "for a Grant from 18 years old and up!\n",
      "We will show you HOW & WHERE to get Grants. THIS BOOK IS NEWLY UPDATED WITH THE\n",
      "MOST CURRENT INFORMATION!!!\n",
      "Grants from $500.00 to $50,000.00 are possible!\n",
      "GRANTS don't have to be paid back, EVER!\n",
      "Grants can be ideal for people who are or were\n",
      "bankrupt or just have bad credit.\n",
      "Please Visit Our\n",
      "Website\n",
      "And Place Your  Order\n",
      "TODAY!  HYPERLINK CLICK HERE  \n",
      "To Order by postal mail, please send $15.95 Plus $4.00 S & H.\n",
      "Make payable to Grant Gold 2002.\n",
      "Grant Gold 2002\n",
      "P. O. Box 36\n",
      "Dayton, Ohio  45405\n",
      "If you would like to order via Fax, please include your credit card information below and fax to our Fax Line.\n",
      "OUR 24 HOUR FAX NUMBER:  775-257-6657.\n",
      "*****\n",
      "Important Credit Card Information! Please Read Below!\n",
      "*     Credit Card Address, City, State and Zip Code, must match billing address to be processed.\n",
      "CHECK____  MONEYORDER____  VISA____ MASTERCARD____ AmericanExpress___ Debt Card___\n",
      "Name_______________________________________________________\n",
      "(As it appears on Check or Credit Card)\n",
      "Address____________________________________________________\n",
      "(As it appears on Check or Credit Card)\n",
      "___________________________________________________\n",
      "City,State,Zip(As it appears on Check or Credit Card)\n",
      "___________________________________________________\n",
      "(Credit Card Number)\n",
      "Expiration Month_____  Year_____\n",
      "___________________________________________________\n",
      "Email Address (Please Write Neat)\n",
      "___________________________________________________\n",
      "Authorized Signature\n",
      "We apologize for any email you may have inadvertently\n",
      "received.\n",
      "Please  HYPERLINK CLICK\n",
      "HERE to unsubscribe from future\n",
      "mailings.\n",
      "\n",
      "=================================\n",
      "47\n",
      "multipart(text/plain, text/html)\n",
      " \n",
      "Government Grants E-Book 2002\n",
      "edition, Just $15.95. Summer Sale, Good Until August 10, 2002!  Was $49.95.\n",
      "You Can Receive The Money You Need...\n",
      "Every day millions of\n",
      "dollars are given away to people, just like\n",
      "you!!\n",
      "Your Government spends billions of tax dollars on\n",
      "government grants.\n",
      "Do you know that private foundations, trust and\n",
      "corporations are\n",
      "required to give away a portion of theirs assets.\n",
      "It doesn't matter,\n",
      "where you live (USA ONLY), your employment status,\n",
      "or if you are broke, retired\n",
      "or living on a fixed income. There may be a grant\n",
      "for you!\n",
      "ANYONE can apply\n",
      "for a Grant from 18 years old and up!\n",
      "We will show you HOW & WHERE to get Grants. THIS BOOK IS NEWLY UPDATED WITH THE\n",
      "MOST CURRENT INFORMATION!!!\n",
      "Grants from $500.00 to $50,000.00 are possible!\n",
      "GRANTS don't have to be paid back, EVER!\n",
      "Grants can be ideal for people who are or were\n",
      "bankrupt or just have bad credit.\n",
      "Please Visit Our\n",
      "Website\n",
      "And Place Your  Order\n",
      "TODAY!  HYPERLINK CLICK HERE  \n",
      "To Order by postal mail, please send $15.95 Plus $4.00 S & H.\n",
      "Make payable to Grant Gold 2002.\n",
      "Grant Gold 2002\n",
      "P. O. Box 36\n",
      "Dayton, Ohio  45405\n",
      "If you would like to order via Fax, please include your credit card information below and fax to our Fax Line.\n",
      "OUR 24 HOUR FAX NUMBER:  775-257-6657.\n",
      "*****\n",
      "Important Credit Card Information! Please Read Below!\n",
      "*     Credit Card Address, City, State and Zip Code, must match billing address to be processed.\n",
      "CHECK____  MONEYORDER____  VISA____ MASTERCARD____ AmericanExpress___ Debt Card___\n",
      "Name_______________________________________________________\n",
      "(As it appears on Check or Credit Card)\n",
      "Address____________________________________________________\n",
      "(As it appears on Check or Credit Card)\n",
      "___________________________________________________\n",
      "City,State,Zip(As it appears on Check or Credit Card)\n",
      "___________________________________________________\n",
      "(Credit Card Number)\n",
      "Expiration Month_____  Year_____\n",
      "___________________________________________________\n",
      "Email Address (Please Write Neat)\n",
      "___________________________________________________\n",
      "Authorized Signature\n",
      "We apologize for any email you may have inadvertently\n",
      "received.\n",
      "Please  HYPERLINK CLICK\n",
      "HERE to unsubscribe from future\n",
      "mailings.\n",
      "\n",
      "=================================\n",
      "74\n",
      "multipart(text/plain, text/html)\n",
      " \n",
      "Government Grants E-Book 2002\n",
      "edition, Just $15.95. Summer Sale, Good Until August 10, 2002!  Was $49.95.\n",
      "You Can Receive The Money You Need...\n",
      "Every day millions of\n",
      "dollars are given away to people, just like\n",
      "you!!\n",
      "Your Government spends billions of tax dollars on\n",
      "government grants.\n",
      "Do you know that private foundations, trust and\n",
      "corporations are\n",
      "required to give away a portion of theirs assets.\n",
      "It doesn't matter,\n",
      "where you live (USA ONLY), your employment status,\n",
      "or if you are broke, retired\n",
      "or living on a fixed income. There may be a grant\n",
      "for you!\n",
      "ANYONE can apply\n",
      "for a Grant from 18 years old and up!\n",
      "We will show you HOW & WHERE to get Grants. THIS BOOK IS NEWLY UPDATED WITH THE\n",
      "MOST CURRENT INFORMATION!!!\n",
      "Grants from $500.00 to $50,000.00 are possible!\n",
      "GRANTS don't have to be paid back, EVER!\n",
      "Grants can be ideal for people who are or were\n",
      "bankrupt or just have bad credit.\n",
      "Please Visit Our\n",
      "Website\n",
      "And Place Your  Order\n",
      "TODAY!  HYPERLINK CLICK HERE  \n",
      "To Order by postal mail, please send $15.95 Plus $4.00 S & H.\n",
      "Make payable to Grant Gold 2002.\n",
      "Grant Gold 2002\n",
      "P. O. Box 36\n",
      "Dayton, Ohio  45405\n",
      "If you would like to order via Fax, please include your credit card information below and fax to our Fax Line.\n",
      "OUR 24 HOUR FAX NUMBER:  775-257-6657.\n",
      "*****\n",
      "Important Credit Card Information! Please Read Below!\n",
      "*     Credit Card Address, City, State and Zip Code, must match billing address to be processed.\n",
      "CHECK____  MONEYORDER____  VISA____ MASTERCARD____ AmericanExpress___ Debt Card___\n",
      "Name_______________________________________________________\n",
      "(As it appears on Check or Credit Card)\n",
      "Address____________________________________________________\n",
      "(As it appears on Check or Credit Card)\n",
      "___________________________________________________\n",
      "City,State,Zip(As it appears on Check or Credit Card)\n",
      "___________________________________________________\n",
      "(Credit Card Number)\n",
      "Expiration Month_____  Year_____\n",
      "___________________________________________________\n",
      "Email Address (Please Write Neat)\n",
      "___________________________________________________\n",
      "Authorized Signature\n",
      "We apologize for any email you may have inadvertently\n",
      "received.\n",
      "Please  HYPERLINK CLICK\n",
      "HERE to unsubscribe from future\n",
      "mailings.\n",
      "\n",
      "=================================\n",
      "77\n",
      "multipart(text/html)\n",
      " \n",
      "Government Grants E-Book 2002\n",
      "edition, Just $15.95. Summer Sale, Good Until August 10, 2002!  Was $49.95.\n",
      "You Can Receive The Money You Need...\n",
      "Every day millions of\n",
      "dollars are given away to people, just like\n",
      "you!!\n",
      "Your Government spends billions of tax dollars on\n",
      "government grants.\n",
      "Do you know that private foundations, trust and\n",
      "corporations are\n",
      "required to give away a portion of theirs assets.\n",
      "It doesn't matter,\n",
      "where you live (USA ONLY), your employment status,\n",
      "or if you are broke, retired\n",
      "or living on a fixed income. There may be a grant\n",
      "for you!\n",
      "ANYONE can apply\n",
      "for a Grant from 18 years old and up!\n",
      "We will show you HOW & WHERE to get Grants. THIS BOOK IS NEWLY UPDATED WITH THE\n",
      "MOST CURRENT INFORMATION!!!\n",
      "Grants from $500.00 to $50,000.00 are possible!\n",
      "GRANTS don't have to be paid back, EVER!\n",
      "Grants can be ideal for people who are or were\n",
      "bankrupt or just have bad credit.\n",
      "Please Visit Our\n",
      "Website\n",
      "And Place Your  Order\n",
      "TODAY!  HYPERLINK CLICK HERE  \n",
      "To Order by postal mail, please send $15.95 Plus $4.00 S & H.\n",
      "Make payable to Grant Gold 2002.\n",
      "Grant Gold 2002\n",
      "P. O. Box 36\n",
      "Dayton, Ohio  45405\n",
      "If you would like to order via Fax, please include your credit card information below and fax to our Fax Line.\n",
      "OUR 24 HOUR FAX NUMBER:  775-257-6657.\n",
      "*****\n",
      "Important Credit Card Information! Please Read Below!\n",
      "*     Credit Card Address, City, State and Zip Code, must match billing address to be processed.\n",
      "CHECK____  MONEYORDER____  VISA____ MASTERCARD____ AmericanExpress___ Debt Card___\n",
      "Name_______________________________________________________\n",
      "(As it appears on Check or Credit Card)\n",
      "Address____________________________________________________\n",
      "(As it appears on Check or Credit Card)\n",
      "___________________________________________________\n",
      "City,State,Zip(As it appears on Check or Credit Card)\n",
      "___________________________________________________\n",
      "(Credit Card Number)\n",
      "Expiration Month_____  Year_____\n",
      "___________________________________________________\n",
      "Email Address (Please Write Neat)\n",
      "___________________________________________________\n",
      "Authorized Signature\n",
      "We apologize for any email you may have inadvertently\n",
      "received.\n",
      "Please  HYPERLINK CLICK\n",
      "HERE to unsubscribe from future\n",
      "mailings.\n",
      "\n"
     ]
    }
   ],
   "source": [
    "count = 0\n",
    "for ind in range(len(spam_emails)):\n",
    "    sample_email = spam_emails[ind]\n",
    "#     print(type(get_email_structure(sample_email)))\n",
    "    if not \"multi\" in get_email_structure(sample_email):\n",
    "        continue\n",
    "    else:\n",
    "        count += 1\n",
    "        print(\"=================================\")\n",
    "        print(ind)\n",
    "        print(get_email_structure(sample_email))\n",
    "        print(email_to_text(spam_emails[9]))\n",
    "        if count > 5:\n",
    "            break"
   ]
  },
  {
   "cell_type": "markdown",
   "metadata": {},
   "source": [
    "### Some necessary toolkit for processing"
   ]
  },
  {
   "cell_type": "code",
   "execution_count": 147,
   "metadata": {},
   "outputs": [
    {
     "name": "stdout",
     "output_type": "stream",
     "text": [
      "Computations => comput\n",
      "Computation => comput\n",
      "Computing => comput\n",
      "Computed => comput\n",
      "Compute => comput\n",
      "Compulsive => compuls\n"
     ]
    }
   ],
   "source": [
    "try:\n",
    "    import nltk\n",
    "\n",
    "    stemmer = nltk.PorterStemmer()\n",
    "    for word in (\"Computations\", \"Computation\", \"Computing\", \"Computed\", \"Compute\", \"Compulsive\"):\n",
    "        print(word, \"=>\", stemmer.stem(word))\n",
    "except ImportError:\n",
    "    print(\"Error: stemming requires the NLTK module.\")\n",
    "    stemmer = None"
   ]
  },
  {
   "cell_type": "code",
   "execution_count": 199,
   "metadata": {},
   "outputs": [
    {
     "name": "stdout",
     "output_type": "stream",
     "text": [
      "['github.com', 'https://youtu.be/7Pq-S557XQU?t=3m32s']\n"
     ]
    }
   ],
   "source": [
    "try:\n",
    "    import urlextract # may require an Internet connection to download root domain names\n",
    "    \n",
    "    url_extractor = urlextract.URLExtract()\n",
    "    print(url_extractor.find_urls(\"Will it detect github.com and https://youtu.be/7Pq-S557XQU?t=3m32s\"))\n",
    "except ImportError:\n",
    "    print(\"Error: replacing URLs requires the urlextract module.\")\n",
    "    url_extractor = None"
   ]
  },
  {
   "cell_type": "markdown",
   "metadata": {},
   "source": [
    "## Start To build pipeline"
   ]
  },
  {
   "cell_type": "markdown",
   "metadata": {},
   "source": [
    "### 1.Convert Email to word count"
   ]
  },
  {
   "cell_type": "code",
   "execution_count": 202,
   "metadata": {
    "collapsed": true
   },
   "outputs": [],
   "source": [
    "from sklearn.base import BaseEstimator, TransformerMixin\n",
    "\n",
    "class EmailToWordCounterTransformer(BaseEstimator, TransformerMixin):\n",
    "    def __init__(self, strip_headers=True, lower_case=True, remove_punctuation=True,\n",
    "                 replace_urls=True, replace_numbers=True, stemming=True):\n",
    "        self.strip_headers = strip_headers\n",
    "        self.lower_case = lower_case\n",
    "        self.remove_punctuation = remove_punctuation\n",
    "        self.replace_urls = replace_urls\n",
    "        self.replace_numbers = replace_numbers\n",
    "        self.stemming = stemming\n",
    "        \n",
    "    def fit(self, X_train, y_train=None):\n",
    "        return self\n",
    "    \n",
    "    def transform(self, X_train, y_train=None):\n",
    "        X_transformed = []\n",
    "        for email in X_train:\n",
    "            text = email_to_text(email)\n",
    "            if self.strip_headers:\n",
    "                pass\n",
    "            if self.lower_case:\n",
    "                text = text.lower()\n",
    "            if self.replace_urls:\n",
    "                urls = list(set(urlextract.URLExtract().find_urls(text)))\n",
    "                urls.sort(key=lambda url: len(url), reverse=True)\n",
    "                for url in urls:\n",
    "                    text = text.replace(url, \" URL \")\n",
    "            if self.replace_numbers:\n",
    "                text = re.sub(r'\\d+(?:\\.\\d*(?:[eE]\\d+))?', 'NUMBER', text)\n",
    "            if self.remove_punctuation:\n",
    "                text = re.sub(r'\\W+', ' ', text, flags=re.M)\n",
    "            word_counts = Counter(text.split())\n",
    "            if self.stemming and stemmer is not None:\n",
    "                stemmed_word_counts = Counter()\n",
    "                for word, count in word_counts.items():\n",
    "                    stemmed_word = stemmer.stem(word)\n",
    "                    stemmed_word_counts[stemmed_word] += count\n",
    "                word_counts = stemmed_word_counts\n",
    "            X_transformed.append(word_counts)\n",
    "        return np.array(X_transformed)"
   ]
  },
  {
   "cell_type": "code",
   "execution_count": 204,
   "metadata": {
    "collapsed": true
   },
   "outputs": [],
   "source": [
    "email_to_word_counter_transformer = EmailToWordCounterTransformer()"
   ]
  },
  {
   "cell_type": "code",
   "execution_count": 205,
   "metadata": {},
   "outputs": [
    {
     "data": {
      "text/plain": [
       "array([ Counter({'key': 18, 'the': 16, 'a': 14, 'person': 9, 'to': 8, 'of': 8, 'your': 7, 'list': 7, 'url': 7, 'you': 6, 'id': 5, 'and': 5, 'from': 5, 'copi': 5, 'it': 5, 'b': 5, 'name': 4, 'will': 4, 'is': 4, 'can': 4, 'then': 4, 'on': 4, 'pgp': 3, 'type': 3, 'size': 3, 'fingerprint': 3, 'master': 3, 'their': 3, 'that': 3, 'owner': 3, 'check': 3, 'number': 3, 'in': 2, 'gpg': 2, 'sign': 2, 'get': 2, 'email': 2, 'me': 2, 'info': 2, 'i': 2, 'add': 2, 'if': 2, 'now': 2, 'out': 2, 'photo': 2, 'ident': 2, 'send': 2, 'valid': 2, 'thi': 2, 'match': 2, 'for': 2, 'off': 2, 's': 2, 'mark': 2, 'fnumber': 2, 'spamassassin': 2, 'sight': 2, 'anyon': 1, 'interest': 1, 'togeth': 1, 'dc': 1, 'pleas': 1, 'don': 1, 't': 1, 'have': 1, 'great': 1, 'time': 1, 'make': 1, 'one': 1, 'want': 1, 'find': 1, 'more': 1, 'about': 1, 'softwar': 1, 'pgpfreewar': 1, 'gnupg': 1, 'bring': 1, 'follow': 1, 'must': 1, 'be': 1, 'print': 1, 'pass': 1, 'what': 1, 'peopl': 1, 'individu': 1, 'we': 1, 'cross': 1, 'eachoth': 1, 'work': 1, 'like': 1, 'tell': 1, 'detail': 1, 'confirm': 1, 'inform': 1, 'next': 1, 'produc': 1, 'prove': 1, 'revers': 1, 'done': 1, 'after': 1, 'while': 1, 'end': 1, 'up': 1, 'with': 1, 'full': 1, 'hope': 1, 'later': 1, 'retriev': 1, 'either': 1, 'keyserv': 1, 'or': 1, 'directli': 1, 'verifi': 1, 'use': 1, 'privat': 1, 'upload': 1, 'signatur': 1, 'server': 1, 'back': 1, 'thier': 1, 'keyr': 1, 'renouf': 1, 'tweakt': 1, 'net': 1, 'dh': 1, 'dss': 1, 'keyid': 1, 'numberxfnumberfnumb': 1, 'numbercenumb': 1, 'numberdd': 1, 'enumber': 1, 'numberbnumberc': 1, 'cnumberd': 1, 'numberanumb': 1, 'deathtospamdeathtospamdeathtospam': 1, 'sponsor': 1, 'by': 1, 'thinkgeek': 1, 'welcom': 1, 'geek': 1, 'heaven': 1, '_______________________________________________': 1, 'mail': 1}),\n",
       "       Counter({'list': 4, 'url': 3, 'your': 2, 'request': 2, 'the': 2, 'mail': 2, 'post': 2, 'member': 2, 'to': 2, 'as': 1, 'administr': 1, 'author': 1, 'is': 1, 'for': 1, 'follow': 1, 'iiu': 1, 'from': 1, 'emailharvest': 1, 'subject': 1, 'harvest': 1, 'lot': 1, 'of': 1, 'e': 1, 'address': 1, 'quickli': 1, 'reason': 1, 'by': 1, 'non': 1, 'a': 1, 'onli': 1, 'at': 1, 'conveni': 1, 'visit': 1, 'approv': 1, 'or': 1, 'deni': 1}),\n",
       "       Counter({'the': 18, 'number': 13, 'of': 8, 'on': 8, 'laptop': 6, 'is': 6, 'a': 6, 'kevin': 5, 'and': 5, 'by': 5, 'url': 4, 'mitnick': 4, 'in': 4, 'woz': 3, 'wozniak': 3, 'sign': 3, 'comput': 3, 'with': 3, 'free': 2, 'steve': 2, 'co': 2, 'host': 2, 'episod': 2, 'screen': 2, 'saver': 2, 'where': 2, 'that': 2, 'got': 2, 'arrest': 2, 'for': 2, 'fbi': 2, 'world': 2, 'ha': 2, 'been': 2, 'version': 2, 'window': 2, 'includ': 2, 'bottom': 2, 'also': 2, 'show': 2, 'date': 1, 'not': 1, 'suppli': 1, 'an': 1, 'tech': 1, 'tv': 1, 'autograph': 1, 'one': 1, 'use': 1, 'now': 1, 'machin': 1, 'both': 1, 'net': 1, 'celeb': 1, 'up': 1, 'sale': 1, 'ebay': 1, 'thi': 1, 'toshiba': 1, 'satellit': 1, 'tnumberc': 1, 'seiz': 1, 'februari': 1, 'raleigh': 1, 'nc': 1, 'dure': 1, 's': 1, 'most': 1, 'celebr': 1, 'hacker': 1, 'work': 1, 'load': 1, 'fresh': 1, 'shrink': 1, 'wrap': 1, 'floppi': 1, 'numberdx': 1, 'color': 1, 'lcd': 1, 'detach': 1, 'trackbal': 1, 'mous': 1, 'at': 1, 't': 1, 'pcmcia': 1, 'modem': 1, 'card': 1, 'power': 1, 'adapt': 1, 'document': 1, 'evid': 1, 'bag': 1, 'founder': 1, 'appl': 1, 'say': 1, 'you': 1, 've': 1, 'whole': 1, 'your': 1, 'hand': 1, 'it': 1, 'himself': 1, 'system': 1, 'wa': 1, 'shown': 1, 'septemb': 1, 'techtv': 1, 'signatur': 1, 'were': 1, 'authent': 1, 'special': 1, 'tape': 1, 'will': 1, 'be': 1, 'link': 1, 'discuss': 1, '_thank': 1, 'jimbo': 1, '_': 1}),\n",
       "       ...,\n",
       "       Counter({'the': 101, 'of': 53, 'number': 42, 'and': 32, 'to': 32, 'in': 29, 'that': 23, 'climat': 23, 'warm': 20, 'a': 16, 'are': 16, 'global': 15, 'on': 14, 'is': 14, 'for': 13, 'human': 12, 'simul': 12, 'year': 11, 'futur': 11, 'as': 10, 'about': 10, 'not': 9, 'made': 9, 'or': 9, 'predict': 9, 'by': 8, 'it': 8, 'they': 8, 'forecast': 8, 'from': 7, 'be': 7, 'have': 7, 'comput': 7, 'trend': 7, 'scenario': 7, 'expert': 6, 'will': 6, 'chang': 6, 'such': 6, 'more': 6, 'model': 6, 'believ': 5, 'scienc': 5, 'peopl': 5, 'increas': 5, 'what': 5, 'decad': 5, 'no': 5, 'at': 5, 'surfac': 5, 'with': 5, 'make': 5, 'energi': 5, 'which': 5, 'result': 5, 'those': 4, 'poll': 4, 'million': 4, 'world': 4, 'measur': 4, 'than': 4, 'occur': 4, 'scale': 4, 'numberth': 4, 'one': 4, 'warmth': 4, 'caus': 4, 'report': 4, 'past': 4, 'ago': 4, 'natur': 4, 'even': 4, 'project': 4, 'use': 4, 'may': 4, 'littl': 3, 'opinion': 3, 'url': 3, 'found': 3, 'carbon': 3, 'gase': 3, 'dinosaur': 3, 'scientif': 3, 'fact': 3, 'onli': 3, 'exampl': 3, 'case': 3, 'public': 3, 'most': 3, 'do': 3, 'we': 3, 'know': 3, 'point': 3, 'temperatur': 3, 'widespread': 3, 'centuri': 3, 'there': 3, 'period': 3, 'thi': 3, 'e': 3, 'but': 3, 'cannot': 3, 'claim': 3, 'air': 3, 'all': 3, 'recent': 3, 'neither': 3, 'ani': 3, 'uncertain': 3, 'condit': 3, 'uncertainti': 3, 'should': 3, 'lindzen': 3, 'testifi': 3, 'senat': 3, 'committe': 3, 'variabl': 3, 'storm': 3, 'assess': 3, 'rah': 2, 'just': 2, 'nation': 2, 'foundat': 2, 'dioxid': 2, 'if': 2, 'lead': 2, 'co': 2, 'exist': 2, 'despit': 2, 'befor': 2, 'appear': 2, 'respond': 2, 'mani': 2, 'earli': 2, 'actual': 2, 'noth': 2, 'stori': 2, 'televis': 2, 'after': 2, 'activ': 2, 'howev': 2, 'worri': 2, 'environment': 2, 'concern': 2, 'top': 2, 'wa': 2, 'understand': 2, 'here': 2, 'record': 2, 'show': 2, 'ecosystem': 2, 'sinc': 2, 'ca': 2, 'c': 2, 'associ': 2, 'without': 2, 'inform': 2, 'media': 2, 'respons': 2, 'mountain': 2, 'glacier': 2, 'owe': 2, 'dure': 2, 'ice': 2, 'age': 2, 'greenhous': 2, 'say': 2, 'order': 2, 'must': 2, 'an': 2, 'weather': 2, 'last': 2, 'thu': 2, 'explain': 2, 'come': 2, 'emiss': 2, 'highli': 2, 'probabl': 2, 'occurr': 2, 'guess': 2, 'u': 2, 'n': 2, 'ipcc': 2, 's': 2, 'their': 2, 'first': 2, 'step': 2, 'inabl': 2, 'unreli': 2, 'ha': 2, 'complet': 2, 'specul': 2, 'p': 2, 'signific': 2, 'work': 2, 'output': 2, 'complex': 2, 'where': 2, 'thousand': 2, 'veri': 2, 'well': 2, 'phenomena': 2, 'oscil': 2, 'import': 2, 'simpli': 2, 'somehow': 2, 'rest': 2, 't': 2, 'popular': 2, 'averag': 2, 'local': 2, 'impact': 2, 'relev': 2, 'stormi': 2, 'anthropogen': 2, 'these': 2, 'extrem': 2, 'event': 2, 'imposs': 2, 'drought': 2, 'flood': 2, 'current': 2, 'state': 2, 'empir': 2, 'accuraci': 2, 'tidbit': 1, 'who': 1, 'still': 1, 'cheer': 1, 'ask': 1, 'salli': 1, 'baliuna': 1, 'willi': 1, 'soon': 1, 'survey': 1, 'nationwid': 1, 'other': 1, 'releas': 1, 'into': 1, 'atmospher': 1, 'uncheck': 1, 'yet': 1, 'half': 1, 'earth': 1, 'went': 1, 'extinct': 1, 'ten': 1, 'earliest': 1, 'hominid': 1, 'wors': 1, 'understood': 1, 'molecul': 1, 'belief': 1, 'doe': 1, 'materi': 1, 'degre': 1, 'ignor': 1, 'matter': 1, 'get': 1, 'news': 1, 'technolog': 1, 'develop': 1, 'fed': 1, 'wonder': 1, 'anxieti': 1, 'great': 1, 'deal': 1, 'rank': 1, 'out': 1, 'fear': 1, 'share': 1, 'pollut': 1, 'drink': 1, 'water': 1, 'so': 1, 'latest': 1, 'three': 1, 'thermomet': 1, 'compar': 1, 'second': 1, 'seen': 1, 'addit': 1, 'some': 1, 'g': 1, 'retreat': 1, 'unjustifi': 1, 'man': 1, 'reced': 1, 'around': 1, 'advanc': 1, 'unusu': 1, 'cold': 1, 'both': 1, 'shift': 1, 'concentr': 1, 'conclud': 1, 'accompani': 1, 'equal': 1, 'larger': 1, 'five': 1, 'mile': 1, 'height': 1, 'satellit': 1, 'verifi': 1, 'balloon': 1, 'meaning': 1, 'over': 1, 'two': 1, 'four': 1, 'reliabl': 1, 'tool': 1, 'shock': 1, 'when': 1, 'consid': 1, 'potenti': 1, 'unit': 1, 'intergovernment': 1, 'panel': 1, 'write': 1, 'special': 1, 'imag': 1, 'altern': 1, 'nor': 1, 'further': 1, 'possibl': 1, 'singl': 1, 'path': 1, 'describ': 1, 'final': 1, 'judgement': 1, 'offer': 1, 'prefer': 1, 'assign': 1, 'interpret': 1, 'polici': 1, 'recommend': 1, 'societ': 1, 'often': 1, 'amount': 1, 'unconvinc': 1, 'jess': 1, 'ausebel': 1, 'rockefel': 1, 'univers': 1, 'april': 1, 'critiqu': 1, 'decarbon': 1, 'slope': 1, 'everi': 1, 'way': 1, 'attach': 1, 'confess': 1, 'collect': 1, 'underli': 1, 'craft': 1, 'polit': 1, 'strongli': 1, 'bia': 1, 'nonetheless': 1, 'form': 1, 'input': 1, 'sure': 1, 'compound': 1, 'next': 1, 'surpris': 1, 'upon': 1, 'base': 1, 'yield': 1, 'becaus': 1, 'outlin': 1, 'abov': 1, 'incompat': 1, 'how': 1, 'few': 1, 'richard': 1, 'alfr': 1, 'sloan': 1, 'professor': 1, 'meteorolog': 1, 'mit': 1, 'resourc': 1, 'catastroph': 1, 'consequ': 1, 'almost': 1, 'theoret': 1, 'frequent': 1, 'involv': 1, 'assum': 1, 'opposit': 1, 'happen': 1, 'solid': 1, 'specialist': 1, 'remain': 1, 'undepend': 1, 'extraordinari': 1, 'commerc': 1, 'long': 1, 'stand': 1, 'deliv': 1, 'resembl': 1, 'realiti': 1, 'good': 1, 'avail': 1, 'agreement': 1, 'among': 1, 'scientist': 1, 'larg': 1, 'unabl': 1, 'major': 1, 'featur': 1, 'cycl': 1, 'domin': 1, 'miocen': 1, 'eocen': 1, 'cretac': 1, 'account': 1, 'shorter': 1, 'less': 1, 'dramat': 1, 'like': 1, 'el': 1, 'nino': 1, 'quasi': 1, 'biennial': 1, 'intraseason': 1, 'document': 1, 'data': 1, 'contributor': 1, 'failur': 1, 'i': 1, 'am': 1, 'fallaci': 1, 'assumpt': 1, 'everyth': 1, 'them': 1, 'display': 1, 'technic': 1, 'thing': 1, 'liter': 1, 'don': 1, 'punctuat': 1, 'notion': 1, 'miracul': 1, 'give': 1, 'appropri': 1, 'think': 1, 'now': 1, 'econom': 1, 'social': 1, 'un': 1, 'valid': 1, 'outcom': 1, 'would': 1, 'learn': 1, 'issu': 1, 'idea': 1, 'defi': 1, 'david': 1, 'legat': 1, 'hydrolog': 1, 'research': 1, 'environ': 1, 'march': 1, 'ascertain': 1, 'nearli': 1, 'begin': 1, 'system': 1, 'let': 1, 'alon': 1, 'full': 1, 'rang': 1, 'clearli': 1, 'wildli': 1, 'exagger': 1, 'third': 1, 'concur': 1, 'insuffici': 1, 'lack': 1, 'spatial': 1, 'detail': 1, 'requir': 1, 'confid': 1, 'small': 1, 'thunderstorm': 1, 'tornado': 1, 'hail': 1, 'lightn': 1, 'summari': 1, 'policymak': 1, 'group': 1, 'american': 1, 'climatologist': 1, 'summar': 1, 'time': 1, 'call': 1, 'verif': 1, 'wait': 1, 'longer': 1, 'demonstr': 1, 'skill': 1, 'grow': 1, 'season': 1, 'produc': 1, 'rainfal': 1, 'heat': 1, 'wave': 1, 'tropic': 1, 'cyclon': 1, 'winter': 1, 'type': 1, 'societi': 1, 'annual': 1, 'r': 1, 'hettinga': 1, 'mailto': 1, 'ibuc': 1, 'com': 1, 'internet': 1, 'bearer': 1, 'underwrit': 1, 'corpor': 1, 'farquhar': 1, 'street': 1, 'boston': 1, 'ma': 1, 'usa': 1, 'deserv': 1, 'respect': 1, 'antiqu': 1, 'end': 1, 'been': 1, 'agreeabl': 1, 'experi': 1, 'edward': 1, 'gibbon': 1, 'declin': 1, 'fall': 1, 'roman': 1}),\n",
       "       Counter({'the': 9, 'i': 7, 'number': 7, 'rpm': 5, 'of': 4, 'url': 4, 'make': 4, 'list': 4, 'a': 3, 'apt': 3, 'repositori': 3, 'and': 3, 'could': 3, 'time': 2, 'about': 2, 'on': 2, 'center': 2, 'ad': 2, 'whole': 2, 'submiss': 2, 'autom': 2, 'even': 2, 'you': 2, 'sublimin': 2, 'messag': 2, 'matthia': 2, 'onc': 1, 'upon': 1, 'brian': 1, 'wrote': 1, 'wa': 1, 'thinkinf': 1, 'an': 1, 'addit': 1, 'anoth': 1, 'file': 1, 'stick': 1, 'it': 1, 'univers': 1, 'imho': 1, 'everi': 1, 'new': 1, 'is': 1, 'can': 1, 'be': 1, 'rebuilt': 1, 'heck': 1, 'if': 1, 'get': 1, 'out': 1, 'my': 1, 'depress': 1, 'process': 1, 'well': 1, 'alreadi': 1, 'keep': 1, 'known': 1, 'although': 1, 'haven': 1, 't': 1, 'one': 1, 'that': 1, 'were': 1, 'talk': 1, 'late': 1, 'actual': 1, 've': 1, 'been': 1, 'veri': 1, 'busi': 1, 'over': 1, 'week': 1, 'end': 1, 'm': 1, 'sick': 1, 'right': 1, 'now': 1, 'need': 1, 'saou': 1, 'world': 1, 'trade': 1, 'edificio': 1, 'nort': 1, 'planta': 1, 'system': 1, 'network': 1, 'engin': 1, 'barcelona': 1, 'spain': 1, 'electron': 1, 'group': 1, 'interact': 1, 'phone': 1, '_______________________________________________': 1, 'mail': 1, 'freshrpm': 1, 'net': 1}),\n",
       "       Counter({'to': 6, 'we': 3, 'our': 3, 'hyperlink': 2, 'email': 2, 'do': 2, 'not': 2, 'wish': 2, 'receiv': 2, 'special': 2, 'have': 2, 'in': 2, 'of': 2, 'request': 2, 'time': 2, 'if': 2, 'you': 2, 'pleas': 2, 'thi': 2, 'are': 1, 'strongli': 1, 'against': 1, 'send': 1, 'unsolicit': 1, 'those': 1, 'who': 1, 'url': 1, 'opt': 1, 'one': 1, 'or': 1, 'more': 1, 'affili': 1, 'site': 1, 'be': 1, 'notifi': 1, 'ani': 1, 'offer': 1, 'may': 1, 'run': 1, 'from': 1, 'further': 1, 'mail': 1, 'click': 1, 'link': 1, 'accept': 1, 'apolog': 1, 'been': 1, 'sent': 1, 'error': 1, 'honor': 1, 'all': 1, 'remov': 1, 'number': 1})], dtype=object)"
      ]
     },
     "execution_count": 205,
     "metadata": {},
     "output_type": "execute_result"
    }
   ],
   "source": [
    "X_train_wc = email_to_word_counter_transformer.fit_transform(X_train)\n",
    "X_train_wc"
   ]
  },
  {
   "cell_type": "markdown",
   "metadata": {},
   "source": [
    "### 2.Convert word count to vector"
   ]
  },
  {
   "cell_type": "code",
   "execution_count": 228,
   "metadata": {
    "collapsed": true
   },
   "outputs": [],
   "source": [
    "from scipy.sparse import csr_matrix\n",
    "\n",
    "class WordCounterToVectorTransformer(BaseEstimator, TransformerMixin):\n",
    "    def __init__(self, with_min=True, vocabulary_size=1000):\n",
    "        self.vocabulary_size = vocabulary_size\n",
    "        self.with_min = with_min\n",
    "    def fit(self, X, y=None):\n",
    "        total_count = Counter()\n",
    "        for word_count in X:\n",
    "            for word, count in word_count.items():\n",
    "                if self.with_min:\n",
    "                    total_count[word] += min(count, 10)\n",
    "                else:\n",
    "                    total_count[word] += count\n",
    "        most_common = total_count.most_common()[:self.vocabulary_size]\n",
    "        self.most_common_ = most_common\n",
    "        self.vocabulary_ = {word: index + 1 for index, (word, count) in enumerate(most_common)}\n",
    "        return self\n",
    "    def transform(self, X, y=None):\n",
    "        rows = []\n",
    "        cols = []\n",
    "        data = []\n",
    "        for row, word_count in enumerate(X):\n",
    "            for word, count in word_count.items():\n",
    "                rows.append(row)\n",
    "                cols.append(self.vocabulary_.get(word, 0))\n",
    "                data.append(count)\n",
    "        return csr_matrix((data, (rows, cols)), shape=(len(X), self.vocabulary_size + 1))"
   ]
  },
  {
   "cell_type": "code",
   "execution_count": 229,
   "metadata": {
    "collapsed": true
   },
   "outputs": [],
   "source": [
    "word_counter_to_vector_transformer = WordCounterToVectorTransformer()"
   ]
  },
  {
   "cell_type": "code",
   "execution_count": 230,
   "metadata": {},
   "outputs": [
    {
     "data": {
      "text/plain": [
       "<4636x1001 sparse matrix of type '<class 'numpy.int64'>'\n",
       "\twith 397649 stored elements in Compressed Sparse Row format>"
      ]
     },
     "execution_count": 230,
     "metadata": {},
     "output_type": "execute_result"
    }
   ],
   "source": [
    "X_train_vec = word_counter_to_vector_transformer.fit_transform(X_train_wc)\n",
    "X_train_vec"
   ]
  },
  {
   "cell_type": "markdown",
   "metadata": {},
   "source": [
    "## Now we Set up the pipline and train the classifier"
   ]
  },
  {
   "cell_type": "markdown",
   "metadata": {},
   "source": [
    "The following fragment was modified from:<br/>\n",
    "    https://www.kaggle.com/sinakhorami/titanic-best-working-classifier"
   ]
  },
  {
   "cell_type": "code",
   "execution_count": 236,
   "metadata": {
    "collapsed": true
   },
   "outputs": [],
   "source": [
    "data_prep_pip = Pipeline([\n",
    "    (\"email_to_word_counter\", EmailToWordCounterTransformer()),\n",
    "    (\"word_counter_to_vector\", WordCounterToVectorTransformer()),\n",
    "])"
   ]
  },
  {
   "cell_type": "code",
   "execution_count": 241,
   "metadata": {},
   "outputs": [
    {
     "name": "stderr",
     "output_type": "stream",
     "text": [
      "/anaconda/lib/python3.6/site-packages/sklearn/discriminant_analysis.py:682: UserWarning: Variables are collinear\n",
      "  warnings.warn(\"Variables are collinear\")\n",
      "/anaconda/lib/python3.6/site-packages/sklearn/discriminant_analysis.py:682: UserWarning: Variables are collinear\n",
      "  warnings.warn(\"Variables are collinear\")\n",
      "/anaconda/lib/python3.6/site-packages/sklearn/discriminant_analysis.py:682: UserWarning: Variables are collinear\n",
      "  warnings.warn(\"Variables are collinear\")\n",
      "/anaconda/lib/python3.6/site-packages/sklearn/discriminant_analysis.py:682: UserWarning: Variables are collinear\n",
      "  warnings.warn(\"Variables are collinear\")\n",
      "/anaconda/lib/python3.6/site-packages/sklearn/discriminant_analysis.py:682: UserWarning: Variables are collinear\n",
      "  warnings.warn(\"Variables are collinear\")\n",
      "/anaconda/lib/python3.6/site-packages/sklearn/discriminant_analysis.py:682: UserWarning: Variables are collinear\n",
      "  warnings.warn(\"Variables are collinear\")\n",
      "/anaconda/lib/python3.6/site-packages/sklearn/discriminant_analysis.py:682: UserWarning: Variables are collinear\n",
      "  warnings.warn(\"Variables are collinear\")\n",
      "/anaconda/lib/python3.6/site-packages/sklearn/discriminant_analysis.py:682: UserWarning: Variables are collinear\n",
      "  warnings.warn(\"Variables are collinear\")\n",
      "/anaconda/lib/python3.6/site-packages/sklearn/discriminant_analysis.py:682: UserWarning: Variables are collinear\n",
      "  warnings.warn(\"Variables are collinear\")\n",
      "/anaconda/lib/python3.6/site-packages/sklearn/discriminant_analysis.py:682: UserWarning: Variables are collinear\n",
      "  warnings.warn(\"Variables are collinear\")\n"
     ]
    }
   ],
   "source": [
    "import matplotlib.pyplot as plt\n",
    "import seaborn as sns\n",
    "import pandas as pd\n",
    "\n",
    "from sklearn.model_selection import StratifiedShuffleSplit\n",
    "from sklearn.metrics import precision_score, recall_score, accuracy_score, f1_score, log_loss\n",
    "\n",
    "from sklearn.neighbors import KNeighborsClassifier\n",
    "from sklearn.svm import SVC\n",
    "from sklearn.tree import DecisionTreeClassifier\n",
    "from sklearn.ensemble import RandomForestClassifier, AdaBoostClassifier, GradientBoostingClassifier\n",
    "from sklearn.naive_bayes import GaussianNB\n",
    "from sklearn.discriminant_analysis import LinearDiscriminantAnalysis, QuadraticDiscriminantAnalysis\n",
    "from sklearn.linear_model import LogisticRegression\n",
    "\n",
    "from sklearn.pipeline import Pipeline, FeatureUnion\n",
    "\n",
    "\n",
    "classifiers = [\n",
    "    KNeighborsClassifier(3),\n",
    "    SVC(probability=True),\n",
    "    DecisionTreeClassifier(),\n",
    "    RandomForestClassifier(),\n",
    "    AdaBoostClassifier(),\n",
    "    GradientBoostingClassifier(),\n",
    "    GaussianNB(),\n",
    "    LinearDiscriminantAnalysis(),\n",
    "    QuadraticDiscriminantAnalysis(),\n",
    "    LogisticRegression()]\n",
    "\n",
    "log_cols_acc = [\"Classifier\", \"Accuracy\"]\n",
    "log_cols_prec = [\"Classifier\", \"Precision\"]\n",
    "log_cols_rec = [\"Classifier\", \"Recall\"]\n",
    "log_cols_f1 = [\"Classifier\", \"F1\"]\n",
    "log_acc      = pd.DataFrame(columns=log_cols_acc)\n",
    "log_prec      = pd.DataFrame(columns=log_cols_prec)\n",
    "log_rec      = pd.DataFrame(columns=log_cols_rec)\n",
    "log_f1      = pd.DataFrame(columns=log_cols_f1)\n",
    "\n",
    "sss = StratifiedShuffleSplit(n_splits=10, test_size=0.2, random_state=0)\n",
    "\n",
    "\n",
    "prec_dict = dict()\n",
    "rec_dict = dict()\n",
    "acc_dict = dict()\n",
    "f1_dict = dict()\n",
    "\n",
    "X_prep = data_prep_pip.fit_transform(X).toarray()\n",
    "\n",
    "for train_index, test_index in sss.split(X_prep, y):\n",
    "    X_train, X_test = X_prep[train_index], X_prep[test_index]\n",
    "    y_train, y_test = y[train_index], y[test_index]\n",
    "\n",
    "    for clf in classifiers:\n",
    "        name = clf.__class__.__name__\n",
    "        clf.fit(X_train, y_train)\n",
    "        train_predictions = clf.predict(X_test)\n",
    "        acc = accuracy_score(y_test, train_predictions)\n",
    "        prec = precision_score(y_test, train_predictions)\n",
    "        rec = recall_score(y_test, train_predictions)\n",
    "        f1 = f1_score(y_test, train_predictions)\n",
    "        if name in acc_dict:\n",
    "            acc_dict[name] += acc\n",
    "        else:\n",
    "            acc_dict[name] = acc\n",
    "            \n",
    "        if name in prec_dict:\n",
    "            prec_dict[name] += prec\n",
    "        else:\n",
    "            prec_dict[name] = prec\n",
    "            \n",
    "        if name in rec_dict:\n",
    "            rec_dict[name] += rec\n",
    "        else:\n",
    "            rec_dict[name] = rec\n",
    "            \n",
    "        if name in f1_dict:\n",
    "            f1_dict[name] += f1\n",
    "        else:\n",
    "            f1_dict[name] = f1\n",
    "\n",
    "for clf in acc_dict:\n",
    "    acc_dict[clf] = acc_dict[clf] / 10.0\n",
    "    log_entry_acc = pd.DataFrame([[clf, acc_dict[clf]]], columns=log_cols_acc)\n",
    "    log_acc = log_acc.append(log_entry_acc)\n",
    "    \n",
    "for clf in prec_dict:\n",
    "    prec_dict[clf] = prec_dict[clf] / 10.0\n",
    "    log_entry_prec = pd.DataFrame([[clf, prec_dict[clf]]], columns=log_cols_prec)\n",
    "    log_prec = log_prec.append(log_entry_prec)\n",
    "\n",
    "for clf in rec_dict:\n",
    "    rec_dict[clf] = rec_dict[clf] / 10.0\n",
    "    log_entry_rec = pd.DataFrame([[clf, rec_dict[clf]]], columns=log_cols_rec)\n",
    "    log_rec = log_rec.append(log_entry_rec)\n",
    "    \n",
    "for clf in f1_dict:\n",
    "    f1_dict[clf] = f1_dict[clf] / 10.0\n",
    "    log_entry_f1 = pd.DataFrame([[clf, f1_dict[clf]]], columns=log_cols_f1)\n",
    "    log_f1 = log_f1.append(log_entry_f1)"
   ]
  },
  {
   "cell_type": "code",
   "execution_count": 252,
   "metadata": {},
   "outputs": [
    {
     "data": {
      "image/png": "[encoded data removed]",
      "text/plain": [
       "<matplotlib.figure.Figure at 0x11d837f28>"
      ]
     },
     "metadata": {},
     "output_type": "display_data"
    }
   ],
   "source": [
    "plt.xlabel('Accuracy')\n",
    "plt.title('Classifier Accuracy')\n",
    "\n",
    "sns.set_color_codes(\"muted\")\n",
    "sns.barplot(x='Accuracy', y='Classifier', data=log_acc, color=\"b\")\n",
    "\n",
    "plt.show()"
   ]
  },
  {
   "cell_type": "code",
   "execution_count": 253,
   "metadata": {},
   "outputs": [
    {
     "data": {
      "image/png": "[encoded data removed]",
      "text/plain": [
       "<matplotlib.figure.Figure at 0x11d6a16a0>"
      ]
     },
     "metadata": {},
     "output_type": "display_data"
    }
   ],
   "source": [
    "plt.xlabel('Precision')\n",
    "plt.title('Classifier Precision')\n",
    "\n",
    "sns.set_color_codes(\"muted\")\n",
    "sns.barplot(x='Precision', y='Classifier', data=log_prec, color=\"r\")\n",
    "\n",
    "plt.show()"
   ]
  },
  {
   "cell_type": "code",
   "execution_count": 254,
   "metadata": {},
   "outputs": [
    {
     "data": {
      "image/png": "[encoded data removed]",
      "text/plain": [
       "<matplotlib.figure.Figure at 0x11c1fca90>"
      ]
     },
     "metadata": {},
     "output_type": "display_data"
    }
   ],
   "source": [
    "plt.xlabel('Recall')\n",
    "plt.title('Classifier Recall')\n",
    "\n",
    "sns.set_color_codes(\"muted\")\n",
    "sns.barplot(x='Recall', y='Classifier', data=log_rec, color=\"g\")\n",
    "\n",
    "plt.show()"
   ]
  },
  {
   "cell_type": "code",
   "execution_count": 255,
   "metadata": {},
   "outputs": [
    {
     "data": {
      "image/png": "[encoded data removed]",
      "text/plain": [
       "<matplotlib.figure.Figure at 0x11fceb320>"
      ]
     },
     "metadata": {},
     "output_type": "display_data"
    }
   ],
   "source": [
    "plt.xlabel('F1')\n",
    "plt.title('Classifier F1 Score')\n",
    "\n",
    "sns.set_color_codes(\"muted\")\n",
    "sns.barplot(x='F1', y='Classifier', data=log_f1, color=\"b\")\n",
    "\n",
    "plt.show()"
   ]
  },
  {
   "cell_type": "code",
   "execution_count": 275,
   "metadata": {
    "scrolled": true
   },
   "outputs": [
    {
     "name": "stdout",
     "output_type": "stream",
     "text": [
      "[('LogisticRegression', 0.98260060394959292), ('GradientBoostingClassifier', 0.96960299569620056), ('AdaBoostClassifier', 0.96748031215378438), ('RandomForestClassifier', 0.96171186529138597), ('SVC', 0.93887948118048592), ('DecisionTreeClassifier', 0.92866538414083344), ('LinearDiscriminantAnalysis', 0.90934568464139853), ('KNeighborsClassifier', 0.88674043680918135), ('GaussianNB', 0.82507541143463548), ('QuadraticDiscriminantAnalysis', 0.74515864545131638)]\n"
     ]
    },
    {
     "data": {
      "text/plain": [
       "'LogisticRegression'"
      ]
     },
     "execution_count": 275,
     "metadata": {},
     "output_type": "execute_result"
    }
   ],
   "source": [
    "rank_clfs = list(f1_dict.items())\n",
    "rank_clfs.sort(key=lambda x: x[1], reverse=True)\n",
    "print(rank_clfs)\n",
    "best_clf = rank_clfs[0][0]\n",
    "best_clf"
   ]
  },
  {
   "cell_type": "markdown",
   "metadata": {},
   "source": [
    "The crude evaluation found out that the best performed model is: <br>\n",
    "<p><strong>logistic regression</strong></p>"
   ]
  },
  {
   "cell_type": "markdown",
   "metadata": {},
   "source": [
    "## Evaluate The best model"
   ]
  },
  {
   "cell_type": "markdown",
   "metadata": {},
   "source": [
    "Let's do a grid RandomizedSearch"
   ]
  },
  {
   "cell_type": "code",
   "execution_count": 289,
   "metadata": {
    "collapsed": true
   },
   "outputs": [],
   "source": [
    "from sklearn.metrics import precision_recall_curve\n",
    "from sklearn.model_selection import RandomizedSearchCV, GridSearchCV, cross_val_score\n",
    "from sklearn.pipeline import make_pipeline\n",
    "\n",
    "from tempfile import mkdtemp"
   ]
  },
  {
   "cell_type": "code",
   "execution_count": 288,
   "metadata": {
    "collapsed": true
   },
   "outputs": [],
   "source": [
    "temp_cache = mkdtemp()\n",
    "\n",
    "full_pipeline = Pipeline(\n",
    "    [\n",
    "        (\"email_to_word_counter\", EmailToWordCounterTransformer()),\n",
    "        (\"word_counter_to_vector\", WordCounterToVectorTransformer()),\n",
    "        (\"classifier\", eval(best_clf+'()')),\n",
    "    ],\n",
    "    memory = temp_cache\n",
    ")\n",
    "\n",
    "param_dict = {\n",
    "    \"email_to_word_counter__replace_urls\": [True, False],\n",
    "    \"email_to_word_counter__replace_numbers\": [True, False],\n",
    "    \"email_to_word_counter__lower_case\": [True, False],\n",
    "    \"word_counter_to_vector__with_min\": [True, False],\n",
    "    \"word_counter_to_vector__vocabulary_size\": [500, 1000, 1500],\n",
    "    \"classifier__class_weight\": [\"balanced\", None],\n",
    "    \"classifier__C\": [0.2 * i for i in range(3, 8)],\n",
    "    \"classifier__penalty\": [\"l1\", \"l2\"],\n",
    "}\n",
    "\n",
    "random_logreg_clf = RandomizedSearchCV(full_pipeline, param_dict, verbose=2, n_iter=15)"
   ]
  },
  {
   "cell_type": "code",
   "execution_count": null,
   "metadata": {
    "scrolled": true
   },
   "outputs": [
    {
     "name": "stdout",
     "output_type": "stream",
     "text": [
      "Fitting 3 folds for each of 15 candidates, totalling 45 fits\n",
      "[CV] word_counter_to_vector__with_min=False, word_counter_to_vector__vocabulary_size=1000, email_to_word_counter__replace_urls=False, email_to_word_counter__replace_numbers=False, email_to_word_counter__lower_case=False, classifier__penalty=l2, classifier__class_weight=balanced, classifier__C=0.6000000000000001 \n",
      "[CV]  word_counter_to_vector__with_min=False, word_counter_to_vector__vocabulary_size=1000, email_to_word_counter__replace_urls=False, email_to_word_counter__replace_numbers=False, email_to_word_counter__lower_case=False, classifier__penalty=l2, classifier__class_weight=balanced, classifier__C=0.6000000000000001, total=  53.0s\n",
      "[CV] word_counter_to_vector__with_min=False, word_counter_to_vector__vocabulary_size=1000, email_to_word_counter__replace_urls=False, email_to_word_counter__replace_numbers=False, email_to_word_counter__lower_case=False, classifier__penalty=l2, classifier__class_weight=balanced, classifier__C=0.6000000000000001 \n"
     ]
    },
    {
     "name": "stderr",
     "output_type": "stream",
     "text": [
      "[Parallel(n_jobs=1)]: Done   1 out of   1 | elapsed:  1.3min remaining:    0.0s\n"
     ]
    },
    {
     "name": "stdout",
     "output_type": "stream",
     "text": [
      "[CV]  word_counter_to_vector__with_min=False, word_counter_to_vector__vocabulary_size=1000, email_to_word_counter__replace_urls=False, email_to_word_counter__replace_numbers=False, email_to_word_counter__lower_case=False, classifier__penalty=l2, classifier__class_weight=balanced, classifier__C=0.6000000000000001, total=  44.3s\n",
      "[CV] word_counter_to_vector__with_min=False, word_counter_to_vector__vocabulary_size=1000, email_to_word_counter__replace_urls=False, email_to_word_counter__replace_numbers=False, email_to_word_counter__lower_case=False, classifier__penalty=l2, classifier__class_weight=balanced, classifier__C=0.6000000000000001 \n",
      "[CV]  word_counter_to_vector__with_min=False, word_counter_to_vector__vocabulary_size=1000, email_to_word_counter__replace_urls=False, email_to_word_counter__replace_numbers=False, email_to_word_counter__lower_case=False, classifier__penalty=l2, classifier__class_weight=balanced, classifier__C=0.6000000000000001, total=  51.5s\n",
      "[CV] word_counter_to_vector__with_min=False, word_counter_to_vector__vocabulary_size=1500, email_to_word_counter__replace_urls=False, email_to_word_counter__replace_numbers=False, email_to_word_counter__lower_case=True, classifier__penalty=l1, classifier__class_weight=None, classifier__C=1.4000000000000001 \n",
      "[CV]  word_counter_to_vector__with_min=False, word_counter_to_vector__vocabulary_size=1500, email_to_word_counter__replace_urls=False, email_to_word_counter__replace_numbers=False, email_to_word_counter__lower_case=True, classifier__penalty=l1, classifier__class_weight=None, classifier__C=1.4000000000000001, total=  44.2s\n",
      "[CV] word_counter_to_vector__with_min=False, word_counter_to_vector__vocabulary_size=1500, email_to_word_counter__replace_urls=False, email_to_word_counter__replace_numbers=False, email_to_word_counter__lower_case=True, classifier__penalty=l1, classifier__class_weight=None, classifier__C=1.4000000000000001 \n",
      "[CV]  word_counter_to_vector__with_min=False, word_counter_to_vector__vocabulary_size=1500, email_to_word_counter__replace_urls=False, email_to_word_counter__replace_numbers=False, email_to_word_counter__lower_case=True, classifier__penalty=l1, classifier__class_weight=None, classifier__C=1.4000000000000001, total=  52.8s\n",
      "[CV] word_counter_to_vector__with_min=False, word_counter_to_vector__vocabulary_size=1500, email_to_word_counter__replace_urls=False, email_to_word_counter__replace_numbers=False, email_to_word_counter__lower_case=True, classifier__penalty=l1, classifier__class_weight=None, classifier__C=1.4000000000000001 \n",
      "[CV]  word_counter_to_vector__with_min=False, word_counter_to_vector__vocabulary_size=1500, email_to_word_counter__replace_urls=False, email_to_word_counter__replace_numbers=False, email_to_word_counter__lower_case=True, classifier__penalty=l1, classifier__class_weight=None, classifier__C=1.4000000000000001, total=  47.6s\n",
      "[CV] word_counter_to_vector__with_min=False, word_counter_to_vector__vocabulary_size=500, email_to_word_counter__replace_urls=False, email_to_word_counter__replace_numbers=True, email_to_word_counter__lower_case=False, classifier__penalty=l2, classifier__class_weight=None, classifier__C=0.6000000000000001 \n",
      "[CV]  word_counter_to_vector__with_min=False, word_counter_to_vector__vocabulary_size=500, email_to_word_counter__replace_urls=False, email_to_word_counter__replace_numbers=True, email_to_word_counter__lower_case=False, classifier__penalty=l2, classifier__class_weight=None, classifier__C=0.6000000000000001, total=  48.1s\n",
      "[CV] word_counter_to_vector__with_min=False, word_counter_to_vector__vocabulary_size=500, email_to_word_counter__replace_urls=False, email_to_word_counter__replace_numbers=True, email_to_word_counter__lower_case=False, classifier__penalty=l2, classifier__class_weight=None, classifier__C=0.6000000000000001 \n",
      "[CV]  word_counter_to_vector__with_min=False, word_counter_to_vector__vocabulary_size=500, email_to_word_counter__replace_urls=False, email_to_word_counter__replace_numbers=True, email_to_word_counter__lower_case=False, classifier__penalty=l2, classifier__class_weight=None, classifier__C=0.6000000000000001, total=  47.7s\n",
      "[CV] word_counter_to_vector__with_min=False, word_counter_to_vector__vocabulary_size=500, email_to_word_counter__replace_urls=False, email_to_word_counter__replace_numbers=True, email_to_word_counter__lower_case=False, classifier__penalty=l2, classifier__class_weight=None, classifier__C=0.6000000000000001 \n",
      "[CV]  word_counter_to_vector__with_min=False, word_counter_to_vector__vocabulary_size=500, email_to_word_counter__replace_urls=False, email_to_word_counter__replace_numbers=True, email_to_word_counter__lower_case=False, classifier__penalty=l2, classifier__class_weight=None, classifier__C=0.6000000000000001, total=  47.5s\n",
      "[CV] word_counter_to_vector__with_min=False, word_counter_to_vector__vocabulary_size=1500, email_to_word_counter__replace_urls=False, email_to_word_counter__replace_numbers=True, email_to_word_counter__lower_case=True, classifier__penalty=l1, classifier__class_weight=None, classifier__C=0.8 \n",
      "[CV]  word_counter_to_vector__with_min=False, word_counter_to_vector__vocabulary_size=1500, email_to_word_counter__replace_urls=False, email_to_word_counter__replace_numbers=True, email_to_word_counter__lower_case=True, classifier__penalty=l1, classifier__class_weight=None, classifier__C=0.8, total=  43.9s\n",
      "[CV] word_counter_to_vector__with_min=False, word_counter_to_vector__vocabulary_size=1500, email_to_word_counter__replace_urls=False, email_to_word_counter__replace_numbers=True, email_to_word_counter__lower_case=True, classifier__penalty=l1, classifier__class_weight=None, classifier__C=0.8 \n",
      "[CV]  word_counter_to_vector__with_min=False, word_counter_to_vector__vocabulary_size=1500, email_to_word_counter__replace_urls=False, email_to_word_counter__replace_numbers=True, email_to_word_counter__lower_case=True, classifier__penalty=l1, classifier__class_weight=None, classifier__C=0.8, total=  47.7s\n",
      "[CV] word_counter_to_vector__with_min=False, word_counter_to_vector__vocabulary_size=1500, email_to_word_counter__replace_urls=False, email_to_word_counter__replace_numbers=True, email_to_word_counter__lower_case=True, classifier__penalty=l1, classifier__class_weight=None, classifier__C=0.8 \n",
      "[CV]  word_counter_to_vector__with_min=False, word_counter_to_vector__vocabulary_size=1500, email_to_word_counter__replace_urls=False, email_to_word_counter__replace_numbers=True, email_to_word_counter__lower_case=True, classifier__penalty=l1, classifier__class_weight=None, classifier__C=0.8, total=  46.7s\n",
      "[CV] word_counter_to_vector__with_min=True, word_counter_to_vector__vocabulary_size=1500, email_to_word_counter__replace_urls=False, email_to_word_counter__replace_numbers=False, email_to_word_counter__lower_case=False, classifier__penalty=l1, classifier__class_weight=None, classifier__C=0.8 \n",
      "[CV]  word_counter_to_vector__with_min=True, word_counter_to_vector__vocabulary_size=1500, email_to_word_counter__replace_urls=False, email_to_word_counter__replace_numbers=False, email_to_word_counter__lower_case=False, classifier__penalty=l1, classifier__class_weight=None, classifier__C=0.8, total=  49.7s\n",
      "[CV] word_counter_to_vector__with_min=True, word_counter_to_vector__vocabulary_size=1500, email_to_word_counter__replace_urls=False, email_to_word_counter__replace_numbers=False, email_to_word_counter__lower_case=False, classifier__penalty=l1, classifier__class_weight=None, classifier__C=0.8 \n",
      "[CV]  word_counter_to_vector__with_min=True, word_counter_to_vector__vocabulary_size=1500, email_to_word_counter__replace_urls=False, email_to_word_counter__replace_numbers=False, email_to_word_counter__lower_case=False, classifier__penalty=l1, classifier__class_weight=None, classifier__C=0.8, total=  47.2s\n",
      "[CV] word_counter_to_vector__with_min=True, word_counter_to_vector__vocabulary_size=1500, email_to_word_counter__replace_urls=False, email_to_word_counter__replace_numbers=False, email_to_word_counter__lower_case=False, classifier__penalty=l1, classifier__class_weight=None, classifier__C=0.8 \n",
      "[CV]  word_counter_to_vector__with_min=True, word_counter_to_vector__vocabulary_size=1500, email_to_word_counter__replace_urls=False, email_to_word_counter__replace_numbers=False, email_to_word_counter__lower_case=False, classifier__penalty=l1, classifier__class_weight=None, classifier__C=0.8, total=  54.5s\n",
      "[CV] word_counter_to_vector__with_min=True, word_counter_to_vector__vocabulary_size=500, email_to_word_counter__replace_urls=True, email_to_word_counter__replace_numbers=True, email_to_word_counter__lower_case=True, classifier__penalty=l2, classifier__class_weight=balanced, classifier__C=1.0 \n"
     ]
    },
    {
     "name": "stdout",
     "output_type": "stream",
     "text": [
      "[CV]  word_counter_to_vector__with_min=True, word_counter_to_vector__vocabulary_size=500, email_to_word_counter__replace_urls=True, email_to_word_counter__replace_numbers=True, email_to_word_counter__lower_case=True, classifier__penalty=l2, classifier__class_weight=balanced, classifier__C=1.0, total= 4.3min\n",
      "[CV] word_counter_to_vector__with_min=True, word_counter_to_vector__vocabulary_size=500, email_to_word_counter__replace_urls=True, email_to_word_counter__replace_numbers=True, email_to_word_counter__lower_case=True, classifier__penalty=l2, classifier__class_weight=balanced, classifier__C=1.0 \n",
      "[CV]  word_counter_to_vector__with_min=True, word_counter_to_vector__vocabulary_size=500, email_to_word_counter__replace_urls=True, email_to_word_counter__replace_numbers=True, email_to_word_counter__lower_case=True, classifier__penalty=l2, classifier__class_weight=balanced, classifier__C=1.0, total= 4.0min\n",
      "[CV] word_counter_to_vector__with_min=True, word_counter_to_vector__vocabulary_size=500, email_to_word_counter__replace_urls=True, email_to_word_counter__replace_numbers=True, email_to_word_counter__lower_case=True, classifier__penalty=l2, classifier__class_weight=balanced, classifier__C=1.0 \n",
      "[CV]  word_counter_to_vector__with_min=True, word_counter_to_vector__vocabulary_size=500, email_to_word_counter__replace_urls=True, email_to_word_counter__replace_numbers=True, email_to_word_counter__lower_case=True, classifier__penalty=l2, classifier__class_weight=balanced, classifier__C=1.0, total= 4.1min\n",
      "[CV] word_counter_to_vector__with_min=True, word_counter_to_vector__vocabulary_size=1500, email_to_word_counter__replace_urls=False, email_to_word_counter__replace_numbers=False, email_to_word_counter__lower_case=False, classifier__penalty=l1, classifier__class_weight=balanced, classifier__C=0.8 \n",
      "[CV]  word_counter_to_vector__with_min=True, word_counter_to_vector__vocabulary_size=1500, email_to_word_counter__replace_urls=False, email_to_word_counter__replace_numbers=False, email_to_word_counter__lower_case=False, classifier__penalty=l1, classifier__class_weight=balanced, classifier__C=0.8, total=  40.3s\n",
      "[CV] word_counter_to_vector__with_min=True, word_counter_to_vector__vocabulary_size=1500, email_to_word_counter__replace_urls=False, email_to_word_counter__replace_numbers=False, email_to_word_counter__lower_case=False, classifier__penalty=l1, classifier__class_weight=balanced, classifier__C=0.8 \n",
      "[CV]  word_counter_to_vector__with_min=True, word_counter_to_vector__vocabulary_size=1500, email_to_word_counter__replace_urls=False, email_to_word_counter__replace_numbers=False, email_to_word_counter__lower_case=False, classifier__penalty=l1, classifier__class_weight=balanced, classifier__C=0.8, total=  40.1s\n",
      "[CV] word_counter_to_vector__with_min=True, word_counter_to_vector__vocabulary_size=1500, email_to_word_counter__replace_urls=False, email_to_word_counter__replace_numbers=False, email_to_word_counter__lower_case=False, classifier__penalty=l1, classifier__class_weight=balanced, classifier__C=0.8 \n",
      "[CV]  word_counter_to_vector__with_min=True, word_counter_to_vector__vocabulary_size=1500, email_to_word_counter__replace_urls=False, email_to_word_counter__replace_numbers=False, email_to_word_counter__lower_case=False, classifier__penalty=l1, classifier__class_weight=balanced, classifier__C=0.8, total=  41.4s\n",
      "[CV] word_counter_to_vector__with_min=False, word_counter_to_vector__vocabulary_size=1000, email_to_word_counter__replace_urls=True, email_to_word_counter__replace_numbers=True, email_to_word_counter__lower_case=False, classifier__penalty=l2, classifier__class_weight=None, classifier__C=1.2000000000000002 \n",
      "[CV]  word_counter_to_vector__with_min=False, word_counter_to_vector__vocabulary_size=1000, email_to_word_counter__replace_urls=True, email_to_word_counter__replace_numbers=True, email_to_word_counter__lower_case=False, classifier__penalty=l2, classifier__class_weight=None, classifier__C=1.2000000000000002, total= 4.0min\n",
      "[CV] word_counter_to_vector__with_min=False, word_counter_to_vector__vocabulary_size=1000, email_to_word_counter__replace_urls=True, email_to_word_counter__replace_numbers=True, email_to_word_counter__lower_case=False, classifier__penalty=l2, classifier__class_weight=None, classifier__C=1.2000000000000002 \n",
      "[CV]  word_counter_to_vector__with_min=False, word_counter_to_vector__vocabulary_size=1000, email_to_word_counter__replace_urls=True, email_to_word_counter__replace_numbers=True, email_to_word_counter__lower_case=False, classifier__penalty=l2, classifier__class_weight=None, classifier__C=1.2000000000000002, total= 3.9min\n",
      "[CV] word_counter_to_vector__with_min=False, word_counter_to_vector__vocabulary_size=1000, email_to_word_counter__replace_urls=True, email_to_word_counter__replace_numbers=True, email_to_word_counter__lower_case=False, classifier__penalty=l2, classifier__class_weight=None, classifier__C=1.2000000000000002 \n",
      "[CV]  word_counter_to_vector__with_min=False, word_counter_to_vector__vocabulary_size=1000, email_to_word_counter__replace_urls=True, email_to_word_counter__replace_numbers=True, email_to_word_counter__lower_case=False, classifier__penalty=l2, classifier__class_weight=None, classifier__C=1.2000000000000002, total= 4.0min\n",
      "[CV] word_counter_to_vector__with_min=True, word_counter_to_vector__vocabulary_size=1000, email_to_word_counter__replace_urls=True, email_to_word_counter__replace_numbers=True, email_to_word_counter__lower_case=True, classifier__penalty=l2, classifier__class_weight=balanced, classifier__C=1.2000000000000002 \n",
      "[CV]  word_counter_to_vector__with_min=True, word_counter_to_vector__vocabulary_size=1000, email_to_word_counter__replace_urls=True, email_to_word_counter__replace_numbers=True, email_to_word_counter__lower_case=True, classifier__penalty=l2, classifier__class_weight=balanced, classifier__C=1.2000000000000002, total= 4.0min\n",
      "[CV] word_counter_to_vector__with_min=True, word_counter_to_vector__vocabulary_size=1000, email_to_word_counter__replace_urls=True, email_to_word_counter__replace_numbers=True, email_to_word_counter__lower_case=True, classifier__penalty=l2, classifier__class_weight=balanced, classifier__C=1.2000000000000002 \n",
      "[CV]  word_counter_to_vector__with_min=True, word_counter_to_vector__vocabulary_size=1000, email_to_word_counter__replace_urls=True, email_to_word_counter__replace_numbers=True, email_to_word_counter__lower_case=True, classifier__penalty=l2, classifier__class_weight=balanced, classifier__C=1.2000000000000002, total= 3.9min\n",
      "[CV] word_counter_to_vector__with_min=True, word_counter_to_vector__vocabulary_size=1000, email_to_word_counter__replace_urls=True, email_to_word_counter__replace_numbers=True, email_to_word_counter__lower_case=True, classifier__penalty=l2, classifier__class_weight=balanced, classifier__C=1.2000000000000002 \n",
      "[CV]  word_counter_to_vector__with_min=True, word_counter_to_vector__vocabulary_size=1000, email_to_word_counter__replace_urls=True, email_to_word_counter__replace_numbers=True, email_to_word_counter__lower_case=True, classifier__penalty=l2, classifier__class_weight=balanced, classifier__C=1.2000000000000002, total= 3.9min\n",
      "[CV] word_counter_to_vector__with_min=True, word_counter_to_vector__vocabulary_size=500, email_to_word_counter__replace_urls=True, email_to_word_counter__replace_numbers=True, email_to_word_counter__lower_case=False, classifier__penalty=l1, classifier__class_weight=None, classifier__C=1.4000000000000001 \n",
      "[CV]  word_counter_to_vector__with_min=True, word_counter_to_vector__vocabulary_size=500, email_to_word_counter__replace_urls=True, email_to_word_counter__replace_numbers=True, email_to_word_counter__lower_case=False, classifier__penalty=l1, classifier__class_weight=None, classifier__C=1.4000000000000001, total= 3.8min\n",
      "[CV] word_counter_to_vector__with_min=True, word_counter_to_vector__vocabulary_size=500, email_to_word_counter__replace_urls=True, email_to_word_counter__replace_numbers=True, email_to_word_counter__lower_case=False, classifier__penalty=l1, classifier__class_weight=None, classifier__C=1.4000000000000001 \n",
      "[CV]  word_counter_to_vector__with_min=True, word_counter_to_vector__vocabulary_size=500, email_to_word_counter__replace_urls=True, email_to_word_counter__replace_numbers=True, email_to_word_counter__lower_case=False, classifier__penalty=l1, classifier__class_weight=None, classifier__C=1.4000000000000001, total= 4.1min\n",
      "[CV] word_counter_to_vector__with_min=True, word_counter_to_vector__vocabulary_size=500, email_to_word_counter__replace_urls=True, email_to_word_counter__replace_numbers=True, email_to_word_counter__lower_case=False, classifier__penalty=l1, classifier__class_weight=None, classifier__C=1.4000000000000001 \n"
     ]
    },
    {
     "name": "stdout",
     "output_type": "stream",
     "text": [
      "[CV]  word_counter_to_vector__with_min=True, word_counter_to_vector__vocabulary_size=500, email_to_word_counter__replace_urls=True, email_to_word_counter__replace_numbers=True, email_to_word_counter__lower_case=False, classifier__penalty=l1, classifier__class_weight=None, classifier__C=1.4000000000000001, total= 4.0min\n",
      "[CV] word_counter_to_vector__with_min=True, word_counter_to_vector__vocabulary_size=500, email_to_word_counter__replace_urls=True, email_to_word_counter__replace_numbers=True, email_to_word_counter__lower_case=False, classifier__penalty=l1, classifier__class_weight=None, classifier__C=0.6000000000000001 \n",
      "[CV]  word_counter_to_vector__with_min=True, word_counter_to_vector__vocabulary_size=500, email_to_word_counter__replace_urls=True, email_to_word_counter__replace_numbers=True, email_to_word_counter__lower_case=False, classifier__penalty=l1, classifier__class_weight=None, classifier__C=0.6000000000000001, total= 4.0min\n",
      "[CV] word_counter_to_vector__with_min=True, word_counter_to_vector__vocabulary_size=500, email_to_word_counter__replace_urls=True, email_to_word_counter__replace_numbers=True, email_to_word_counter__lower_case=False, classifier__penalty=l1, classifier__class_weight=None, classifier__C=0.6000000000000001 \n",
      "[CV]  word_counter_to_vector__with_min=True, word_counter_to_vector__vocabulary_size=500, email_to_word_counter__replace_urls=True, email_to_word_counter__replace_numbers=True, email_to_word_counter__lower_case=False, classifier__penalty=l1, classifier__class_weight=None, classifier__C=0.6000000000000001, total= 4.1min\n",
      "[CV] word_counter_to_vector__with_min=True, word_counter_to_vector__vocabulary_size=500, email_to_word_counter__replace_urls=True, email_to_word_counter__replace_numbers=True, email_to_word_counter__lower_case=False, classifier__penalty=l1, classifier__class_weight=None, classifier__C=0.6000000000000001 \n",
      "[CV]  word_counter_to_vector__with_min=True, word_counter_to_vector__vocabulary_size=500, email_to_word_counter__replace_urls=True, email_to_word_counter__replace_numbers=True, email_to_word_counter__lower_case=False, classifier__penalty=l1, classifier__class_weight=None, classifier__C=0.6000000000000001, total= 4.3min\n",
      "[CV] word_counter_to_vector__with_min=False, word_counter_to_vector__vocabulary_size=500, email_to_word_counter__replace_urls=True, email_to_word_counter__replace_numbers=False, email_to_word_counter__lower_case=True, classifier__penalty=l2, classifier__class_weight=None, classifier__C=1.2000000000000002 \n",
      "[CV]  word_counter_to_vector__with_min=False, word_counter_to_vector__vocabulary_size=500, email_to_word_counter__replace_urls=True, email_to_word_counter__replace_numbers=False, email_to_word_counter__lower_case=True, classifier__penalty=l2, classifier__class_weight=None, classifier__C=1.2000000000000002, total= 4.0min\n",
      "[CV] word_counter_to_vector__with_min=False, word_counter_to_vector__vocabulary_size=500, email_to_word_counter__replace_urls=True, email_to_word_counter__replace_numbers=False, email_to_word_counter__lower_case=True, classifier__penalty=l2, classifier__class_weight=None, classifier__C=1.2000000000000002 \n",
      "[CV]  word_counter_to_vector__with_min=False, word_counter_to_vector__vocabulary_size=500, email_to_word_counter__replace_urls=True, email_to_word_counter__replace_numbers=False, email_to_word_counter__lower_case=True, classifier__penalty=l2, classifier__class_weight=None, classifier__C=1.2000000000000002, total= 3.8min\n",
      "[CV] word_counter_to_vector__with_min=False, word_counter_to_vector__vocabulary_size=500, email_to_word_counter__replace_urls=True, email_to_word_counter__replace_numbers=False, email_to_word_counter__lower_case=True, classifier__penalty=l2, classifier__class_weight=None, classifier__C=1.2000000000000002 \n",
      "[CV]  word_counter_to_vector__with_min=False, word_counter_to_vector__vocabulary_size=500, email_to_word_counter__replace_urls=True, email_to_word_counter__replace_numbers=False, email_to_word_counter__lower_case=True, classifier__penalty=l2, classifier__class_weight=None, classifier__C=1.2000000000000002, total= 3.9min\n",
      "[CV] word_counter_to_vector__with_min=True, word_counter_to_vector__vocabulary_size=500, email_to_word_counter__replace_urls=False, email_to_word_counter__replace_numbers=True, email_to_word_counter__lower_case=False, classifier__penalty=l2, classifier__class_weight=None, classifier__C=1.0 \n",
      "[CV]  word_counter_to_vector__with_min=True, word_counter_to_vector__vocabulary_size=500, email_to_word_counter__replace_urls=False, email_to_word_counter__replace_numbers=True, email_to_word_counter__lower_case=False, classifier__penalty=l2, classifier__class_weight=None, classifier__C=1.0, total=  45.0s\n",
      "[CV] word_counter_to_vector__with_min=True, word_counter_to_vector__vocabulary_size=500, email_to_word_counter__replace_urls=False, email_to_word_counter__replace_numbers=True, email_to_word_counter__lower_case=False, classifier__penalty=l2, classifier__class_weight=None, classifier__C=1.0 \n",
      "[CV]  word_counter_to_vector__with_min=True, word_counter_to_vector__vocabulary_size=500, email_to_word_counter__replace_urls=False, email_to_word_counter__replace_numbers=True, email_to_word_counter__lower_case=False, classifier__penalty=l2, classifier__class_weight=None, classifier__C=1.0, total=  52.5s\n",
      "[CV] word_counter_to_vector__with_min=True, word_counter_to_vector__vocabulary_size=500, email_to_word_counter__replace_urls=False, email_to_word_counter__replace_numbers=True, email_to_word_counter__lower_case=False, classifier__penalty=l2, classifier__class_weight=None, classifier__C=1.0 \n",
      "[CV]  word_counter_to_vector__with_min=True, word_counter_to_vector__vocabulary_size=500, email_to_word_counter__replace_urls=False, email_to_word_counter__replace_numbers=True, email_to_word_counter__lower_case=False, classifier__penalty=l2, classifier__class_weight=None, classifier__C=1.0, total=  55.8s\n",
      "[CV] word_counter_to_vector__with_min=False, word_counter_to_vector__vocabulary_size=1500, email_to_word_counter__replace_urls=False, email_to_word_counter__replace_numbers=True, email_to_word_counter__lower_case=False, classifier__penalty=l2, classifier__class_weight=balanced, classifier__C=1.0 \n",
      "[CV]  word_counter_to_vector__with_min=False, word_counter_to_vector__vocabulary_size=1500, email_to_word_counter__replace_urls=False, email_to_word_counter__replace_numbers=True, email_to_word_counter__lower_case=False, classifier__penalty=l2, classifier__class_weight=balanced, classifier__C=1.0, total=  44.9s\n",
      "[CV] word_counter_to_vector__with_min=False, word_counter_to_vector__vocabulary_size=1500, email_to_word_counter__replace_urls=False, email_to_word_counter__replace_numbers=True, email_to_word_counter__lower_case=False, classifier__penalty=l2, classifier__class_weight=balanced, classifier__C=1.0 \n",
      "[CV]  word_counter_to_vector__with_min=False, word_counter_to_vector__vocabulary_size=1500, email_to_word_counter__replace_urls=False, email_to_word_counter__replace_numbers=True, email_to_word_counter__lower_case=False, classifier__penalty=l2, classifier__class_weight=balanced, classifier__C=1.0, total=  47.9s\n",
      "[CV] word_counter_to_vector__with_min=False, word_counter_to_vector__vocabulary_size=1500, email_to_word_counter__replace_urls=False, email_to_word_counter__replace_numbers=True, email_to_word_counter__lower_case=False, classifier__penalty=l2, classifier__class_weight=balanced, classifier__C=1.0 \n",
      "[CV]  word_counter_to_vector__with_min=False, word_counter_to_vector__vocabulary_size=1500, email_to_word_counter__replace_urls=False, email_to_word_counter__replace_numbers=True, email_to_word_counter__lower_case=False, classifier__penalty=l2, classifier__class_weight=balanced, classifier__C=1.0, total=  52.8s\n",
      "[CV] word_counter_to_vector__with_min=True, word_counter_to_vector__vocabulary_size=1500, email_to_word_counter__replace_urls=False, email_to_word_counter__replace_numbers=True, email_to_word_counter__lower_case=False, classifier__penalty=l2, classifier__class_weight=balanced, classifier__C=0.6000000000000001 \n",
      "[CV]  word_counter_to_vector__with_min=True, word_counter_to_vector__vocabulary_size=1500, email_to_word_counter__replace_urls=False, email_to_word_counter__replace_numbers=True, email_to_word_counter__lower_case=False, classifier__penalty=l2, classifier__class_weight=balanced, classifier__C=0.6000000000000001, total=  56.7s\n",
      "[CV] word_counter_to_vector__with_min=True, word_counter_to_vector__vocabulary_size=1500, email_to_word_counter__replace_urls=False, email_to_word_counter__replace_numbers=True, email_to_word_counter__lower_case=False, classifier__penalty=l2, classifier__class_weight=balanced, classifier__C=0.6000000000000001 \n"
     ]
    },
    {
     "name": "stdout",
     "output_type": "stream",
     "text": [
      "[CV]  word_counter_to_vector__with_min=True, word_counter_to_vector__vocabulary_size=1500, email_to_word_counter__replace_urls=False, email_to_word_counter__replace_numbers=True, email_to_word_counter__lower_case=False, classifier__penalty=l2, classifier__class_weight=balanced, classifier__C=0.6000000000000001, total=  45.4s\n",
      "[CV] word_counter_to_vector__with_min=True, word_counter_to_vector__vocabulary_size=1500, email_to_word_counter__replace_urls=False, email_to_word_counter__replace_numbers=True, email_to_word_counter__lower_case=False, classifier__penalty=l2, classifier__class_weight=balanced, classifier__C=0.6000000000000001 \n",
      "[CV]  word_counter_to_vector__with_min=True, word_counter_to_vector__vocabulary_size=1500, email_to_word_counter__replace_urls=False, email_to_word_counter__replace_numbers=True, email_to_word_counter__lower_case=False, classifier__penalty=l2, classifier__class_weight=balanced, classifier__C=0.6000000000000001, total=  48.4s\n"
     ]
    },
    {
     "name": "stderr",
     "output_type": "stream",
     "text": [
      "[Parallel(n_jobs=1)]: Done  45 out of  45 | elapsed: 148.1min finished\n"
     ]
    },
    {
     "data": {
      "text/plain": [
       "RandomizedSearchCV(cv=None, error_score='raise',\n",
       "          estimator=Pipeline(memory='/var/folders/48/tc68rwf51_b1qwqw5c1glvg80000gn/T/tmpbue6fh48',\n",
       "     steps=[('email_to_word_counter', EmailToWordCounterTransformer(lower_case=True, remove_punctuation=True,\n",
       "               replace_numbers=True, replace_urls=True, stemming=True,\n",
       "               strip_headers=True)), ('word_counter_to_vector', WordCounterToVectorTransformer(vocabulary_size=1000, with_mi...ty='l2', random_state=None, solver='liblinear', tol=0.0001,\n",
       "          verbose=0, warm_start=False))]),\n",
       "          fit_params=None, iid=True, n_iter=15, n_jobs=1,\n",
       "          param_distributions={'email_to_word_counter__replace_urls': [True, False], 'email_to_word_counter__replace_numbers': [True, False], 'email_to_word_counter__lower_case': [True, False], 'word_counter_to_vector__with_min': [True, False], 'word_counter_to_vector__vocabulary_size': [500, 1000, 1500], 'classifier__class_weight': ['balanced', None], 'classifier__C': [0.6000000000000001, 0.8, 1.0, 1.2000000000000002, 1.4000000000000001], 'classifier__penalty': ['l1', 'l2']},\n",
       "          pre_dispatch='2*n_jobs', random_state=None, refit=True,\n",
       "          return_train_score=True, scoring=None, verbose=2)"
      ]
     },
     "execution_count": 291,
     "metadata": {},
     "output_type": "execute_result"
    }
   ],
   "source": [
    "random_logreg_clf.fit(X, y)"
   ]
  },
  {
   "cell_type": "code",
   "execution_count": 307,
   "metadata": {
    "scrolled": true
   },
   "outputs": [
    {
     "data": {
      "text/plain": [
       "[('email_to_word_counter',\n",
       "  EmailToWordCounterTransformer(lower_case=True, remove_punctuation=True,\n",
       "                 replace_numbers=True, replace_urls=True, stemming=True,\n",
       "                 strip_headers=True)),\n",
       " ('word_counter_to_vector',\n",
       "  WordCounterToVectorTransformer(vocabulary_size=1000, with_min=True)),\n",
       " ('classifier',\n",
       "  LogisticRegression(C=1.2000000000000002, class_weight='balanced', dual=False,\n",
       "            fit_intercept=True, intercept_scaling=1, max_iter=100,\n",
       "            multi_class='ovr', n_jobs=1, penalty='l2', random_state=None,\n",
       "            solver='liblinear', tol=0.0001, verbose=0, warm_start=False))]"
      ]
     },
     "execution_count": 307,
     "metadata": {},
     "output_type": "execute_result"
    }
   ],
   "source": [
    "log_reg_clf = random_logreg_clf.best_estimator_\n",
    "log_reg_clf.steps"
   ]
  },
  {
   "cell_type": "code",
   "execution_count": 308,
   "metadata": {},
   "outputs": [
    {
     "data": {
      "text/plain": [
       "WordCounterToVectorTransformer(vocabulary_size=1000, with_min=True)"
      ]
     },
     "execution_count": 308,
     "metadata": {},
     "output_type": "execute_result"
    }
   ],
   "source": [
    "log_reg_clf.named_steps.word_counter_to_vector"
   ]
  },
  {
   "cell_type": "code",
   "execution_count": 293,
   "metadata": {},
   "outputs": [
    {
     "data": {
      "text/plain": [
       "{'mean_fit_time': array([  38.49516344,   37.08779931,   36.43427134,   35.83759332,\n",
       "          38.53274139,  171.38246965,   30.02027297,  164.13838243,\n",
       "         160.5523266 ,  164.80480305,  169.30692196,  160.04292766,\n",
       "          40.16166369,   37.68837134,   37.61166652]),\n",
       " 'mean_score_time': array([ 11.09550063,  11.08877929,  11.3279043 ,  10.23337603,\n",
       "         11.91537197,  75.65578739,  10.5800581 ,  73.47989225,\n",
       "         73.55742963,  73.88601486,  78.18507298,  73.12453071,\n",
       "         10.94098711,  10.82392963,  12.53882726]),\n",
       " 'mean_test_score': array([ 0.97688061,  0.97550035,  0.97377502,  0.97567288,  0.97429262,\n",
       "         0.97705314,  0.9694617 ,  0.9784334 ,  0.97860594,  0.97187716,\n",
       "         0.97360248,  0.97688061,  0.97360248,  0.97463768,  0.97584541]),\n",
       " 'mean_train_score': array([ 0.99965493,  0.99827467,  0.99542788,  0.99767081,  0.99775707,\n",
       "         0.99465148,  0.99723948,  0.99672188,  0.998706  ,  0.99698068,\n",
       "         0.99542788,  0.99568668,  0.99672188,  0.99930987,  0.99982747]),\n",
       " 'param_classifier__C': masked_array(data = [0.6000000000000001 1.4000000000000001 0.6000000000000001 0.8 0.8 1.0 0.8\n",
       "  1.2000000000000002 1.2000000000000002 1.4000000000000001\n",
       "  0.6000000000000001 1.2000000000000002 1.0 1.0 0.6000000000000001],\n",
       "              mask = [False False False False False False False False False False False False\n",
       "  False False False],\n",
       "        fill_value = ?),\n",
       " 'param_classifier__class_weight': masked_array(data = ['balanced' None None None None 'balanced' 'balanced' None 'balanced' None\n",
       "  None None None 'balanced' 'balanced'],\n",
       "              mask = [False False False False False False False False False False False False\n",
       "  False False False],\n",
       "        fill_value = ?),\n",
       " 'param_classifier__penalty': masked_array(data = ['l2' 'l1' 'l2' 'l1' 'l1' 'l2' 'l1' 'l2' 'l2' 'l1' 'l1' 'l2' 'l2' 'l2' 'l2'],\n",
       "              mask = [False False False False False False False False False False False False\n",
       "  False False False],\n",
       "        fill_value = ?),\n",
       " 'param_email_to_word_counter__lower_case': masked_array(data = [False True False True False True False False True False False True False\n",
       "  False False],\n",
       "              mask = [False False False False False False False False False False False False\n",
       "  False False False],\n",
       "        fill_value = ?),\n",
       " 'param_email_to_word_counter__replace_numbers': masked_array(data = [False False True True False True False True True True True False True True\n",
       "  True],\n",
       "              mask = [False False False False False False False False False False False False\n",
       "  False False False],\n",
       "        fill_value = ?),\n",
       " 'param_email_to_word_counter__replace_urls': masked_array(data = [False False False False False True False True True True True True False\n",
       "  False False],\n",
       "              mask = [False False False False False False False False False False False False\n",
       "  False False False],\n",
       "        fill_value = ?),\n",
       " 'param_word_counter_to_vector__vocabulary_size': masked_array(data = [1000 1500 500 1500 1500 500 1500 1000 1000 500 500 500 500 1500 1500],\n",
       "              mask = [False False False False False False False False False False False False\n",
       "  False False False],\n",
       "        fill_value = ?),\n",
       " 'param_word_counter_to_vector__with_min': masked_array(data = [False False False False True True True False True True True False True\n",
       "  False True],\n",
       "              mask = [False False False False False False False False False False False False\n",
       "  False False False],\n",
       "        fill_value = ?),\n",
       " 'params': [{'classifier__C': 0.6000000000000001,\n",
       "   'classifier__class_weight': 'balanced',\n",
       "   'classifier__penalty': 'l2',\n",
       "   'email_to_word_counter__lower_case': False,\n",
       "   'email_to_word_counter__replace_numbers': False,\n",
       "   'email_to_word_counter__replace_urls': False,\n",
       "   'word_counter_to_vector__vocabulary_size': 1000,\n",
       "   'word_counter_to_vector__with_min': False},\n",
       "  {'classifier__C': 1.4000000000000001,\n",
       "   'classifier__class_weight': None,\n",
       "   'classifier__penalty': 'l1',\n",
       "   'email_to_word_counter__lower_case': True,\n",
       "   'email_to_word_counter__replace_numbers': False,\n",
       "   'email_to_word_counter__replace_urls': False,\n",
       "   'word_counter_to_vector__vocabulary_size': 1500,\n",
       "   'word_counter_to_vector__with_min': False},\n",
       "  {'classifier__C': 0.6000000000000001,\n",
       "   'classifier__class_weight': None,\n",
       "   'classifier__penalty': 'l2',\n",
       "   'email_to_word_counter__lower_case': False,\n",
       "   'email_to_word_counter__replace_numbers': True,\n",
       "   'email_to_word_counter__replace_urls': False,\n",
       "   'word_counter_to_vector__vocabulary_size': 500,\n",
       "   'word_counter_to_vector__with_min': False},\n",
       "  {'classifier__C': 0.8,\n",
       "   'classifier__class_weight': None,\n",
       "   'classifier__penalty': 'l1',\n",
       "   'email_to_word_counter__lower_case': True,\n",
       "   'email_to_word_counter__replace_numbers': True,\n",
       "   'email_to_word_counter__replace_urls': False,\n",
       "   'word_counter_to_vector__vocabulary_size': 1500,\n",
       "   'word_counter_to_vector__with_min': False},\n",
       "  {'classifier__C': 0.8,\n",
       "   'classifier__class_weight': None,\n",
       "   'classifier__penalty': 'l1',\n",
       "   'email_to_word_counter__lower_case': False,\n",
       "   'email_to_word_counter__replace_numbers': False,\n",
       "   'email_to_word_counter__replace_urls': False,\n",
       "   'word_counter_to_vector__vocabulary_size': 1500,\n",
       "   'word_counter_to_vector__with_min': True},\n",
       "  {'classifier__C': 1.0,\n",
       "   'classifier__class_weight': 'balanced',\n",
       "   'classifier__penalty': 'l2',\n",
       "   'email_to_word_counter__lower_case': True,\n",
       "   'email_to_word_counter__replace_numbers': True,\n",
       "   'email_to_word_counter__replace_urls': True,\n",
       "   'word_counter_to_vector__vocabulary_size': 500,\n",
       "   'word_counter_to_vector__with_min': True},\n",
       "  {'classifier__C': 0.8,\n",
       "   'classifier__class_weight': 'balanced',\n",
       "   'classifier__penalty': 'l1',\n",
       "   'email_to_word_counter__lower_case': False,\n",
       "   'email_to_word_counter__replace_numbers': False,\n",
       "   'email_to_word_counter__replace_urls': False,\n",
       "   'word_counter_to_vector__vocabulary_size': 1500,\n",
       "   'word_counter_to_vector__with_min': True},\n",
       "  {'classifier__C': 1.2000000000000002,\n",
       "   'classifier__class_weight': None,\n",
       "   'classifier__penalty': 'l2',\n",
       "   'email_to_word_counter__lower_case': False,\n",
       "   'email_to_word_counter__replace_numbers': True,\n",
       "   'email_to_word_counter__replace_urls': True,\n",
       "   'word_counter_to_vector__vocabulary_size': 1000,\n",
       "   'word_counter_to_vector__with_min': False},\n",
       "  {'classifier__C': 1.2000000000000002,\n",
       "   'classifier__class_weight': 'balanced',\n",
       "   'classifier__penalty': 'l2',\n",
       "   'email_to_word_counter__lower_case': True,\n",
       "   'email_to_word_counter__replace_numbers': True,\n",
       "   'email_to_word_counter__replace_urls': True,\n",
       "   'word_counter_to_vector__vocabulary_size': 1000,\n",
       "   'word_counter_to_vector__with_min': True},\n",
       "  {'classifier__C': 1.4000000000000001,\n",
       "   'classifier__class_weight': None,\n",
       "   'classifier__penalty': 'l1',\n",
       "   'email_to_word_counter__lower_case': False,\n",
       "   'email_to_word_counter__replace_numbers': True,\n",
       "   'email_to_word_counter__replace_urls': True,\n",
       "   'word_counter_to_vector__vocabulary_size': 500,\n",
       "   'word_counter_to_vector__with_min': True},\n",
       "  {'classifier__C': 0.6000000000000001,\n",
       "   'classifier__class_weight': None,\n",
       "   'classifier__penalty': 'l1',\n",
       "   'email_to_word_counter__lower_case': False,\n",
       "   'email_to_word_counter__replace_numbers': True,\n",
       "   'email_to_word_counter__replace_urls': True,\n",
       "   'word_counter_to_vector__vocabulary_size': 500,\n",
       "   'word_counter_to_vector__with_min': True},\n",
       "  {'classifier__C': 1.2000000000000002,\n",
       "   'classifier__class_weight': None,\n",
       "   'classifier__penalty': 'l2',\n",
       "   'email_to_word_counter__lower_case': True,\n",
       "   'email_to_word_counter__replace_numbers': False,\n",
       "   'email_to_word_counter__replace_urls': True,\n",
       "   'word_counter_to_vector__vocabulary_size': 500,\n",
       "   'word_counter_to_vector__with_min': False},\n",
       "  {'classifier__C': 1.0,\n",
       "   'classifier__class_weight': None,\n",
       "   'classifier__penalty': 'l2',\n",
       "   'email_to_word_counter__lower_case': False,\n",
       "   'email_to_word_counter__replace_numbers': True,\n",
       "   'email_to_word_counter__replace_urls': False,\n",
       "   'word_counter_to_vector__vocabulary_size': 500,\n",
       "   'word_counter_to_vector__with_min': True},\n",
       "  {'classifier__C': 1.0,\n",
       "   'classifier__class_weight': 'balanced',\n",
       "   'classifier__penalty': 'l2',\n",
       "   'email_to_word_counter__lower_case': False,\n",
       "   'email_to_word_counter__replace_numbers': True,\n",
       "   'email_to_word_counter__replace_urls': False,\n",
       "   'word_counter_to_vector__vocabulary_size': 1500,\n",
       "   'word_counter_to_vector__with_min': False},\n",
       "  {'classifier__C': 0.6000000000000001,\n",
       "   'classifier__class_weight': 'balanced',\n",
       "   'classifier__penalty': 'l2',\n",
       "   'email_to_word_counter__lower_case': False,\n",
       "   'email_to_word_counter__replace_numbers': True,\n",
       "   'email_to_word_counter__replace_urls': False,\n",
       "   'word_counter_to_vector__vocabulary_size': 1500,\n",
       "   'word_counter_to_vector__with_min': True}],\n",
       " 'rank_test_score': array([ 4,  8, 11,  7, 10,  3, 15,  2,  1, 14, 12,  4, 12,  9,  6], dtype=int32),\n",
       " 'split0_test_score': array([ 0.97826087,  0.97774327,  0.97826087,  0.98291925,  0.97877847,\n",
       "         0.98447205,  0.97308489,  0.98084886,  0.98343685,  0.9684265 ,\n",
       "         0.97515528,  0.97929607,  0.97567288,  0.97877847,  0.97877847]),\n",
       " 'split0_train_score': array([ 0.9994824 ,  0.998706  ,  0.99353002,  0.99767081,  0.99767081,\n",
       "         0.99223602,  0.9984472 ,  0.99689441,  0.99818841,  0.99741201,\n",
       "         0.99637681,  0.99611801,  0.99689441,  1.        ,  0.9997412 ]),\n",
       " 'split1_test_score': array([ 0.97877847,  0.97722567,  0.98291925,  0.97619048,  0.97567288,\n",
       "         0.98084886,  0.97101449,  0.98084886,  0.98033126,  0.98033126,\n",
       "         0.97515528,  0.97670807,  0.98291925,  0.98084886,  0.98188406]),\n",
       " 'split1_train_score': array([ 0.9997412 ,  0.99792961,  0.99792961,  0.99767081,  0.99792961,\n",
       "         0.99663561,  0.99689441,  0.99767081,  0.9994824 ,  0.99689441,\n",
       "         0.99482402,  0.99741201,  0.99792961,  1.        ,  0.9997412 ]),\n",
       " 'split2_test_score': array([ 0.97360248,  0.97153209,  0.96014493,  0.9679089 ,  0.9684265 ,\n",
       "         0.96583851,  0.96428571,  0.97360248,  0.97204969,  0.96687371,\n",
       "         0.97049689,  0.97463768,  0.96221532,  0.96428571,  0.96687371]),\n",
       " 'split2_train_score': array([ 0.9997412 ,  0.99818841,  0.99482402,  0.99767081,  0.99767081,\n",
       "         0.99508282,  0.99637681,  0.99560041,  0.9984472 ,  0.99663561,\n",
       "         0.99508282,  0.99353002,  0.99534161,  0.99792961,  1.        ]),\n",
       " 'std_fit_time': array([ 5.40931948,  2.26359455,  3.4176257 ,  2.30897405,  4.94910907,\n",
       "         6.64368138,  2.92538239,  3.78673371,  1.93124929,  4.83317289,\n",
       "         6.0351573 ,  4.42266833,  5.26760946,  4.88231022,  4.60780188]),\n",
       " 'std_score_time': array([ 1.96030223,  3.97457917,  3.38031739,  2.5728149 ,  2.00630656,\n",
       "         4.13432267,  2.45614705,  2.65555327,  3.01706891,  4.63906635,\n",
       "         3.06949539,  2.61587853,  2.92972989,  2.68736016,  2.95592209]),\n",
       " 'std_test_score': array([ 0.00232759,  0.00281392,  0.00982377,  0.00613887,  0.00433741,\n",
       "         0.00806671,  0.0037563 ,  0.00341597,  0.00480621,  0.00601147,\n",
       "         0.00219598,  0.00190569,  0.00857819,  0.00736858,  0.0064694 ]),\n",
       " 'std_train_score': array([  1.21999100e-04,   3.22779278e-04,   1.84618138e-03,\n",
       "          1.11022302e-16,   1.21999100e-04,   1.82183507e-03,\n",
       "          8.79748018e-04,   8.53993697e-04,   5.59070109e-04,\n",
       "          3.22779278e-04,   6.79262239e-04,   1.61389639e-03,\n",
       "          1.06356349e-03,   9.75992797e-04,   1.21999100e-04])}"
      ]
     },
     "execution_count": 293,
     "metadata": {},
     "output_type": "execute_result"
    }
   ],
   "source": [
    "random_logreg_clf.cv_results_"
   ]
  },
  {
   "cell_type": "code",
   "execution_count": 310,
   "metadata": {},
   "outputs": [
    {
     "name": "stdout",
     "output_type": "stream",
     "text": [
      "Precision: 98.40%\n",
      "Recall: 97.36%\n"
     ]
    }
   ],
   "source": [
    "from sklearn.metrics import precision_score, recall_score\n",
    "\n",
    "y_pred = log_reg_clf.fit(X_train_f, y_train_f)\n",
    "y_pred = log_reg_clf.predict(X_test_f)\n",
    "\n",
    "print(\"Precision: {:.2f}%\".format(precision_score(y_test_f, y_pred)*100))\n",
    "print(\"Recall: {:.2f}%\".format(recall_score(y_test_f, y_pred)*100))"
   ]
  }
 ],
 "metadata": {
  "kernelspec": {
   "display_name": "Python (root)",
   "language": "python",
   "name": "myenv"
  },
  "language_info": {
   "codemirror_mode": {
    "name": "ipython",
    "version": 3
   },
   "file_extension": ".py",
   "mimetype": "text/x-python",
   "name": "python",
   "nbconvert_exporter": "python",
   "pygments_lexer": "ipython3",
   "version": "3.6.1"
  }
 },
 "nbformat": 4,
 "nbformat_minor": 2
}
