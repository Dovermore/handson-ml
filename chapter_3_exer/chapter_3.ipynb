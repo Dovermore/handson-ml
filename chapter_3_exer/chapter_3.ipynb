{
 "cells": [
  {
   "cell_type": "code",
   "execution_count": 34,
   "metadata": {},
   "outputs": [
    {
     "data": {
      "text/plain": [
       "{'COL_NAMES': ['label', 'data'],\n",
       " 'DESCR': 'mldata.org dataset: mnist-original',\n",
       " 'data': array([[0, 0, 0, ..., 0, 0, 0],\n",
       "        [0, 0, 0, ..., 0, 0, 0],\n",
       "        [0, 0, 0, ..., 0, 0, 0],\n",
       "        ..., \n",
       "        [0, 0, 0, ..., 0, 0, 0],\n",
       "        [0, 0, 0, ..., 0, 0, 0],\n",
       "        [0, 0, 0, ..., 0, 0, 0]], dtype=uint8),\n",
       " 'target': array([ 0.,  0.,  0., ...,  9.,  9.,  9.])}"
      ]
     },
     "execution_count": 34,
     "metadata": {},
     "output_type": "execute_result"
    }
   ],
   "source": [
    "from sklearn.datasets import fetch_mldata\n",
    "mnist = fetch_mldata('MNIST original')\n",
    "mnist"
   ]
  },
  {
   "cell_type": "code",
   "execution_count": 35,
   "metadata": {},
   "outputs": [
    {
     "name": "stdout",
     "output_type": "stream",
     "text": [
      "X.shape: (70000, 784)\n",
      "y.shape: (70000,)\n"
     ]
    }
   ],
   "source": [
    "X, y = mnist[\"data\"], mnist[\"target\"]\n",
    "print(\"X.shape:\", X.shape)\n",
    "print(\"y.shape:\", y.shape)"
   ]
  },
  {
   "cell_type": "code",
   "execution_count": 94,
   "metadata": {},
   "outputs": [
    {
     "data": {
      "image/png": "[encoded data removed]",
      "text/plain": [
       "<matplotlib.figure.Figure at 0x11bbc6710>"
      ]
     },
     "metadata": {},
     "output_type": "display_data"
    },
    {
     "name": "stdout",
     "output_type": "stream",
     "text": [
      "6.0\n"
     ]
    }
   ],
   "source": [
    "%matplotlib inline\n",
    "import matplotlib\n",
    "import matplotlib.pyplot as plt\n",
    "\n",
    "from random import randint\n",
    "\n",
    "rand_index = randint(0, 70000)\n",
    "some_digit = X[rand_index]\n",
    "some_digit_image = some_digit.reshape(28, 28)\n",
    "plt.imshow(some_digit_image, cmap = matplotlib.cm.binary,\n",
    "          interpolation=\"nearest\")\n",
    "plt.axis(\"off\")\n",
    "plt.show()\n",
    "print(y[rand_num])"
   ]
  },
  {
   "cell_type": "code",
   "execution_count": 37,
   "metadata": {
    "collapsed": true
   },
   "outputs": [],
   "source": [
    "split_ind = 60000\n",
    "X_train, y_train, X_test, y_test = X[:split_ind], y[:split_ind], X[split_ind:], y[split_ind:]"
   ]
  },
  {
   "cell_type": "code",
   "execution_count": 38,
   "metadata": {
    "collapsed": true
   },
   "outputs": [],
   "source": [
    "import numpy as np\n",
    "\n",
    "shuffle_index = np.random.permutation(split_ind)\n",
    "X_train, y_train = X_train[shuffle_index], y_train[shuffle_index]"
   ]
  },
  {
   "cell_type": "code",
   "execution_count": 39,
   "metadata": {
    "collapsed": true
   },
   "outputs": [],
   "source": [
    "y_train_5 = (y_train == 5)\n",
    "y_test_5 = (y_test == 5)"
   ]
  },
  {
   "cell_type": "code",
   "execution_count": 40,
   "metadata": {},
   "outputs": [
    {
     "name": "stderr",
     "output_type": "stream",
     "text": [
      "/anaconda/lib/python3.6/site-packages/sklearn/linear_model/stochastic_gradient.py:84: FutureWarning: max_iter and tol parameters have been added in <class 'sklearn.linear_model.stochastic_gradient.SGDClassifier'> in 0.19. If both are left unset, they default to max_iter=5 and tol=None. If tol is not None, max_iter defaults to max_iter=1000. From 0.21, default max_iter will be 1000, and default tol will be 1e-3.\n",
      "  \"and default tol will be 1e-3.\" % type(self), FutureWarning)\n"
     ]
    },
    {
     "data": {
      "text/plain": [
       "SGDClassifier(alpha=0.0001, average=False, class_weight=None, epsilon=0.1,\n",
       "       eta0=0.0, fit_intercept=True, l1_ratio=0.15,\n",
       "       learning_rate='optimal', loss='hinge', max_iter=5, n_iter=None,\n",
       "       n_jobs=1, penalty='l2', power_t=0.5, random_state=42, shuffle=True,\n",
       "       tol=None, verbose=0, warm_start=False)"
      ]
     },
     "execution_count": 40,
     "metadata": {},
     "output_type": "execute_result"
    }
   ],
   "source": [
    "from sklearn.linear_model import SGDClassifier\n",
    "\n",
    "sgd_clf = SGDClassifier(random_state=42)\n",
    "sgd_clf.fit(X_train, y_train_5)"
   ]
  },
  {
   "cell_type": "code",
   "execution_count": 41,
   "metadata": {},
   "outputs": [
    {
     "name": "stdout",
     "output_type": "stream",
     "text": [
      "0.188237438713\n"
     ]
    },
    {
     "name": "stderr",
     "output_type": "stream",
     "text": [
      "/anaconda/lib/python3.6/site-packages/sklearn/metrics/regression.py:239: DeprecationWarning: numpy boolean subtract, the `-` operator, is deprecated, use the bitwise_xor, the `^` operator, or the logical_xor function instead.\n",
      "  output_errors = np.average((y_true - y_pred) ** 2, axis=0,\n"
     ]
    }
   ],
   "source": [
    "from sklearn.metrics import mean_squared_error\n",
    "\n",
    "\n",
    "pred_train_5 = sgd_clf.predict(X_train)\n",
    "sgd_train_5_mse = mean_squared_error(y_train_5, pred_train_5)\n",
    "sgd_train_5_rmse = np.sqrt(sgd_train_5_mse)\n",
    "print(sgd_train_5_rmse)"
   ]
  },
  {
   "cell_type": "code",
   "execution_count": 42,
   "metadata": {},
   "outputs": [
    {
     "name": "stdout",
     "output_type": "stream",
     "text": [
      "0.9573\n",
      "0.96115\n",
      "0.96525\n"
     ]
    }
   ],
   "source": [
    "from sklearn.model_selection import StratifiedKFold\n",
    "from sklearn.base import clone\n",
    "\n",
    "skfolds = StratifiedKFold(n_splits=3, random_state=42)\n",
    "\n",
    "for train_index, test_index in skfolds.split(X_train, y_train_5):\n",
    "    clone_clf = clone(sgd_clf)\n",
    "    X_train_folds = X_train[train_index]\n",
    "    y_train_folds = (y_train_5[train_index])\n",
    "    X_test_fold = X_train[test_index]\n",
    "    y_test_fold = (y_train_5[test_index])\n",
    "    \n",
    "    clone_clf.fit(X_train_folds, y_train_folds)\n",
    "    y_pred = clone_clf.predict(X_test_fold)\n",
    "    n_correct = sum(y_pred == y_test_fold)\n",
    "    print(n_correct / len(y_pred))"
   ]
  },
  {
   "cell_type": "code",
   "execution_count": 43,
   "metadata": {
    "collapsed": true
   },
   "outputs": [],
   "source": [
    "from sklearn.base import BaseEstimator\n",
    "\n",
    "class Never5Classifier(BaseEstimator):\n",
    "    def fit(self, X, y=None):\n",
    "        pass\n",
    "    def predict(self, X):\n",
    "        return np.zeros((len(X), 1), dtype=bool)"
   ]
  },
  {
   "cell_type": "code",
   "execution_count": 44,
   "metadata": {
    "collapsed": true
   },
   "outputs": [],
   "source": [
    "never_5_clf = Never5Classifier()"
   ]
  },
  {
   "cell_type": "code",
   "execution_count": 45,
   "metadata": {},
   "outputs": [
    {
     "data": {
      "text/plain": [
       "array([ 0.9093 ,  0.9108 ,  0.90885])"
      ]
     },
     "execution_count": 45,
     "metadata": {},
     "output_type": "execute_result"
    }
   ],
   "source": [
    "from sklearn.model_selection import cross_val_score\n",
    "\n",
    "cross_val_score(never_5_clf, X_train, y_train_5, cv=3, scoring=\"accuracy\")"
   ]
  },
  {
   "cell_type": "code",
   "execution_count": 46,
   "metadata": {},
   "outputs": [
    {
     "data": {
      "text/plain": [
       "array([ 0.9573 ,  0.96115,  0.96525])"
      ]
     },
     "execution_count": 46,
     "metadata": {},
     "output_type": "execute_result"
    }
   ],
   "source": [
    "from sklearn.model_selection import cross_val_score\n",
    "cross_val_score(sgd_clf, X_train, y_train_5, cv=3, scoring=\"accuracy\")"
   ]
  },
  {
   "cell_type": "code",
   "execution_count": 47,
   "metadata": {
    "collapsed": true
   },
   "outputs": [],
   "source": [
    "from sklearn.model_selection import cross_val_predict\n",
    "\n",
    "y_train_pred = cross_val_predict(sgd_clf, X_train, y_train_5, cv=3)"
   ]
  },
  {
   "cell_type": "code",
   "execution_count": 48,
   "metadata": {},
   "outputs": [
    {
     "data": {
      "text/plain": [
       "array([[53780,   799],\n",
       "       [ 1527,  3894]])"
      ]
     },
     "execution_count": 48,
     "metadata": {},
     "output_type": "execute_result"
    }
   ],
   "source": [
    "from sklearn.metrics import confusion_matrix\n",
    "confusion_matrix(y_train_5, y_train_pred)"
   ]
  },
  {
   "cell_type": "code",
   "execution_count": 49,
   "metadata": {},
   "outputs": [
    {
     "data": {
      "text/plain": [
       "array([[54579,     0],\n",
       "       [ 5421,     0]])"
      ]
     },
     "execution_count": 49,
     "metadata": {},
     "output_type": "execute_result"
    }
   ],
   "source": [
    "from sklearn.model_selection import cross_val_predict\n",
    "from sklearn.metrics import confusion_matrix\n",
    "confusion_matrix(y_train_5, cross_val_predict(never_5_clf, X_train, y_train_5, cv=3))"
   ]
  },
  {
   "cell_type": "code",
   "execution_count": 50,
   "metadata": {},
   "outputs": [
    {
     "name": "stdout",
     "output_type": "stream",
     "text": [
      "precision: 0.829746430854\n",
      "recall: 0.718317653569\n"
     ]
    }
   ],
   "source": [
    "from sklearn.metrics import precision_score, recall_score\n",
    "\n",
    "print(\"precision:\", precision_score(y_train_5, y_train_pred))\n",
    "print(\"recall:\", recall_score(y_train_5, y_train_pred))"
   ]
  },
  {
   "cell_type": "code",
   "execution_count": 51,
   "metadata": {},
   "outputs": [
    {
     "name": "stdout",
     "output_type": "stream",
     "text": [
      "f1_score: 0.770021752027\n"
     ]
    }
   ],
   "source": [
    "from sklearn.metrics import f1_score\n",
    "\n",
    "print(\"f1_score:\", f1_score(y_train_5, y_train_pred))"
   ]
  },
  {
   "cell_type": "code",
   "execution_count": 52,
   "metadata": {
    "collapsed": true
   },
   "outputs": [],
   "source": [
    "class MySGDClassifier(BaseEstimator):\n",
    "    def __init__(self, thresh=0):\n",
    "        self.thresh = thresh\n",
    "        self.sgd_clf = SGDClassifier(random_state=42)\n",
    "    def fit(self, X, y=None):\n",
    "        self.sgd_clf.fit(X, y)\n",
    "    def predict(self, X, y=None):\n",
    "        cust_result = (self.sgd_clf.decision_function(X) > self.thresh)\n",
    "        return cust_result"
   ]
  },
  {
   "cell_type": "code",
   "execution_count": 53,
   "metadata": {},
   "outputs": [
    {
     "name": "stderr",
     "output_type": "stream",
     "text": [
      "/anaconda/lib/python3.6/site-packages/sklearn/linear_model/stochastic_gradient.py:84: FutureWarning: max_iter and tol parameters have been added in <class 'sklearn.linear_model.stochastic_gradient.SGDClassifier'> in 0.19. If both are left unset, they default to max_iter=5 and tol=None. If tol is not None, max_iter defaults to max_iter=1000. From 0.21, default max_iter will be 1000, and default tol will be 1e-3.\n",
      "  \"and default tol will be 1e-3.\" % type(self), FutureWarning)\n",
      "/anaconda/lib/python3.6/site-packages/sklearn/linear_model/stochastic_gradient.py:84: FutureWarning: max_iter and tol parameters have been added in <class 'sklearn.linear_model.stochastic_gradient.SGDClassifier'> in 0.19. If both are left unset, they default to max_iter=5 and tol=None. If tol is not None, max_iter defaults to max_iter=1000. From 0.21, default max_iter will be 1000, and default tol will be 1e-3.\n",
      "  \"and default tol will be 1e-3.\" % type(self), FutureWarning)\n",
      "/anaconda/lib/python3.6/site-packages/sklearn/linear_model/stochastic_gradient.py:84: FutureWarning: max_iter and tol parameters have been added in <class 'sklearn.linear_model.stochastic_gradient.SGDClassifier'> in 0.19. If both are left unset, they default to max_iter=5 and tol=None. If tol is not None, max_iter defaults to max_iter=1000. From 0.21, default max_iter will be 1000, and default tol will be 1e-3.\n",
      "  \"and default tol will be 1e-3.\" % type(self), FutureWarning)\n",
      "/anaconda/lib/python3.6/site-packages/sklearn/linear_model/stochastic_gradient.py:84: FutureWarning: max_iter and tol parameters have been added in <class 'sklearn.linear_model.stochastic_gradient.SGDClassifier'> in 0.19. If both are left unset, they default to max_iter=5 and tol=None. If tol is not None, max_iter defaults to max_iter=1000. From 0.21, default max_iter will be 1000, and default tol will be 1e-3.\n",
      "  \"and default tol will be 1e-3.\" % type(self), FutureWarning)\n",
      "/anaconda/lib/python3.6/site-packages/sklearn/linear_model/stochastic_gradient.py:84: FutureWarning: max_iter and tol parameters have been added in <class 'sklearn.linear_model.stochastic_gradient.SGDClassifier'> in 0.19. If both are left unset, they default to max_iter=5 and tol=None. If tol is not None, max_iter defaults to max_iter=1000. From 0.21, default max_iter will be 1000, and default tol will be 1e-3.\n",
      "  \"and default tol will be 1e-3.\" % type(self), FutureWarning)\n",
      "/anaconda/lib/python3.6/site-packages/sklearn/linear_model/stochastic_gradient.py:84: FutureWarning: max_iter and tol parameters have been added in <class 'sklearn.linear_model.stochastic_gradient.SGDClassifier'> in 0.19. If both are left unset, they default to max_iter=5 and tol=None. If tol is not None, max_iter defaults to max_iter=1000. From 0.21, default max_iter will be 1000, and default tol will be 1e-3.\n",
      "  \"and default tol will be 1e-3.\" % type(self), FutureWarning)\n",
      "/anaconda/lib/python3.6/site-packages/sklearn/linear_model/stochastic_gradient.py:84: FutureWarning: max_iter and tol parameters have been added in <class 'sklearn.linear_model.stochastic_gradient.SGDClassifier'> in 0.19. If both are left unset, they default to max_iter=5 and tol=None. If tol is not None, max_iter defaults to max_iter=1000. From 0.21, default max_iter will be 1000, and default tol will be 1e-3.\n",
      "  \"and default tol will be 1e-3.\" % type(self), FutureWarning)\n"
     ]
    },
    {
     "name": "stdout",
     "output_type": "stream",
     "text": [
      "cross_val_score: [ 0.9607   0.9469   0.94495]\n",
      "confusion_matrix:\n",
      " [[54341   238]\n",
      " [ 2711  2710]]\n",
      "precision: 0.919267299864\n",
      "recall: 0.499907766095\n"
     ]
    }
   ],
   "source": [
    "my_sgd_clf = MySGDClassifier(thresh=70000)\n",
    "my_5_pred = cross_val_predict(my_sgd_clf, X_train, y_train_5, cv=3)\n",
    "print(\"cross_val_score:\", cross_val_score(my_sgd_clf, X_train, y_train_5, cv=3, scoring=\"accuracy\"))\n",
    "print(\"confusion_matrix:\\n\", confusion_matrix(y_train_5, my_5_pred))\n",
    "print(\"precision:\", precision_score(y_train_5, my_5_pred))\n",
    "print(\"recall:\", recall_score(y_train_5, my_5_pred))"
   ]
  },
  {
   "cell_type": "code",
   "execution_count": 54,
   "metadata": {
    "collapsed": true
   },
   "outputs": [],
   "source": [
    "y_scores = cross_val_predict(sgd_clf, X_train, y_train_5, cv=3, method=\"decision_function\")"
   ]
  },
  {
   "cell_type": "code",
   "execution_count": 55,
   "metadata": {},
   "outputs": [
    {
     "name": "stdout",
     "output_type": "stream",
     "text": [
      "y_scores:\n",
      " [[      0.         -480557.10788233]\n",
      " [      0.         -653104.93150334]\n",
      " [      0.         -511377.65922836]\n",
      " ..., \n",
      " [      0.          167142.3770602 ]\n",
      " [      0.         -390041.53927768]\n",
      " [      0.         -503429.06856887]]\n",
      "y_scores.shape:\n",
      " (60000, 2)\n",
      "y_train_5.shape:\n",
      " (60000,)\n"
     ]
    }
   ],
   "source": [
    "from sklearn.metrics import precision_recall_curve\n",
    "\n",
    "print(\"y_scores:\\n\", y_scores)\n",
    "print(\"y_scores.shape:\\n\", y_scores.shape)\n",
    "print(\"y_train_5.shape:\\n\", y_train_5.shape)\n",
    "\n",
    "cor_y_scores = [item[1] for item in y_scores]\n",
    "precisions, recalls, thresholds = precision_recall_curve(y_train_5, cor_y_scores)"
   ]
  },
  {
   "cell_type": "code",
   "execution_count": 56,
   "metadata": {
    "collapsed": true
   },
   "outputs": [],
   "source": [
    "def plot_precision_recall_vs_threshold(precisions, recalls, thresholds):\n",
    "    plt.plot(thresholds, precisions[:-1], \"b--\", label=\"Precision\")\n",
    "    plt.plot(thresholds, recalls[:-1], \"g-\", label=\"Recall\")\n",
    "    plt.xlabel(\"Threshold\")\n",
    "    plt.legend(loc=\"upper left\")\n",
    "    plt.ylim([0, 1])"
   ]
  },
  {
   "cell_type": "code",
   "execution_count": 57,
   "metadata": {},
   "outputs": [
    {
     "data": {
      "image/png": "[encoded data removed]",
      "text/plain": [
       "<matplotlib.figure.Figure at 0x11cdeaeb8>"
      ]
     },
     "metadata": {},
     "output_type": "display_data"
    }
   ],
   "source": [
    "plot_precision_recall_vs_threshold(precisions, recalls, thresholds)\n",
    "plt.show()"
   ]
  },
  {
   "cell_type": "code",
   "execution_count": 58,
   "metadata": {
    "collapsed": true
   },
   "outputs": [],
   "source": [
    "from sklearn.metrics import roc_curve\n",
    "\n",
    "fpr, tpr, thresholds = roc_curve(y_train_5, cor_y_scores)"
   ]
  },
  {
   "cell_type": "code",
   "execution_count": 59,
   "metadata": {
    "collapsed": true
   },
   "outputs": [],
   "source": [
    "def plot_roc_curve(fpr, tpr, label=None, style=None):\n",
    "    if style:\n",
    "        plt.plot(fpr, tpr, style, linewidth=2, label=label)\n",
    "    else:\n",
    "        plt.plot(fpr, tpr, linewidth=2, label=label)\n",
    "    plt.plot([0, 1], [0, 1], \"k--\")\n",
    "    plt.axis([0, 1, 0, 1])\n",
    "    plt.xlabel(\"False Positive Rate\")\n",
    "    plt.ylabel(\"True Positive Rate\")"
   ]
  },
  {
   "cell_type": "code",
   "execution_count": 60,
   "metadata": {},
   "outputs": [
    {
     "data": {
      "image/png": "[encoded data removed]",
      "text/plain": [
       "<matplotlib.figure.Figure at 0x1198e9e10>"
      ]
     },
     "metadata": {},
     "output_type": "display_data"
    }
   ],
   "source": [
    "plot_roc_curve(fpr, tpr, \"SGD\")\n",
    "plt.show()"
   ]
  },
  {
   "cell_type": "code",
   "execution_count": 61,
   "metadata": {},
   "outputs": [
    {
     "data": {
      "text/plain": [
       "0.96306228381099468"
      ]
     },
     "execution_count": 61,
     "metadata": {},
     "output_type": "execute_result"
    }
   ],
   "source": [
    "from sklearn.metrics import roc_auc_score\n",
    "roc_auc_score(y_train_5, cor_y_scores)"
   ]
  },
  {
   "cell_type": "code",
   "execution_count": 62,
   "metadata": {},
   "outputs": [
    {
     "name": "stdout",
     "output_type": "stream",
     "text": [
      "shape is: (60000, 2)\n",
      "content is: [[ 1.   0. ]\n",
      " [ 1.   0. ]\n",
      " [ 1.   0. ]\n",
      " ..., \n",
      " [ 0.   1. ]\n",
      " [ 1.   0. ]\n",
      " [ 0.9  0.1]]\n"
     ]
    }
   ],
   "source": [
    "from sklearn.ensemble import RandomForestClassifier\n",
    "\n",
    "forest_clf = RandomForestClassifier(random_state=42)\n",
    "y_probas_forest = cross_val_predict(forest_clf, X_train, y_train_5, cv=3, method=\"predict_proba\")\n",
    "\n",
    "print(\"shape is:\", y_probas_forest.shape)\n",
    "print(\"content is:\", y_probas_forest)"
   ]
  },
  {
   "cell_type": "code",
   "execution_count": 63,
   "metadata": {
    "collapsed": true
   },
   "outputs": [],
   "source": [
    "y_scores_forest = y_probas_forest[:, 1]\n",
    "fpr_forest, tpr_forest, threshold_forest = roc_curve(y_train_5, y_scores_forest)"
   ]
  },
  {
   "cell_type": "code",
   "execution_count": 64,
   "metadata": {},
   "outputs": [
    {
     "data": {
      "image/png": "[encoded data removed]",
      "text/plain": [
       "<matplotlib.figure.Figure at 0x119b30dd8>"
      ]
     },
     "metadata": {},
     "output_type": "display_data"
    }
   ],
   "source": [
    "# plt.plot(fpr, tpr, \"b:\", label='SGD')\n",
    "plot_roc_curve(fpr_forest, tpr_forest, \"Random Forest\", \"r-\")\n",
    "plot_roc_curve(fpr, tpr, \"SGD\", \"b:\")\n",
    "plt.legend(loc=\"lower right\")\n",
    "plt.show()"
   ]
  },
  {
   "cell_type": "code",
   "execution_count": 65,
   "metadata": {},
   "outputs": [
    {
     "data": {
      "text/plain": [
       "0.99359495106475815"
      ]
     },
     "execution_count": 65,
     "metadata": {},
     "output_type": "execute_result"
    }
   ],
   "source": [
    "roc_auc_score(y_train_5, y_scores_forest)"
   ]
  },
  {
   "cell_type": "code",
   "execution_count": 66,
   "metadata": {},
   "outputs": [
    {
     "name": "stdout",
     "output_type": "stream",
     "text": [
      "cross_val_score: [ 0.98365  0.98335  0.98225]\n",
      "confusion_matrix:\n",
      " [[54341   238]\n",
      " [ 2711  2710]]\n",
      "precision: 0.983114035088\n",
      "recall: 0.826969193876\n"
     ]
    }
   ],
   "source": [
    "forest_clf_pred = cross_val_predict(forest_clf, X_train, y_train_5, cv=3)\n",
    "print(\"cross_val_score:\", cross_val_score(forest_clf, X_train, y_train_5, cv=3, scoring=\"accuracy\"))\n",
    "print(\"confusion_matrix:\\n\", confusion_matrix(y_train_5, my_5_pred))\n",
    "print(\"precision:\", precision_score(y_train_5, forest_clf_pred))\n",
    "print(\"recall:\", recall_score(y_train_5, forest_clf_pred))"
   ]
  },
  {
   "cell_type": "code",
   "execution_count": 67,
   "metadata": {},
   "outputs": [
    {
     "data": {
      "text/plain": [
       "SGDClassifier(alpha=0.0001, average=False, class_weight=None, epsilon=0.1,\n",
       "       eta0=0.0, fit_intercept=True, l1_ratio=0.15,\n",
       "       learning_rate='optimal', loss='hinge', max_iter=5, n_iter=None,\n",
       "       n_jobs=1, penalty='l2', power_t=0.5, random_state=42, shuffle=True,\n",
       "       tol=None, verbose=0, warm_start=False)"
      ]
     },
     "execution_count": 67,
     "metadata": {},
     "output_type": "execute_result"
    }
   ],
   "source": [
    "sgd_clf.fit(X_train, y_train)"
   ]
  },
  {
   "cell_type": "code",
   "execution_count": 68,
   "metadata": {},
   "outputs": [
    {
     "data": {
      "text/plain": [
       "array([ 6.])"
      ]
     },
     "execution_count": 68,
     "metadata": {},
     "output_type": "execute_result"
    }
   ],
   "source": [
    "sgd_clf.predict([some_digit])"
   ]
  },
  {
   "cell_type": "code",
   "execution_count": 69,
   "metadata": {},
   "outputs": [
    {
     "name": "stdout",
     "output_type": "stream",
     "text": [
      "[[-818697.19486223 -633861.45007646 -425419.18688511 -550795.90446749\n",
      "  -359632.74590439 -252560.94620229  295282.23118891 -769364.69559235\n",
      "  -486975.22474858 -462193.21237499]]\n",
      "6\n",
      "[ 0.  1.  2.  3.  4.  5.  6.  7.  8.  9.]\n",
      "5.0\n"
     ]
    }
   ],
   "source": [
    "some_digit_scores = sgd_clf.decision_function([some_digit])\n",
    "print(some_digit_scores)\n",
    "print(np.argmax(some_digit_scores))\n",
    "print(sgd_clf.classes_)\n",
    "print(sgd_clf.classes_[5])\n"
   ]
  },
  {
   "cell_type": "code",
   "execution_count": 70,
   "metadata": {},
   "outputs": [
    {
     "name": "stderr",
     "output_type": "stream",
     "text": [
      "/anaconda/lib/python3.6/site-packages/sklearn/linear_model/stochastic_gradient.py:84: FutureWarning: max_iter and tol parameters have been added in <class 'sklearn.linear_model.stochastic_gradient.SGDClassifier'> in 0.19. If both are left unset, they default to max_iter=5 and tol=None. If tol is not None, max_iter defaults to max_iter=1000. From 0.21, default max_iter will be 1000, and default tol will be 1e-3.\n",
      "  \"and default tol will be 1e-3.\" % type(self), FutureWarning)\n"
     ]
    },
    {
     "data": {
      "text/plain": [
       "OneVsOneClassifier(estimator=SGDClassifier(alpha=0.0001, average=False, class_weight=None, epsilon=0.1,\n",
       "       eta0=0.0, fit_intercept=True, l1_ratio=0.15,\n",
       "       learning_rate='optimal', loss='hinge', max_iter=5, n_iter=None,\n",
       "       n_jobs=1, penalty='l2', power_t=0.5, random_state=42, shuffle=True,\n",
       "       tol=None, verbose=0, warm_start=False),\n",
       "          n_jobs=1)"
      ]
     },
     "execution_count": 70,
     "metadata": {},
     "output_type": "execute_result"
    }
   ],
   "source": [
    "from sklearn.multiclass import OneVsOneClassifier\n",
    "\n",
    "\n",
    "ovo_clf = OneVsOneClassifier(SGDClassifier(random_state=42))\n",
    "ovo_clf.fit(X_train, y_train)"
   ]
  },
  {
   "cell_type": "code",
   "execution_count": 71,
   "metadata": {},
   "outputs": [
    {
     "data": {
      "text/plain": [
       "array([ 6.])"
      ]
     },
     "execution_count": 71,
     "metadata": {},
     "output_type": "execute_result"
    }
   ],
   "source": [
    "ovo_clf.predict([some_digit])"
   ]
  },
  {
   "cell_type": "code",
   "execution_count": 72,
   "metadata": {},
   "outputs": [
    {
     "name": "stdout",
     "output_type": "stream",
     "text": [
      "[[ 2.79519523  0.74295999  7.05502565  3.97714275  8.22760598  5.0077551\n",
      "   9.5        -0.19582025  6.00094864  1.88918691]]\n"
     ]
    }
   ],
   "source": [
    "print(ovo_clf.decision_function([some_digit]))"
   ]
  },
  {
   "cell_type": "code",
   "execution_count": 73,
   "metadata": {},
   "outputs": [
    {
     "name": "stdout",
     "output_type": "stream",
     "text": [
      "[ 0.  1.  2.  3.  4.  5.  6.  7.  8.  9.]\n"
     ]
    },
    {
     "data": {
      "text/plain": [
       "45"
      ]
     },
     "execution_count": 73,
     "metadata": {},
     "output_type": "execute_result"
    }
   ],
   "source": [
    "print(ovo_clf.classes_)\n",
    "len(ovo_clf.estimators_)"
   ]
  },
  {
   "cell_type": "code",
   "execution_count": 74,
   "metadata": {},
   "outputs": [
    {
     "data": {
      "text/plain": [
       "array([ 6.])"
      ]
     },
     "execution_count": 74,
     "metadata": {},
     "output_type": "execute_result"
    }
   ],
   "source": [
    "forest_clf.fit(X_train, y_train)\n",
    "forest_clf.predict([some_digit])"
   ]
  },
  {
   "cell_type": "code",
   "execution_count": 75,
   "metadata": {},
   "outputs": [
    {
     "data": {
      "text/plain": [
       "array([[ 0.,  0.,  0.,  0.,  0.,  0.,  1.,  0.,  0.,  0.]])"
      ]
     },
     "execution_count": 75,
     "metadata": {},
     "output_type": "execute_result"
    }
   ],
   "source": [
    "forest_clf.predict_proba([some_digit])"
   ]
  },
  {
   "cell_type": "code",
   "execution_count": 76,
   "metadata": {},
   "outputs": [
    {
     "data": {
      "text/plain": [
       "array([ 0.87392521,  0.88044402,  0.82647397])"
      ]
     },
     "execution_count": 76,
     "metadata": {},
     "output_type": "execute_result"
    }
   ],
   "source": [
    "cross_val_score(sgd_clf, X_train, y_train, cv=3, scoring=\"accuracy\")"
   ]
  },
  {
   "cell_type": "code",
   "execution_count": 77,
   "metadata": {},
   "outputs": [
    {
     "data": {
      "text/plain": [
       "array([ 0.91371726,  0.90859543,  0.91153673])"
      ]
     },
     "execution_count": 77,
     "metadata": {},
     "output_type": "execute_result"
    }
   ],
   "source": [
    "from sklearn.preprocessing import StandardScaler\n",
    "scaler = StandardScaler()\n",
    "X_train_scaled = scaler.fit_transform(X_train.astype(np.float64))\n",
    "cross_val_score(sgd_clf, X_train_scaled, y_train, cv=3, scoring=\"accuracy\")"
   ]
  },
  {
   "cell_type": "code",
   "execution_count": 78,
   "metadata": {},
   "outputs": [
    {
     "name": "stdout",
     "output_type": "stream",
     "text": [
      "[  0.00000000e+00   0.00000000e+00   0.00000000e+00   0.00000000e+00\n",
      "   0.00000000e+00   0.00000000e+00   0.00000000e+00   0.00000000e+00\n",
      "   0.00000000e+00   0.00000000e+00   0.00000000e+00   0.00000000e+00\n",
      "  -4.41807799e-03  -5.75481961e-03  -4.08251693e-03  -4.08251693e-03\n",
      "   0.00000000e+00   0.00000000e+00   0.00000000e+00   0.00000000e+00\n",
      "   0.00000000e+00   0.00000000e+00   0.00000000e+00   0.00000000e+00\n",
      "   0.00000000e+00   0.00000000e+00   0.00000000e+00   0.00000000e+00\n",
      "   0.00000000e+00   0.00000000e+00   0.00000000e+00   0.00000000e+00\n",
      "  -4.08251693e-03  -4.70968827e-03  -8.79934640e-03  -1.15905591e-02\n",
      "  -1.47589798e-02  -1.92848546e-02  -2.46717975e-02  -2.90710271e-02\n",
      "  -3.05926583e-02  -3.11640127e-02  -3.19628719e-02  -3.02025355e-02\n",
      "  -3.13102175e-02  -2.83833960e-02  -2.31191906e-02  -1.91666260e-02\n",
      "  -1.67723008e-02  -1.09963601e-02  -8.32486080e-03  -4.38069356e-03\n",
      "   0.00000000e+00   0.00000000e+00   0.00000000e+00   0.00000000e+00\n",
      "   0.00000000e+00   0.00000000e+00  -4.08251693e-03  -5.39534598e-03\n",
      "  -8.52241235e-03  -1.19850363e-02  -1.76534777e-02  -2.77108989e-02\n",
      "  -3.70200943e-02  -5.21512802e-02  -6.70362007e-02  -8.30170484e-02\n",
      "  -9.93792978e-02  -1.15184128e-01  -1.29133256e-01  -1.38394677e-01\n",
      "  -1.38883631e-01  -1.31843438e-01  -1.20429522e-01  -1.01890795e-01\n",
      "  -7.86049044e-02  -5.69956130e-02  -3.96576839e-02  -2.37283861e-02\n",
      "  -1.40883463e-02  -7.83084068e-03   0.00000000e+00   0.00000000e+00\n",
      "   0.00000000e+00   0.00000000e+00  -5.36837753e-03  -8.87060589e-03\n",
      "  -1.40708170e-02  -2.21468098e-02  -3.51801368e-02  -5.50236802e-02\n",
      "  -7.90961321e-02  -1.07649012e-01  -1.37169936e-01  -1.67105761e-01\n",
      "  -1.96008755e-01  -2.24491114e-01  -2.48655991e-01  -2.62117971e-01\n",
      "  -2.62596902e-01  -2.47855903e-01  -2.21947003e-01  -1.87211405e-01\n",
      "  -1.47640132e-01  -1.08164364e-01  -7.68121117e-02  -4.70752996e-02\n",
      "  -3.02019676e-02  -1.52412436e-02  -5.28371965e-03   0.00000000e+00\n",
      "   0.00000000e+00  -4.08251693e-03  -7.76342302e-03  -1.48932548e-02\n",
      "  -2.39627505e-02  -5.03408980e-02  -7.87674703e-02  -1.16181540e-01\n",
      "  -1.61247562e-01  -2.11961635e-01  -2.66898731e-01  -3.25678010e-01\n",
      "  -3.90241548e-01  -4.52076376e-01  -4.99397984e-01  -5.23428324e-01\n",
      "  -5.17618894e-01  -4.80902419e-01  -4.23079694e-01  -3.56740395e-01\n",
      "  -2.83683648e-01  -2.16836661e-01  -1.58524380e-01  -1.08784581e-01\n",
      "  -7.09225309e-02  -3.89534819e-02  -1.42523852e-02  -5.77049806e-03\n",
      "   0.00000000e+00   0.00000000e+00  -1.19017406e-02  -2.20501560e-02\n",
      "  -5.18380750e-02  -9.06597035e-02  -1.39667106e-01  -1.97082121e-01\n",
      "  -2.64384728e-01  -3.40730442e-01  -4.22535749e-01  -5.15408649e-01\n",
      "  -6.16035327e-01  -7.15983297e-01  -7.94120466e-01  -8.35049253e-01\n",
      "  -8.24185811e-01  -7.62839284e-01  -6.66559498e-01  -5.56250398e-01\n",
      "  -4.47645654e-01  -3.47624614e-01  -2.60840907e-01  -1.90306053e-01\n",
      "  -1.31080130e-01  -7.48460374e-02  -3.19301291e-02  -8.20891834e-03\n",
      "   0.00000000e+00  -5.57015293e-03  -1.56619271e-02  -3.63656606e-02\n",
      "  -7.90243079e-02  -1.33289086e-01  -1.99154411e-01  -2.75429691e-01\n",
      "  -3.63335946e-01  -4.63080533e-01  -5.74845189e-01  -6.98803873e-01\n",
      "  -8.28773684e-01  -9.56892048e-01  -1.05647264e+00  -6.50717715e-01\n",
      "   5.59834323e-02   8.91358520e-01   1.43708518e+00   1.72388402e+00\n",
      "   2.15926094e+00   1.71180208e+00   1.50342883e+00  -2.48930373e-01\n",
      "  -1.72939702e-01  -1.04104240e-01  -4.83176220e-02  -1.47080183e-02\n",
      "  -4.08251693e-03  -1.32310093e-02  -2.62438209e-02  -5.91585908e-02\n",
      "  -1.13004853e-01  -1.78441525e-01  -2.58004810e-01  -3.50911812e-01\n",
      "  -4.59098224e-01  -5.84145557e-01  -7.24954207e-01  -8.75639266e-01\n",
      "  -1.01480290e+00  -8.96677347e-01   2.82899033e-01   1.01343649e+00\n",
      "   1.09468453e+00   1.14140158e+00   1.06733764e+00   1.03335906e+00\n",
      "   1.82295019e+00   2.34593134e+00   3.14795792e+00   9.04599555e-01\n",
      "  -1.97007025e-01  -1.21228940e-01  -5.68086109e-02  -1.53906680e-02\n",
      "  -5.02549298e-03  -1.73205192e-02  -4.30805391e-02  -8.52488969e-02\n",
      "  -1.39458369e-01  -2.10883308e-01  -3.00017977e-01  -4.07281526e-01\n",
      "  -5.32888480e-01  -6.80629425e-01  -8.41988503e-01  -9.82438255e-01\n",
      "  -3.27925544e-01   9.03364917e-01   1.16886380e+00   1.09799608e+00\n",
      "   2.10084481e-01  -6.85862587e-01  -8.19337527e-01  -9.12978504e-01\n",
      "   1.03904306e+00   2.16001429e+00   2.91928278e+00   8.50278170e-01\n",
      "  -1.97686135e-01  -1.20683815e-01  -5.39356285e-02  -1.35055434e-02\n",
      "  -5.90571261e-03  -2.11096679e-02  -5.29890369e-02  -9.30784924e-02\n",
      "  -1.50398734e-01  -2.26191023e-01  -3.23645340e-01  -4.42131217e-01\n",
      "  -5.84247477e-01  -7.48575593e-01  -9.00449332e-01   2.09957606e-01\n",
      "   1.28632734e+00   1.34819098e+00   1.33015644e+00   3.32109878e-02\n",
      "  -9.54304837e-01  -1.00308794e+00  -9.99486551e-01  -9.01508612e-01\n",
      "   1.69213169e+00   2.15697248e+00   2.19851931e+00  -2.90174595e-01\n",
      "  -1.81482351e-01  -1.04939775e-01  -4.72131729e-02  -1.41308656e-02\n",
      "  -5.77280519e-03  -2.26322771e-02  -5.28031747e-02  -9.22058067e-02\n",
      "  -1.47451700e-01  -2.27284588e-01  -3.32428316e-01  -4.62696158e-01\n",
      "  -6.19033521e-01  -4.26930231e-01   4.78219292e-01   1.36165262e+00\n",
      "   1.48283038e+00   1.11504970e+00  -2.76063151e-01  -8.03560093e-01\n",
      "  -8.73939297e-01  -9.51575414e-01  -9.62131065e-01  -6.25202616e-01\n",
      "   1.77798922e+00   2.28765510e+00   2.44121934e-01  -2.71222642e-01\n",
      "  -1.59324464e-01  -8.12584087e-02  -3.69508670e-02  -1.18733992e-02\n",
      "  -7.05517396e-03  -2.07711768e-02  -4.72035624e-02  -8.20038362e-02\n",
      "  -1.37457285e-01  -2.25181955e-01  -3.38492381e-01  -2.76938396e-01\n",
      "   7.57752721e-01   1.37234095e+00   1.39958284e+00   1.45317571e+00\n",
      "   6.37299085e-01  -5.42771244e-01  -7.40950559e-01  -8.02210470e-01\n",
      "  -9.01262815e-01  -9.77722928e-01  -6.83852442e-01   1.15791426e+00\n",
      "   1.90960733e+00   2.16802367e+00  -6.33103809e-02  -2.58464407e-01\n",
      "  -1.49695715e-01  -6.11113564e-02  -2.80115688e-02  -9.12509965e-03\n",
      "  -5.30435130e-03  -1.62383999e-02  -3.63786148e-02  -6.85820105e-02\n",
      "  -1.27368499e-01  -1.08451693e-01   7.92016698e-01   2.10167913e+00\n",
      "   1.82275236e+00   1.49343272e+00   1.15406465e+00  -1.85629821e-01\n",
      "  -7.66534528e-01  -7.70204755e-01  -8.20343720e-01  -9.17683490e-01\n",
      "  -9.65367990e-01  -6.98262294e-01   9.40024125e-01   1.58372102e+00\n",
      "   2.05711843e+00   1.44641321e+00  -3.55124414e-01  -2.55407545e-01\n",
      "  -1.53824513e-01  -5.24542821e-02  -2.15058651e-02  -9.92198161e-03\n",
      "  -4.08251693e-03  -1.09343854e-02  -2.55447979e-02  -5.70730810e-02\n",
      "   9.86166515e-01   3.23777016e+00   3.32225805e+00   2.30151903e+00\n",
      "   1.75317817e+00   8.52547667e-01  -7.61990317e-01  -8.41014273e-01\n",
      "  -8.16790959e-01  -4.22812515e-01  -1.61421136e-01   2.71306176e-02\n",
      "   6.74811939e-01   1.12708243e+00   1.29197752e+00   1.64139103e+00\n",
      "   1.85972631e+00  -2.75082314e-01  -3.55500546e-01  -2.63549180e-01\n",
      "  -1.64503687e-01  -5.95130325e-02  -2.33686679e-02  -7.40432376e-03\n",
      "  -4.08251693e-03  -7.98834543e-03  -1.82964530e-02  -5.13394345e-02\n",
      "   2.82416907e+00   5.03832685e+00   3.12197701e+00   2.21757655e+00\n",
      "   1.84615857e-01  -7.43782300e-01  -8.67853151e-01  -8.60743722e-01\n",
      "  -7.28457000e-01   1.08990173e+00   1.08797851e+00   1.04496413e+00\n",
      "   1.06427688e+00   1.12045193e+00   1.32350660e+00   1.67313264e+00\n",
      "  -2.35170325e-01  -4.72019989e-01  -3.68370412e-01  -2.73325316e-01\n",
      "  -1.73386634e-01  -6.89427199e-02  -2.46446573e-02  -6.98490193e-03\n",
      "  -4.77028006e-03  -4.18942802e-03  -1.86482564e-02  -5.32721237e-02\n",
      "   2.62021763e+00   4.58997427e+00   2.95321674e+00   2.18303748e+00\n",
      "   1.54556857e+00   5.57167781e-01   4.29524709e-01   1.03141481e+00\n",
      "   1.20420749e+00   1.15263871e+00   1.04169396e+00   8.86242471e-01\n",
      "   9.44679256e-01   1.16827871e+00   1.38068363e+00   1.18682262e+00\n",
      "  -6.09787183e-01  -4.86753939e-01  -3.80896777e-01  -2.78298890e-01\n",
      "  -1.75491552e-01  -7.70261425e-02  -2.96263040e-02  -9.11024024e-03\n",
      "  -4.08251693e-03  -6.70727737e-03  -2.16014323e-02  -6.07076923e-02\n",
      "   2.99645725e-01   3.01084901e+00   2.85964354e+00   2.21870605e+00\n",
      "   1.86551349e+00   1.66657303e+00   1.59445474e+00   1.52486401e+00\n",
      "   1.25330221e+00   8.60229872e-01  -2.70529626e-01  -8.03592989e-01\n",
      "   7.30684704e-01   1.27466466e+00   1.35126855e+00  -2.24501082e-01\n",
      "  -6.15621643e-01  -4.93079765e-01  -3.79874281e-01  -2.73517649e-01\n",
      "  -1.73539121e-01  -8.40501482e-02  -3.41624422e-02  -8.93964748e-03\n",
      "   0.00000000e+00  -8.93208845e-03  -2.53977634e-02  -7.39001757e-02\n",
      "  -1.77860047e-01  -9.34581103e-02   4.55914870e-01   9.64339858e-01\n",
      "   1.03229473e+00   8.95371751e-01   8.26516822e-01   4.48158566e-01\n",
      "  -5.94826481e-01  -9.19390235e-01  -1.00626013e+00   1.03455003e-01\n",
      "   1.27638904e+00   1.35161254e+00   3.26696107e-01  -7.40321068e-01\n",
      "  -6.13265794e-01  -4.85156292e-01  -3.68041978e-01  -2.60781824e-01\n",
      "  -1.68333757e-01  -8.85426370e-02  -3.59362339e-02  -1.07108129e-02\n",
      "  -5.90596678e-03  -6.35211414e-03  -3.33202141e-02  -9.13048630e-02\n",
      "  -1.99108031e-01  -3.27967412e-01  -4.38995427e-01  -5.34454088e-01\n",
      "  -6.05947897e-01  -6.59405094e-01  -6.97848366e-01  -7.30422894e-01\n",
      "  -7.81125667e-01  -8.71688552e-01  -5.89670058e-01   1.05268047e+00\n",
      "   1.29452439e+00   6.98538821e-01  -8.58724638e-01  -7.32311394e-01\n",
      "  -5.94910595e-01  -4.63429150e-01  -3.48771144e-01  -2.45884747e-01\n",
      "  -1.58200936e-01  -8.54379627e-02  -3.15579616e-02  -9.76041412e-03\n",
      "  -4.08251693e-03  -1.12816627e-02  -3.97571016e-02  -1.03852335e-01\n",
      "  -2.11980971e-01  -3.37477889e-01  -4.51701933e-01  -5.52131610e-01\n",
      "  -6.31886475e-01  -6.93224391e-01  -7.38384900e-01  -7.70730767e-01\n",
      "  -8.28769523e-01  -8.37685540e-01   5.52237137e-01   1.21745436e+00\n",
      "   1.13085970e+00  -4.26964340e-01  -8.46502284e-01  -7.01222754e-01\n",
      "  -5.55385654e-01  -4.27074606e-01  -3.16810480e-01  -2.20685803e-01\n",
      "  -1.41057264e-01  -7.81710423e-02  -2.91825785e-02  -8.02578597e-03\n",
      "   0.00000000e+00  -1.03421049e-02  -4.32736220e-02  -1.09167014e-01\n",
      "  -2.09032573e-01  -3.30224641e-01  -4.54875266e-01  -5.69196807e-01\n",
      "  -6.72943600e-01  -7.60601226e-01  -8.28757495e-01  -8.86508190e-01\n",
      "  -9.59840403e-01   1.13440294e-01   1.14867049e+00   1.14592402e+00\n",
      "   1.41892613e-01  -9.39332903e-01  -7.87347565e-01  -6.26990956e-01\n",
      "  -4.88062775e-01  -3.68951144e-01  -2.69292226e-01  -1.87212623e-01\n",
      "  -1.21627434e-01  -6.64938197e-02  -2.60330031e-02  -5.77331594e-03\n",
      "  -4.08251693e-03  -1.00095035e-02  -4.04987315e-02  -9.99847079e-02\n",
      "  -1.88201724e-01  -2.99631312e-01  -4.27248469e-01  -5.55251360e-01\n",
      "  -6.81777397e-01  -8.01587516e-01  -9.08656846e-01  -1.00894524e+00\n",
      "  -6.44507699e-01   1.05678935e+00   1.09552493e+00   5.41906554e-01\n",
      "  -9.94707958e-01  -8.32232744e-01  -6.67125990e-01  -5.22694492e-01\n",
      "  -3.99065428e-01  -2.96700643e-01  -2.12626224e-01  -1.48693958e-01\n",
      "  -9.68957284e-02  -5.09310889e-02  -2.02144293e-02  -4.08251693e-03\n",
      "  -4.08251693e-03  -6.00490574e-03  -3.37063471e-02  -7.89724505e-02\n",
      "  -1.47741377e-01  -2.43250250e-01  -3.60346298e-01  -4.86443172e-01\n",
      "  -6.22409982e-01  -7.56704176e-01  -8.88736513e-01  -7.71787566e-01\n",
      "   8.75731249e-01   1.14771889e+00   8.32207046e-01  -7.38445853e-01\n",
      "  -8.17668173e-01  -6.64655910e-01  -5.23595080e-01  -4.02142028e-01\n",
      "  -3.03069160e-01  -2.21680844e-01  -1.59365935e-01  -1.10060699e-01\n",
      "  -7.00397650e-02  -3.71356228e-02  -1.22014099e-02  -4.08251693e-03\n",
      "   0.00000000e+00   0.00000000e+00  -2.27387266e-02  -5.19053972e-02\n",
      "  -9.99880242e-02  -1.68431623e-01  -2.60310720e-01  -3.69837081e-01\n",
      "  -4.90097995e-01  -6.15370679e-01  -6.91159381e-01   8.88394632e-01\n",
      "   1.39579771e+00   1.39587994e+00  -2.40276171e-02  -7.34655534e-01\n",
      "  -6.12575711e-01  -4.92071188e-01  -3.79928167e-01  -2.88817393e-01\n",
      "  -2.13440937e-01  -1.53667782e-01  -1.09126008e-01  -7.40987562e-02\n",
      "  -4.33171851e-02  -1.93437920e-02  -1.04024820e-02   0.00000000e+00\n",
      "   0.00000000e+00   0.00000000e+00  -1.03527008e-02  -2.87501024e-02\n",
      "  -5.75683736e-02  -9.53105368e-02  -1.53609762e-01  -2.23424526e-01\n",
      "  -3.03577770e-01  -3.88479973e-01   8.62524400e-01   2.33399835e+00\n",
      "   2.22163597e+00   1.24829257e+00  -4.22747121e-01  -4.68057397e-01\n",
      "  -3.95805045e-01  -3.24789446e-01  -2.55705032e-01  -1.94611712e-01\n",
      "  -1.44574205e-01  -1.01773543e-01  -7.14252227e-02  -4.77777569e-02\n",
      "  -2.57524359e-02  -1.13794237e-02  -4.75287492e-03   0.00000000e+00\n",
      "   0.00000000e+00   0.00000000e+00  -6.66430111e-03  -1.09642132e-02\n",
      "  -2.76044516e-02  -5.15536012e-02  -8.67718458e-02  -1.28392033e-01\n",
      "  -1.75775898e-01  -2.23054438e-01   3.71296982e+00   4.16706049e+00\n",
      "   3.14130923e+00  -2.02168053e-01  -2.89231779e-01  -2.63231291e-01\n",
      "  -2.33723589e-01  -2.01027824e-01  -1.63691052e-01  -1.27665996e-01\n",
      "  -9.39651393e-02  -6.56832591e-02  -4.59265310e-02  -2.87188097e-02\n",
      "  -1.56930365e-02  -5.67530616e-03  -4.08251693e-03   0.00000000e+00\n",
      "   0.00000000e+00   0.00000000e+00   0.00000000e+00  -4.08251693e-03\n",
      "  -1.51213939e-02  -3.13695545e-02  -5.33302349e-02  -7.92282669e-02\n",
      "  -1.08376650e-01  -1.33979068e-01  -1.57513181e-01  -1.75105513e-01\n",
      "  -1.82626897e-01  -1.80535341e-01  -1.69876491e-01  -1.53157314e-01\n",
      "  -1.35433124e-01  -1.16480299e-01  -9.39512541e-02  -7.25768871e-02\n",
      "  -5.23643597e-02  -3.63829995e-02  -2.15030637e-02  -1.30192791e-02\n",
      "  -4.49421517e-03  -4.08251693e-03   0.00000000e+00   0.00000000e+00\n",
      "   0.00000000e+00   0.00000000e+00   0.00000000e+00   0.00000000e+00\n",
      "  -5.79016363e-03  -9.05384592e-03  -1.60054430e-02  -2.21197601e-02\n",
      "  -2.68459958e-02  -3.18450632e-02  -4.37484087e-02  -4.72829474e-02\n",
      "  -5.31388046e-02  -5.66228194e-02  -6.03383556e-02  -5.62950014e-02\n",
      "  -5.13665378e-02  -4.26322798e-02  -3.31710271e-02  -2.24628830e-02\n",
      "  -1.60690870e-02  -1.14322028e-02  -9.00729450e-03  -5.77039393e-03\n",
      "   0.00000000e+00   0.00000000e+00   0.00000000e+00   0.00000000e+00]\n"
     ]
    }
   ],
   "source": [
    "print(X_train_scaled[1])"
   ]
  },
  {
   "cell_type": "code",
   "execution_count": 79,
   "metadata": {},
   "outputs": [
    {
     "name": "stdout",
     "output_type": "stream",
     "text": [
      "[  0   0   0   0   0   0   0   0   0   0   0   0   0   0   0   0   0   0\n",
      "   0   0   0   0   0   0   0   0   0   0   0   0   0   0   0   0   0   0\n",
      "   0   0   0   0   0   0   0   0   0   0   0   0   0   0   0   0   0   0\n",
      "   0   0   0   0   0   0   0   0   0   0   0   0   0   0   0   0   0   0\n",
      "   0   0   0   0   0   0   0   0   0   0   0   0   0   0   0   0   0   0\n",
      "   0   0   0   0   0   0   0   0   0   0   0   0   0   0   0   0   0   0\n",
      "   0   0   0   0   0   0   0   0   0   0   0   0   0   0   0   0   0   0\n",
      "   0   0   0   0   0   0   0   0   0   0   0   0   0   0   0   0   0   0\n",
      "   0   0   0   0   0   0   0   0   0   0   0   0   0   0   0   0   0   0\n",
      "   0   0   0   0   0   0   0   0   0   0   0   0   0   0   0   0   0   0\n",
      "   0   0   0  51 128 212 254 254 255 169 114   0   0   0   0   0   0   0\n",
      "   0   0   0   0   0   0   0   0   0   0   0  26 164 247 254 253 232 206\n",
      " 254 253 251  63   0   0   0   0   0   0   0   0   0   0   0   0   0   0\n",
      "   0   0  83 224 253 244 146  46  25   0 186 253 251  63   0   0   0   0\n",
      "   0   0   0   0   0   0   0   0   0   0   0 134 254 253 244 103   0   0\n",
      "   0   0 254 253 196   0   0   0   0   0   0   0   0   0   0   0   0   0\n",
      "   0  38 153 254 254 199  51   0   0   0   0  26 254 254  46   0   0   0\n",
      "   0   0   0   0   0   0   0   0   0  17 139 235 253 253 148  19   0   0\n",
      "   0   0  30 214 254 227  21   0   0   0   0   0   0   0   0   0   0   5\n",
      "  74 224 254 253 225  71   0   0   0   0   7  40 212 253 254 156   0   0\n",
      "   0   0   0   0   0   0   0   0  26 155 253 253 254 185  13   0   0  51\n",
      "  93 127 204 253 253 253 228  15   0   0   0   0   0   0   0   0   0   0\n",
      "  70 254 254 254  93   9   0   0  19 237 254 254 254 254 254 254  34   0\n",
      "   0   0   0   0   0   0   0   0   0   0  70 253 253 253 231 146 138 206\n",
      " 237 253 253 236 237 253 253 202   0   0   0   0   0   0   0   0   0   0\n",
      "   0   0  13 184 253 253 254 253 253 253 239 213  96  38 203 253 242  54\n",
      "   0   0   0   0   0   0   0   0   0   0   0   0   0  13  69 135 161 160\n",
      " 160 128  25   0   0 127 254 253 128   0   0   0   0   0   0   0   0   0\n",
      "   0   0   0   0   0   0   0   0   0   0   0   0   0   0  41 229 254 182\n",
      "   0   0   0   0   0   0   0   0   0   0   0   0   0   0   0   0   0   0\n",
      "   0   0   0   0   0   9 174 253 241  60   0   0   0   0   0   0   0   0\n",
      "   0   0   0   0   0   0   0   0   0   0   0   0   0   0   0 130 253 253\n",
      " 134   0   0   0   0   0   0   0   0   0   0   0   0   0   0   0   0   0\n",
      "   0   0   0   0   0   0  51 247 253 185   0   0   0   0   0   0   0   0\n",
      "   0   0   0   0   0   0   0   0   0   0   0   0   0   0   0  26 221 254\n",
      " 214  25   0   0   0   0   0   0   0   0   0   0   0   0   0   0   0   0\n",
      "   0   0   0   0   0   0   5 189 254 253  88   0   0   0   0   0   0   0\n",
      "   0   0   0   0   0   0   0   0   0   0   0   0   0   0   0   0 108 253\n",
      " 254 164   9   0   0   0   0   0   0   0   0   0   0   0   0   0   0   0\n",
      "   0   0   0   0   0   0   0   0 207 253 203   6   0   0   0   0   0   0\n",
      "   0   0   0   0   0   0   0   0   0   0   0   0   0   0   0   0   0   0\n",
      "   0   0   0   0   0   0   0   0   0   0   0   0   0   0   0   0   0   0\n",
      "   0   0   0   0   0   0   0   0   0   0   0   0   0   0   0   0   0   0\n",
      "   0   0   0   0   0   0   0   0   0   0]\n"
     ]
    }
   ],
   "source": [
    "print(X_train[1])"
   ]
  },
  {
   "cell_type": "code",
   "execution_count": 80,
   "metadata": {},
   "outputs": [
    {
     "data": {
      "text/plain": [
       "array([[5743,    2,   22,   10,   10,   44,   42,    9,   38,    3],\n",
       "       [   1, 6489,   44,   22,    6,   40,    5,   14,  110,   11],\n",
       "       [  58,   36, 5344,   96,   76,   23,   90,   62,  159,   14],\n",
       "       [  53,   41,  137, 5361,    2,  217,   35,   60,  131,   94],\n",
       "       [  22,   25,   33,   10, 5388,    9,   54,   30,   87,  184],\n",
       "       [  71,   46,   36,  184,   66, 4618,  101,   28,  177,   94],\n",
       "       [  35,   28,   48,    2,   37,   92, 5626,    4,   45,    1],\n",
       "       [  24,   18,   66,   27,   54,    8,    6, 5870,   14,  178],\n",
       "       [  51,  159,   67,  164,   15,  151,   58,   31, 5023,  132],\n",
       "       [  45,   33,   26,   91,  177,   30,    3,  253,   76, 5215]])"
      ]
     },
     "execution_count": 80,
     "metadata": {},
     "output_type": "execute_result"
    }
   ],
   "source": [
    "y_train_pred = cross_val_predict(sgd_clf, X_train_scaled, y_train, cv=3)\n",
    "conf_mx = confusion_matrix(y_train, y_train_pred)\n",
    "conf_mx"
   ]
  },
  {
   "cell_type": "code",
   "execution_count": 81,
   "metadata": {},
   "outputs": [
    {
     "data": {
      "image/png": "[encoded data removed]",
      "text/plain": [
       "<matplotlib.figure.Figure at 0x1196d2320>"
      ]
     },
     "metadata": {},
     "output_type": "display_data"
    }
   ],
   "source": [
    "plt.matshow(conf_mx, cmap=plt.cm.gray)\n",
    "plt.show()"
   ]
  },
  {
   "cell_type": "code",
   "execution_count": 82,
   "metadata": {},
   "outputs": [
    {
     "name": "stdout",
     "output_type": "stream",
     "text": [
      "[[5923]\n",
      " [6742]\n",
      " [5958]\n",
      " [6131]\n",
      " [5842]\n",
      " [5421]\n",
      " [5918]\n",
      " [6265]\n",
      " [5851]\n",
      " [5949]]\n",
      "[[  9.69609995e-01   3.37666723e-04   3.71433395e-03   1.68833361e-03\n",
      "    1.68833361e-03   7.42866790e-03   7.09100118e-03   1.51950025e-03\n",
      "    6.41566774e-03   5.06500084e-04]\n",
      " [  1.48323939e-04   9.62474043e-01   6.52625334e-03   3.26312667e-03\n",
      "    8.89943637e-04   5.93295758e-03   7.41619697e-04   2.07653515e-03\n",
      "    1.63156333e-02   1.63156333e-03]\n",
      " [  9.73481034e-03   6.04229607e-03   8.96945284e-01   1.61127895e-02\n",
      "    1.27559584e-02   3.86035582e-03   1.51057402e-02   1.04061766e-02\n",
      "    2.66868077e-02   2.34978181e-03]\n",
      " [  8.64459305e-03   6.68732670e-03   2.23454575e-02   8.74408742e-01\n",
      "    3.26211059e-04   3.53938999e-02   5.70869352e-03   9.78633176e-03\n",
      "    2.13668243e-02   1.53319198e-02]\n",
      " [  3.76583362e-03   4.27935638e-03   5.64875043e-03   1.71174255e-03\n",
      "    9.22286888e-01   1.54056830e-03   9.24340979e-03   5.13522766e-03\n",
      "    1.48921602e-02   3.14960630e-02]\n",
      " [  1.30972145e-02   8.48551928e-03   6.64084117e-03   3.39420771e-02\n",
      "    1.21748755e-02   8.51872348e-01   1.86312488e-02   5.16509869e-03\n",
      "    3.26508024e-02   1.73399742e-02]\n",
      " [  5.91416019e-03   4.73132815e-03   8.11084826e-03   3.37952011e-04\n",
      "    6.25211220e-03   1.55457925e-02   9.50659006e-01   6.75904022e-04\n",
      "    7.60392024e-03   1.68976005e-04]\n",
      " [  3.83080607e-03   2.87310455e-03   1.05347167e-02   4.30965682e-03\n",
      "    8.61931365e-03   1.27693536e-03   9.57701516e-04   9.36951317e-01\n",
      "    2.23463687e-03   2.84118117e-02]\n",
      " [  8.71645873e-03   2.71748419e-02   1.14510340e-02   2.80293967e-02\n",
      "    2.56366433e-03   2.58075543e-02   9.91283541e-03   5.29823962e-03\n",
      "    8.58485729e-01   2.25602461e-02]\n",
      " [  7.56429652e-03   5.54715078e-03   4.37048243e-03   1.52966885e-02\n",
      "    2.97528996e-02   5.04286435e-03   5.04286435e-04   4.25281560e-02\n",
      "    1.27752563e-02   8.76617919e-01]]\n"
     ]
    }
   ],
   "source": [
    "row_sums = conf_mx.sum(axis=1, keepdims=True)\n",
    "print(row_sums)\n",
    "norm_conf_mx = conf_mx / row_sums\n",
    "print(norm_conf_mx)"
   ]
  },
  {
   "cell_type": "code",
   "execution_count": 83,
   "metadata": {},
   "outputs": [
    {
     "name": "stdout",
     "output_type": "stream",
     "text": [
      "[[ 0.          0.00033767  0.00371433  0.00168833  0.00168833  0.00742867\n",
      "   0.007091    0.0015195   0.00641567  0.0005065 ]\n",
      " [ 0.00014832  0.          0.00652625  0.00326313  0.00088994  0.00593296\n",
      "   0.00074162  0.00207654  0.01631563  0.00163156]\n",
      " [ 0.00973481  0.0060423   0.          0.01611279  0.01275596  0.00386036\n",
      "   0.01510574  0.01040618  0.02668681  0.00234978]\n",
      " [ 0.00864459  0.00668733  0.02234546  0.          0.00032621  0.0353939\n",
      "   0.00570869  0.00978633  0.02136682  0.01533192]\n",
      " [ 0.00376583  0.00427936  0.00564875  0.00171174  0.          0.00154057\n",
      "   0.00924341  0.00513523  0.01489216  0.03149606]\n",
      " [ 0.01309721  0.00848552  0.00664084  0.03394208  0.01217488  0.\n",
      "   0.01863125  0.0051651   0.0326508   0.01733997]\n",
      " [ 0.00591416  0.00473133  0.00811085  0.00033795  0.00625211  0.01554579\n",
      "   0.          0.0006759   0.00760392  0.00016898]\n",
      " [ 0.00383081  0.0028731   0.01053472  0.00430966  0.00861931  0.00127694\n",
      "   0.0009577   0.          0.00223464  0.02841181]\n",
      " [ 0.00871646  0.02717484  0.01145103  0.0280294   0.00256366  0.02580755\n",
      "   0.00991284  0.00529824  0.          0.02256025]\n",
      " [ 0.0075643   0.00554715  0.00437048  0.01529669  0.0297529   0.00504286\n",
      "   0.00050429  0.04252816  0.01277526  0.        ]]\n"
     ]
    },
    {
     "data": {
      "image/png": "[encoded data removed]",
      "text/plain": [
       "<matplotlib.figure.Figure at 0x11c9a1a90>"
      ]
     },
     "metadata": {},
     "output_type": "display_data"
    }
   ],
   "source": [
    "np.fill_diagonal(norm_conf_mx, 0)\n",
    "print(norm_conf_mx)\n",
    "plt.matshow(norm_conf_mx, cmap=plt.cm.gray)\n",
    "plt.show()"
   ]
  },
  {
   "cell_type": "code",
   "execution_count": 84,
   "metadata": {},
   "outputs": [
    {
     "name": "stdout",
     "output_type": "stream",
     "text": [
      "[[0 1 2 3 4]\n",
      " [5 6 7 8 9]]\n"
     ]
    }
   ],
   "source": [
    "my_ary = np.array([i for i in range(10)]).reshape(2,5)\n",
    "print(my_ary)"
   ]
  },
  {
   "cell_type": "code",
   "execution_count": 85,
   "metadata": {},
   "outputs": [
    {
     "name": "stdout",
     "output_type": "stream",
     "text": [
      "my_ary.sum() = 45\n",
      "my_ary.sum(axis=0) = [ 5  7  9 11 13]\n",
      "my_ary.sum(axis=0, keepdims=True) = [[ 5  7  9 11 13]]\n",
      "my_ary.sum(axis=1) = [10 35]\n",
      "my_ary.sum(axis=1, keepdims=True) = [[10]\n",
      " [35]]\n"
     ]
    }
   ],
   "source": [
    "print('my_ary.sum() =', my_ary.sum())\n",
    "print('my_ary.sum(axis=0) =', my_ary.sum(axis=0))\n",
    "print('my_ary.sum(axis=0, keepdims=True) =', my_ary.sum(axis=0, keepdims=True))\n",
    "print('my_ary.sum(axis=1) =', my_ary.sum(axis=1))\n",
    "print('my_ary.sum(axis=1, keepdims=True) =', my_ary.sum(axis=1, keepdims=True))"
   ]
  },
  {
   "cell_type": "code",
   "execution_count": 86,
   "metadata": {},
   "outputs": [
    {
     "data": {
      "image/png": "[encoded data removed]",
      "text/plain": [
       "<matplotlib.figure.Figure at 0x11b726630>"
      ]
     },
     "metadata": {},
     "output_type": "display_data"
    }
   ],
   "source": [
    "def plot_digits(instances, images_per_row=10, **options):\n",
    "    size = 28\n",
    "    images_per_row = min(len(instances), images_per_row)\n",
    "    images = [instance.reshape(size,size) for instance in instances]\n",
    "    n_rows = (len(instances) - 1) // images_per_row + 1\n",
    "    row_images = []\n",
    "    n_empty = n_rows * images_per_row - len(instances)\n",
    "    images.append(np.zeros((size, size * n_empty)))\n",
    "    for row in range(n_rows):\n",
    "        rimages = images[row * images_per_row : (row + 1) * images_per_row]\n",
    "        row_images.append(np.concatenate(rimages, axis=1))\n",
    "    image = np.concatenate(row_images, axis=0)\n",
    "    plt.imshow(image, cmap = matplotlib.cm.binary, **options)\n",
    "    plt.axis(\"off\")\n",
    "\n",
    "cl_a, cl_b = 3, 5\n",
    "X_aa = X_train[(y_train == cl_a) & (y_train_pred == cl_a)]\n",
    "X_ab = X_train[(y_train == cl_a) & (y_train_pred == cl_b)]\n",
    "X_ba = X_train[(y_train == cl_b) & (y_train_pred == cl_a)]\n",
    "X_bb = X_train[(y_train == cl_b) & (y_train_pred == cl_b)]\n",
    "\n",
    "plt.figure(figsize=(8, 8))\n",
    "\n",
    "plt.subplot(221); plot_digits(X_aa[:25], images_per_row=5)\n",
    "plt.subplot(222); plot_digits(X_ab[:25], images_per_row=5)\n",
    "plt.subplot(223); plot_digits(X_ba[:25], images_per_row=5)\n",
    "plt.subplot(224); plot_digits(X_bb[:25], images_per_row=5)\n",
    "\n",
    "plt.show()"
   ]
  },
  {
   "cell_type": "code",
   "execution_count": 87,
   "metadata": {},
   "outputs": [
    {
     "name": "stdout",
     "output_type": "stream",
     "text": [
      "[[False  True]\n",
      " [ True  True]\n",
      " [False  True]\n",
      " ..., \n",
      " [False  True]\n",
      " [ True False]\n",
      " [False False]]\n"
     ]
    },
    {
     "data": {
      "text/plain": [
       "KNeighborsClassifier(algorithm='auto', leaf_size=30, metric='minkowski',\n",
       "           metric_params=None, n_jobs=1, n_neighbors=5, p=2,\n",
       "           weights='uniform')"
      ]
     },
     "execution_count": 87,
     "metadata": {},
     "output_type": "execute_result"
    }
   ],
   "source": [
    "from sklearn.neighbors import KNeighborsClassifier\n",
    "\n",
    "y_train_large = (y_train >= 7)\n",
    "y_train_odd = (y_train % 2 == 1)\n",
    "y_multilabel = np.c_[y_train_large, y_train_odd]\n",
    "print(y_multilabel)\n",
    "\n",
    "knn_clf = KNeighborsClassifier()\n",
    "knn_clf.fit(X_train, y_multilabel)"
   ]
  },
  {
   "cell_type": "code",
   "execution_count": 88,
   "metadata": {},
   "outputs": [
    {
     "data": {
      "text/plain": [
       "array([[False, False]], dtype=bool)"
      ]
     },
     "execution_count": 88,
     "metadata": {},
     "output_type": "execute_result"
    }
   ],
   "source": [
    "knn_clf.predict([some_digit])"
   ]
  },
  {
   "cell_type": "code",
   "execution_count": 103,
   "metadata": {},
   "outputs": [
    {
     "ename": "AttributeError",
     "evalue": "'KNeighborsClassifier' object has no attribute 'decision_function'",
     "output_type": "error",
     "traceback": [
      "\u001b[0;31m---------------------------------------------------------------------------\u001b[0m",
      "\u001b[0;31mAttributeError\u001b[0m                            Traceback (most recent call last)",
      "\u001b[0;32m<ipython-input-103-4687bc1d8f35>\u001b[0m in \u001b[0;36m<module>\u001b[0;34m()\u001b[0m\n\u001b[0;32m----> 1\u001b[0;31m \u001b[0mknn_clf\u001b[0m\u001b[0;34m.\u001b[0m\u001b[0mdecision_function\u001b[0m\u001b[0;34m(\u001b[0m\u001b[0;34m[\u001b[0m\u001b[0msome_digit\u001b[0m\u001b[0;34m]\u001b[0m\u001b[0;34m)\u001b[0m\u001b[0;34m\u001b[0m\u001b[0m\n\u001b[0m",
      "\u001b[0;31mAttributeError\u001b[0m: 'KNeighborsClassifier' object has no attribute 'decision_function'"
     ]
    }
   ],
   "source": [
    "knn_clf.decision_function([some_digit])"
   ]
  },
  {
   "cell_type": "code",
   "execution_count": null,
   "metadata": {
    "collapsed": true
   },
   "outputs": [],
   "source": [
    "y_train_knn_pred = cross_val_predict(knn_clf, X_train, y_multilabel, cv=3)\n",
    "f1_score(y_multilabel, y_train_knn_pred, average=\"macro\")"
   ]
  },
  {
   "cell_type": "code",
   "execution_count": 89,
   "metadata": {
    "collapsed": true
   },
   "outputs": [],
   "source": [
    "noise = np.random.randint(0, 100, (len(X_train), 784))\n",
    "X_train_mod = X_train + noise\n",
    "noise = np.random.randint(0, 100, (len(X_test), 784))\n",
    "X_test_mod = X_test + noise\n",
    "y_train_mod = X_train\n",
    "y_test_mod = X_test"
   ]
  },
  {
   "cell_type": "code",
   "execution_count": 92,
   "metadata": {
    "collapsed": true
   },
   "outputs": [],
   "source": [
    "def plot_digit(data):\n",
    "    image = data.reshape(28, 28)\n",
    "    plt.imshow(image, cmap = matplotlib.cm.binary,\n",
    "               interpolation=\"nearest\")\n",
    "    plt.axis(\"off\")"
   ]
  },
  {
   "cell_type": "code",
   "execution_count": 98,
   "metadata": {},
   "outputs": [
    {
     "data": {
      "image/png": "[encoded data removed]",
      "text/plain": [
       "<matplotlib.figure.Figure at 0x11c9a6e10>"
      ]
     },
     "metadata": {},
     "output_type": "display_data"
    }
   ],
   "source": [
    "plot_digit(X_test_mod[some_index])"
   ]
  },
  {
   "cell_type": "code",
   "execution_count": 99,
   "metadata": {},
   "outputs": [
    {
     "data": {
      "image/png": "[encoded data removed]",
      "text/plain": [
       "<matplotlib.figure.Figure at 0x10a0cccf8>"
      ]
     },
     "metadata": {},
     "output_type": "display_data"
    }
   ],
   "source": [
    "plot_digit(X_test[some_index])"
   ]
  },
  {
   "cell_type": "code",
   "execution_count": 100,
   "metadata": {
    "scrolled": true
   },
   "outputs": [
    {
     "data": {
      "image/png": "[encoded data removed]",
      "text/plain": [
       "<matplotlib.figure.Figure at 0x116041438>"
      ]
     },
     "metadata": {},
     "output_type": "display_data"
    }
   ],
   "source": [
    "some_index = rand_index - 60000\n",
    "knn_clf.fit(X_train_mod, y_train_mod)\n",
    "clean_digit = knn_clf.predict([X_test_mod[some_index]])\n",
    "plot_digit(clean_digit)"
   ]
  },
  {
   "cell_type": "code",
   "execution_count": 104,
   "metadata": {
    "collapsed": true
   },
   "outputs": [],
   "source": [
    "my_knn_clf = KNeighborsClassifier()"
   ]
  },
  {
   "cell_type": "code",
   "execution_count": 117,
   "metadata": {
    "collapsed": true
   },
   "outputs": [],
   "source": [
    "from sklearn.model_selection import GridSearchCV, RandomizedSearchCV\n",
    "\n",
    "param_dict = {\"n_neighbors\": [i for i in range(2, 11)], \"weights\": [\"uniform\", \"distance\"], \n",
    "              \"leaf_size\":[5 * i for i in range(4, 8)], \"p\": [i for i in range(1, 3)]}\n",
    "\n",
    "\n",
    "rand_search_knn = RandomizedSearchCV(my_knn_clf, param_dict, n_iter=10, scoring=\"accuracy\", n_jobs=-1, verbose=2)"
   ]
  },
  {
   "cell_type": "code",
   "execution_count": null,
   "metadata": {},
   "outputs": [
    {
     "name": "stdout",
     "output_type": "stream",
     "text": [
      "Fitting 3 folds for each of 10 candidates, totalling 30 fits\n",
      "[CV] weights=distance, p=2, n_neighbors=5, leaf_size=35 ..............\n",
      "[CV] weights=distance, p=2, n_neighbors=5, leaf_size=35 ..............\n",
      "[CV] weights=distance, p=2, n_neighbors=5, leaf_size=35 ..............\n",
      "[CV] weights=uniform, p=2, n_neighbors=7, leaf_size=30 ...............\n",
      "[CV]  weights=distance, p=2, n_neighbors=5, leaf_size=35, total=33.4min\n",
      "[CV] weights=uniform, p=2, n_neighbors=7, leaf_size=30 ...............\n",
      "[CV]  weights=distance, p=2, n_neighbors=5, leaf_size=35, total=33.4min\n",
      "[CV] weights=uniform, p=2, n_neighbors=7, leaf_size=30 ...............\n",
      "[CV]  weights=uniform, p=2, n_neighbors=7, leaf_size=30, total=33.5min\n",
      "[CV] weights=distance, p=1, n_neighbors=8, leaf_size=25 ..............\n",
      "[CV]  weights=distance, p=2, n_neighbors=5, leaf_size=35, total=33.5min\n",
      "[CV] weights=distance, p=1, n_neighbors=8, leaf_size=25 ..............\n",
      "[CV]  weights=distance, p=1, n_neighbors=8, leaf_size=25, total=27.3min\n",
      "[CV] weights=distance, p=1, n_neighbors=8, leaf_size=25 ..............\n",
      "[CV]  weights=distance, p=1, n_neighbors=8, leaf_size=25, total=27.4min\n",
      "[CV] weights=distance, p=2, n_neighbors=2, leaf_size=20 ..............\n",
      "[CV]  weights=uniform, p=2, n_neighbors=7, leaf_size=30, total=30.7min\n",
      "[CV] weights=distance, p=2, n_neighbors=2, leaf_size=20 ..............\n",
      "[CV]  weights=uniform, p=2, n_neighbors=7, leaf_size=30, total=30.9min\n",
      "[CV] weights=distance, p=2, n_neighbors=2, leaf_size=20 ..............\n",
      "[CV]  weights=distance, p=1, n_neighbors=8, leaf_size=25, total=36.0min\n",
      "[CV] weights=distance, p=2, n_neighbors=7, leaf_size=35 ..............\n",
      "[CV]  weights=distance, p=2, n_neighbors=2, leaf_size=20, total=39.5min\n",
      "[CV] weights=distance, p=2, n_neighbors=7, leaf_size=35 ..............\n",
      "[CV]  weights=distance, p=2, n_neighbors=2, leaf_size=20, total=40.6min\n",
      "[CV] weights=distance, p=2, n_neighbors=7, leaf_size=35 ..............\n",
      "[CV]  weights=distance, p=2, n_neighbors=2, leaf_size=20, total=40.6min\n",
      "[CV] weights=uniform, p=1, n_neighbors=5, leaf_size=30 ...............\n",
      "[CV]  weights=distance, p=2, n_neighbors=7, leaf_size=35, total=35.6min\n",
      "[CV] weights=uniform, p=1, n_neighbors=5, leaf_size=30 ...............\n",
      "[CV]  weights=distance, p=2, n_neighbors=7, leaf_size=35, total=35.8min\n",
      "[CV] weights=uniform, p=1, n_neighbors=5, leaf_size=30 ...............\n",
      "[CV]  weights=uniform, p=1, n_neighbors=5, leaf_size=30, total=29.9min\n",
      "[CV] weights=uniform, p=1, n_neighbors=7, leaf_size=20 ...............\n",
      "[CV]  weights=distance, p=2, n_neighbors=7, leaf_size=35, total=33.3min\n",
      "[CV] weights=uniform, p=1, n_neighbors=7, leaf_size=20 ...............\n",
      "[CV]  weights=uniform, p=1, n_neighbors=5, leaf_size=30, total=29.1min\n",
      "[CV] weights=uniform, p=1, n_neighbors=7, leaf_size=20 ...............\n",
      "[CV]  weights=uniform, p=1, n_neighbors=5, leaf_size=30, total=29.9min\n",
      "[CV] weights=distance, p=2, n_neighbors=3, leaf_size=25 ..............\n",
      "[CV]  weights=uniform, p=1, n_neighbors=7, leaf_size=20, total=30.0min\n",
      "[CV] weights=distance, p=2, n_neighbors=3, leaf_size=25 ..............\n",
      "[CV]  weights=uniform, p=1, n_neighbors=7, leaf_size=20, total=31.6min\n",
      "[CV] weights=distance, p=2, n_neighbors=3, leaf_size=25 ..............\n",
      "[CV]  weights=uniform, p=1, n_neighbors=7, leaf_size=20, total=28.5min\n",
      "[CV] weights=uniform, p=2, n_neighbors=9, leaf_size=35 ...............\n",
      "[CV]  weights=distance, p=2, n_neighbors=3, leaf_size=25, total=31.5min\n",
      "[CV] weights=uniform, p=2, n_neighbors=9, leaf_size=35 ...............\n",
      "[CV]  weights=distance, p=2, n_neighbors=3, leaf_size=25, total=31.7min\n",
      "[CV] weights=uniform, p=2, n_neighbors=9, leaf_size=35 ...............\n",
      "[CV]  weights=distance, p=2, n_neighbors=3, leaf_size=25, total=31.8min\n",
      "[CV] weights=distance, p=2, n_neighbors=7, leaf_size=25 ..............\n",
      "[CV]  weights=uniform, p=2, n_neighbors=9, leaf_size=35, total=47.2min\n",
      "[CV] weights=distance, p=2, n_neighbors=7, leaf_size=25 ..............\n",
      "[CV]  weights=uniform, p=2, n_neighbors=9, leaf_size=35, total=29.1min\n",
      "[CV] weights=distance, p=2, n_neighbors=7, leaf_size=25 ..............\n",
      "[CV]  weights=uniform, p=2, n_neighbors=9, leaf_size=35, total=29.3min\n",
      "[CV]  weights=distance, p=2, n_neighbors=7, leaf_size=25, total=28.7min\n",
      "[CV]  weights=distance, p=2, n_neighbors=7, leaf_size=25, total=24.7min\n",
      "[CV]  weights=distance, p=2, n_neighbors=7, leaf_size=25, total=16.7min\n"
     ]
    },
    {
     "name": "stderr",
     "output_type": "stream",
     "text": [
      "[Parallel(n_jobs=-1)]: Done  30 out of  30 | elapsed: 712.6min finished\n"
     ]
    },
    {
     "data": {
      "text/plain": [
       "RandomizedSearchCV(cv=None, error_score='raise',\n",
       "          estimator=KNeighborsClassifier(algorithm='auto', leaf_size=30, metric='minkowski',\n",
       "           metric_params=None, n_jobs=-1, n_neighbors=5, p=2,\n",
       "           weights='uniform'),\n",
       "          fit_params=None, iid=True, n_iter=10, n_jobs=-1,\n",
       "          param_distributions={'n_neighbors': [2, 3, 4, 5, 6, 7, 8, 9, 10], 'weights': ['uniform', 'distance'], 'leaf_size': [20, 25, 30, 35], 'p': [1, 2]},\n",
       "          pre_dispatch='2*n_jobs', random_state=None, refit=True,\n",
       "          return_train_score=True, scoring='accuracy', verbose=2)"
      ]
     },
     "execution_count": 118,
     "metadata": {},
     "output_type": "execute_result"
    }
   ],
   "source": [
    "rand_search_knn.fit(X_train, y_train)"
   ]
  },
  {
   "cell_type": "code",
   "execution_count": 129,
   "metadata": {},
   "outputs": [
    {
     "data": {
      "text/plain": [
       "{'mean_fit_time': array([  44.04965965,   44.82232865,   70.4579583 ,  132.20993463,\n",
       "         117.80625701,  107.39496907,  121.93649165,  103.88088401,\n",
       "         134.15343062,   92.82726924]),\n",
       " 'mean_score_time': array([ 1962.34195844,  1857.40840602,  1743.43612989,  2281.4211483 ,\n",
       "         1975.38375727,  1670.65985219,  1680.61895776,  1796.15275399,\n",
       "         1977.5051717 ,  1308.91934307]),\n",
       " 'mean_test_score': array([ 0.96946667,  0.967     ,  0.96203333,  0.96971667,  0.96826667,\n",
       "         0.96143333,  0.96005   ,  0.97025   ,  0.96553333,  0.96826667]),\n",
       " 'mean_train_score': array([ 1.        ,  0.97563331,  1.        ,  1.        ,  1.        ,\n",
       "         0.97427496,  0.97025827,  1.        ,  0.97289164,  1.        ]),\n",
       " 'param_leaf_size': masked_array(data = [35 30 25 20 35 30 20 25 35 25],\n",
       "              mask = [False False False False False False False False False False],\n",
       "        fill_value = ?),\n",
       " 'param_n_neighbors': masked_array(data = [5 7 8 2 7 5 7 3 9 7],\n",
       "              mask = [False False False False False False False False False False],\n",
       "        fill_value = ?),\n",
       " 'param_p': masked_array(data = [2 2 1 2 2 1 1 2 2 2],\n",
       "              mask = [False False False False False False False False False False],\n",
       "        fill_value = ?),\n",
       " 'param_weights': masked_array(data = ['distance' 'uniform' 'distance' 'distance' 'distance' 'uniform' 'uniform'\n",
       "  'distance' 'uniform' 'distance'],\n",
       "              mask = [False False False False False False False False False False],\n",
       "        fill_value = ?),\n",
       " 'params': [{'leaf_size': 35, 'n_neighbors': 5, 'p': 2, 'weights': 'distance'},\n",
       "  {'leaf_size': 30, 'n_neighbors': 7, 'p': 2, 'weights': 'uniform'},\n",
       "  {'leaf_size': 25, 'n_neighbors': 8, 'p': 1, 'weights': 'distance'},\n",
       "  {'leaf_size': 20, 'n_neighbors': 2, 'p': 2, 'weights': 'distance'},\n",
       "  {'leaf_size': 35, 'n_neighbors': 7, 'p': 2, 'weights': 'distance'},\n",
       "  {'leaf_size': 30, 'n_neighbors': 5, 'p': 1, 'weights': 'uniform'},\n",
       "  {'leaf_size': 20, 'n_neighbors': 7, 'p': 1, 'weights': 'uniform'},\n",
       "  {'leaf_size': 25, 'n_neighbors': 3, 'p': 2, 'weights': 'distance'},\n",
       "  {'leaf_size': 35, 'n_neighbors': 9, 'p': 2, 'weights': 'uniform'},\n",
       "  {'leaf_size': 25, 'n_neighbors': 7, 'p': 2, 'weights': 'distance'}],\n",
       " 'rank_test_score': array([ 3,  6,  8,  2,  4,  9, 10,  1,  7,  4], dtype=int32),\n",
       " 'split0_test_score': array([ 0.97135573,  0.96810638,  0.96475705,  0.97135573,  0.96985603,\n",
       "         0.9635073 ,  0.96260748,  0.97255549,  0.96720656,  0.96985603]),\n",
       " 'split0_train_score': array([ 1.        ,  0.9749975 ,  1.        ,  1.        ,  1.        ,\n",
       "         0.97339734,  0.9690219 ,  1.        ,  0.97214721,  1.        ]),\n",
       " 'split1_test_score': array([ 0.96774839,  0.96564828,  0.95974799,  0.96724836,  0.96679834,\n",
       "         0.95959798,  0.95764788,  0.96769838,  0.96384819,  0.96679834]),\n",
       " 'split1_train_score': array([ 1.        ,  0.97660058,  1.        ,  1.        ,  1.        ,\n",
       "         0.97502562,  0.97107572,  1.        ,  0.97367566,  1.        ]),\n",
       " 'split2_test_score': array([ 0.96929539,  0.96724509,  0.96159424,  0.97054558,  0.96814522,\n",
       "         0.96119418,  0.95989398,  0.97049557,  0.96554483,  0.96814522]),\n",
       " 'split2_train_score': array([ 1.        ,  0.97530185,  1.        ,  1.        ,  1.        ,\n",
       "         0.97440192,  0.9706772 ,  1.        ,  0.97285204,  1.        ]),\n",
       " 'std_fit_time': array([  1.38902454,   2.10671523,  32.48004964,  11.01577076,\n",
       "         12.22415061,   6.02790598,  12.93088823,  16.37990162,\n",
       "         68.48012851,   9.75327556]),\n",
       " 'std_score_time': array([   1.04633405,   75.71425729,  213.19690241,   20.74963393,\n",
       "          57.5973283 ,   28.21663998,   80.28048545,   12.02307718,\n",
       "         441.37500777,  290.67158778]),\n",
       " 'std_test_score': array([ 0.00147772,  0.0010184 ,  0.00206845,  0.00177635,  0.00125129,\n",
       "         0.00160496,  0.00202782,  0.00199057,  0.00137112,  0.00125129]),\n",
       " 'std_train_score': array([ 0.        ,  0.00069516,  0.        ,  0.        ,  0.        ,\n",
       "         0.00067078,  0.00088926,  0.        ,  0.00062461,  0.        ])}"
      ]
     },
     "execution_count": 129,
     "metadata": {},
     "output_type": "execute_result"
    }
   ],
   "source": [
    "rand_search_knn.cv_results_"
   ]
  },
  {
   "cell_type": "code",
   "execution_count": 130,
   "metadata": {},
   "outputs": [
    {
     "data": {
      "text/plain": [
       "{'leaf_size': 25, 'n_neighbors': 3, 'p': 2, 'weights': 'distance'}"
      ]
     },
     "execution_count": 130,
     "metadata": {},
     "output_type": "execute_result"
    }
   ],
   "source": [
    "rand_search_knn.best_params_"
   ]
  },
  {
   "cell_type": "code",
   "execution_count": 132,
   "metadata": {},
   "outputs": [
    {
     "data": {
      "text/plain": [
       "KNeighborsClassifier(algorithm='auto', leaf_size=25, metric='minkowski',\n",
       "           metric_params=None, n_jobs=-1, n_neighbors=3, p=2,\n",
       "           weights='distance')"
      ]
     },
     "execution_count": 132,
     "metadata": {},
     "output_type": "execute_result"
    }
   ],
   "source": [
    "rand_search_knn.best_estimator_"
   ]
  },
  {
   "cell_type": "code",
   "execution_count": 193,
   "metadata": {
    "collapsed": true
   },
   "outputs": [],
   "source": [
    "import numpy as np\n",
    "\n",
    "from scipy.ndimage.interpolation import shift\n",
    "\n",
    "def shift_by_one_pixel_in_all_dir(X_set, y_set):\n",
    "    new_X_set = []\n",
    "    new_y_set = []\n",
    "    for i in range(4):\n",
    "        new_y_set += np.ndarray.tolist(y_set)\n",
    "        for row in X_set:\n",
    "            if i == 0:\n",
    "                new_x = shift(row.reshape(28, 28), [1, 0], cval=0).reshape(-1)\n",
    "            elif i == 1:\n",
    "                new_x = shift(row.reshape(28, 28), [-1, 0], cval=0).reshape(-1)\n",
    "            elif i == 2:\n",
    "                new_x = shift(row.reshape(28, 28), [0, 1], cval=0).reshape(-1)\n",
    "            else:\n",
    "                new_x = shift(row.reshape(28, 28), [0, -1], cval=0).reshape(-1)\n",
    "            new_X_set.append(new_x)\n",
    "    new_X_set = np.array(new_X_set)\n",
    "    new_y_set = np.array(new_y_set)\n",
    "    return np.concatenate((X_set, new_X_set), axis=0), np.concatenate((y_set, new_y_set), axis=0), "
   ]
  },
  {
   "cell_type": "code",
   "execution_count": 194,
   "metadata": {
    "collapsed": true
   },
   "outputs": [],
   "source": [
    "new_X_train, new_y_train = shift_by_one_pixel_in_all_dir(X_train, y_train)"
   ]
  },
  {
   "cell_type": "code",
   "execution_count": 203,
   "metadata": {},
   "outputs": [],
   "source": [
    "best_knn_clf = rand_search_knn.best_estimator_"
   ]
  },
  {
   "cell_type": "code",
   "execution_count": 204,
   "metadata": {},
   "outputs": [
    {
     "data": {
      "text/plain": [
       "KNeighborsClassifier(algorithm='auto', leaf_size=25, metric='minkowski',\n",
       "           metric_params=None, n_jobs=-1, n_neighbors=3, p=2,\n",
       "           weights='distance')"
      ]
     },
     "execution_count": 204,
     "metadata": {},
     "output_type": "execute_result"
    }
   ],
   "source": [
    "best_knn_clf.fit(new_X_train,  new_y_train)"
   ]
  },
  {
   "cell_type": "code",
   "execution_count": 207,
   "metadata": {},
   "outputs": [],
   "source": [
    "y_test_pred = best_knn_clf.predict(X_test)"
   ]
  },
  {
   "cell_type": "code",
   "execution_count": 211,
   "metadata": {},
   "outputs": [
    {
     "data": {
      "text/plain": [
       "0.66430414720969488"
      ]
     },
     "execution_count": 211,
     "metadata": {},
     "output_type": "execute_result"
    }
   ],
   "source": [
    "final_mse = mean_squared_error(y_test, y_test_pred)\n",
    "final_rmse = np.sqrt(final_mse)\n",
    "final_rmse"
   ]
  },
  {
   "cell_type": "code",
   "execution_count": 208,
   "metadata": {},
   "outputs": [
    {
     "data": {
      "text/plain": [
       "0.97629999999999995"
      ]
     },
     "execution_count": 208,
     "metadata": {},
     "output_type": "execute_result"
    }
   ],
   "source": [
    "from sklearn.metrics import accuracy_score\n",
    "\n",
    "accuracy_score(y_test, y_test_pred)"
   ]
  }
 ],
 "metadata": {
  "kernelspec": {
   "display_name": "Python (root)",
   "language": "python",
   "name": "myenv"
  },
  "language_info": {
   "codemirror_mode": {
    "name": "ipython",
    "version": 3
   },
   "file_extension": ".py",
   "mimetype": "text/x-python",
   "name": "python",
   "nbconvert_exporter": "python",
   "pygments_lexer": "ipython3",
   "version": "3.6.1"
  }
 },
 "nbformat": 4,
 "nbformat_minor": 2
}
