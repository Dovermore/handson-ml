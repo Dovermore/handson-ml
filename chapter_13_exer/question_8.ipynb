{
 "cells": [
  {
   "cell_type": "markdown",
   "metadata": {},
   "source": [
    "# Question 8"
   ]
  },
  {
   "cell_type": "code",
   "execution_count": 289,
   "metadata": {
    "ExecuteTime": {
     "end_time": "2018-03-05T05:55:32.656071Z",
     "start_time": "2018-03-05T05:55:32.598675Z"
    },
    "collapsed": true
   },
   "outputs": [],
   "source": [
    "import matplotlib.pyplot as plt\n",
    "import tensorflow as tf\n",
    "import numpy as np\n",
    "import os"
   ]
  },
  {
   "cell_type": "code",
   "execution_count": 290,
   "metadata": {
    "ExecuteTime": {
     "end_time": "2018-03-05T05:55:32.933511Z",
     "start_time": "2018-03-05T05:55:32.866912Z"
    },
    "collapsed": true
   },
   "outputs": [],
   "source": [
    "eagle_path = os.path.join(\".\", \"imgs\", \"rsz_eagle.jpg\")\n",
    "ori_eagle = plt.imread(eagle_path)\n",
    "eagle = ori_eagle/255  # Normalize the value\n",
    "# panda_path = os.path.join(\".\", \"imgs\", \"rsz_eagle.jpg\")\n",
    "# panda = plt.imread(eagle_path)\n",
    "imgs = np.reshape(eagle, [-1, 299, 299, 3])"
   ]
  },
  {
   "cell_type": "code",
   "execution_count": 291,
   "metadata": {
    "ExecuteTime": {
     "end_time": "2018-03-05T05:55:33.051623Z",
     "start_time": "2018-03-05T05:55:33.038767Z"
    },
    "collapsed": true
   },
   "outputs": [],
   "source": [
    "from tensorflow.contrib.slim.nets import inception\n",
    "import tensorflow.contrib.slim as slim"
   ]
  },
  {
   "cell_type": "code",
   "execution_count": 292,
   "metadata": {
    "ExecuteTime": {
     "end_time": "2018-03-05T05:55:39.247485Z",
     "start_time": "2018-03-05T05:55:33.174596Z"
    },
    "collapsed": true
   },
   "outputs": [],
   "source": [
    "tf.reset_default_graph()\n",
    "X = tf.placeholder(tf.float32, shape=[None, 299, 299, 3], name=\"X\")\n",
    "with slim.arg_scope(inception.inception_v3_arg_scope()):\n",
    "    logits, end_points = inception.inception_v3(\n",
    "                                X, num_classes=1001, is_training=False)\n",
    "    predictions = end_points[\"Predictions\"]\n",
    "    saver = tf.train.Saver()"
   ]
  },
  {
   "cell_type": "code",
   "execution_count": 293,
   "metadata": {
    "ExecuteTime": {
     "end_time": "2018-03-05T05:55:42.067560Z",
     "start_time": "2018-03-05T05:55:39.328050Z"
    },
    "code_folding": []
   },
   "outputs": [
    {
     "name": "stdout",
     "output_type": "stream",
     "text": [
      "INFO:tensorflow:Restoring parameters from ./temp/inception_v3/inception_v3.ckpt\n",
      "[[3.5401343e-05 5.0831954e-05 4.0685889e-05 ... 1.9077404e-05\n",
      "  4.7846610e-05 3.5531968e-05]]\n",
      "[[-1.3913161e-01  2.2264339e-01  8.9406967e-08 ... -7.5737643e-01\n",
      "   1.6211924e-01 -1.3544802e-01]]\n"
     ]
    }
   ],
   "source": [
    "ckpt_path = os.path.join(\".\", \"temp\", \"inception_v3\", \"inception_v3.ckpt\")\n",
    "with tf.Session() as sess:\n",
    "    saver.restore(sess, ckpt_path)\n",
    "    pred, logi = sess.run([predictions, logits], feed_dict={X:imgs})\n",
    "print(pred)\n",
    "print(logi)"
   ]
  },
  {
   "cell_type": "code",
   "execution_count": 294,
   "metadata": {
    "ExecuteTime": {
     "end_time": "2018-03-05T05:55:42.163763Z",
     "start_time": "2018-03-05T05:55:42.154666Z"
    },
    "collapsed": true
   },
   "outputs": [],
   "source": [
    "classes_path = os.path.join(\"..\", \"datasets\", \"inception\", \"imagenet_class_names.txt\")\n",
    "classes = list(open(classes_path))"
   ]
  },
  {
   "cell_type": "code",
   "execution_count": 295,
   "metadata": {
    "ExecuteTime": {
     "end_time": "2018-03-05T05:55:42.248314Z",
     "start_time": "2018-03-05T05:55:42.237950Z"
    },
    "collapsed": true
   },
   "outputs": [],
   "source": [
    "for line in range(len(classes)):\n",
    "    classes[line] = classes[line][10: -1]"
   ]
  },
  {
   "cell_type": "code",
   "execution_count": 296,
   "metadata": {
    "ExecuteTime": {
     "end_time": "2018-03-05T05:55:42.362708Z",
     "start_time": "2018-03-05T05:55:42.330836Z"
    },
    "code_folding": []
   },
   "outputs": [
    {
     "name": "stdout",
     "output_type": "stream",
     "text": [
      "Predicted top-5 classes are:\n",
      "        vulture with score 10.06 and index of 23\n",
      "        bald eagle, American eagle, Haliaeetus leucocephalus with score 4.24 and index of 22\n",
      "        grey whale, gray whale, devilfish, Eschrichtius gibbosus, Eschrichtius robustus with score 2.82 and index of 147\n",
      "        drake with score 2.37 and index of 97\n",
      "        stage with score 2.32 and index of 819\n",
      "        tusker with score 2.03 and index of 101\n",
      "        ptarmigan with score 2.03 and index of 81\n",
      "        black stork, Ciconia nigra with score 2.01 and index of 128\n",
      "        spoonbill with score 1.89 and index of 129\n",
      "        kite with score 1.88 and index of 21\n",
      "        organ, pipe organ with score 1.72 and index of 687\n",
      "        valley, vale with score 1.71 and index of 979\n",
      "        broccoli with score 1.64 and index of 937\n",
      "        black swan, Cygnus atratus with score 1.59 and index of 100\n",
      "        king penguin, Aptenodytes patagonica with score 1.56 and index of 145\n",
      "        Bedlington terrier with score 1.48 and index of 181\n",
      "        pelican with score 1.37 and index of 144\n",
      "        hermit crab with score 1.35 and index of 125\n",
      "        Pekinese, Pekingese, Peke with score 1.30 and index of 154\n",
      "        Bouvier des Flandres, Bouviers des Flandres with score 1.29 and index of 233\n",
      "        pillow with score 1.27 and index of 721\n"
     ]
    }
   ],
   "source": [
    "i = 0\n",
    "print(\"Predicted top-5 classes are:\")\n",
    "for ind, sco in sorted(enumerate(logi[0]), reverse=True, key=lambda x: x[1]):\n",
    "#     print(ind, sco)\n",
    "    if i > 20:\n",
    "        break\n",
    "    print(\"        %s with score %.2f and index of %d\" % (classes[ind], sco, ind))\n",
    "    i += 1"
   ]
  },
  {
   "cell_type": "code",
   "execution_count": 297,
   "metadata": {
    "ExecuteTime": {
     "end_time": "2018-03-05T05:55:42.697085Z",
     "start_time": "2018-03-05T05:55:42.442232Z"
    },
    "scrolled": true
   },
   "outputs": [
    {
     "data": {
      "image/png": "[encoded data removed]",
      "text/plain": [
       "<matplotlib.figure.Figure at 0x1c1fa55978>"
      ]
     },
     "metadata": {},
     "output_type": "display_data"
    }
   ],
   "source": [
    "plt.imshow(imgs[0])\n",
    "plt.show()"
   ]
  },
  {
   "cell_type": "markdown",
   "metadata": {},
   "source": [
    "# Question 9"
   ]
  },
  {
   "cell_type": "code",
   "execution_count": 298,
   "metadata": {
    "ExecuteTime": {
     "end_time": "2018-03-05T05:55:42.796684Z",
     "start_time": "2018-03-05T05:55:42.788517Z"
    },
    "collapsed": true
   },
   "outputs": [],
   "source": [
    "import sys\n",
    "import tarfile\n",
    "import urllib"
   ]
  },
  {
   "cell_type": "code",
   "execution_count": 369,
   "metadata": {
    "ExecuteTime": {
     "end_time": "2018-03-05T07:11:34.493543Z",
     "start_time": "2018-03-05T07:11:34.068695Z"
    },
    "collapsed": true
   },
   "outputs": [],
   "source": [
    "import re\n",
    "from PIL import Image, ImageChops, ImageOps\n",
    "import pandas\n",
    "\n",
    "def fetch_file_from_url(url, path, filename):\n",
    "    full_file_path = os.path.join(path, filename)\n",
    "    if os.path.isfile(full_file_path):\n",
    "        return\n",
    "    if not os.path.isdir(path):\n",
    "        os.makedirs(path)\n",
    "    urllib.request.urlretrieve(url, filename=full_file_path)\n",
    "\n",
    "def extract_and_delete_tarfile(path, filename):\n",
    "    full_file_path = os.path.join(path, filename)\n",
    "    file_tgz = tarfile.open(full_file_path)\n",
    "    file_tgz.extractall(path=path)\n",
    "    file_tgz.close()\n",
    "    os.remove(full_file_path)\n",
    "    \n",
    "def extract_class_names(path, filename, pattern=\"n\\d+\\s(\\w+(.*\\w+)*)\\\\n\"):\n",
    "    pattern = re.compile(pattern)\n",
    "    full_file_path = os.path.join(path, filename)\n",
    "    with open(full_file_path) as file:\n",
    "        classes = list(file)\n",
    "    for ind in range(len(classes)):\n",
    "        print(classes[ind])\n",
    "        classes[ind] = re.search(pattern, classes[ind]).group(1)\n",
    "        print(classes[ind])\n",
    "    return classes\n",
    "\n",
    "def rsz_img(path, size=299):\n",
    "    im = Image.open(path)\n",
    "    old_size = im.size  # old_size[0] is in (width, height) format\n",
    "    ratio = float(size)/max(old_size)\n",
    "    new_size = tuple([int(x*ratio) for x in old_size])\n",
    "    # use thumbnail() or resize() method to resize the input image\n",
    "    # thumbnail is a in-place operation\n",
    "    # im.thumbnail(new_size, Image.ANTIALIAS)\n",
    "    im = im.resize(new_size, Image.ANTIALIAS)\n",
    "    # create a new image and paste the resized on it\n",
    "    new_im = Image.new(\"RGB\", (size, size))\n",
    "    new_im.paste(im, ((size-new_size[0])//2,\n",
    "                        (size-new_size[1])//2))\n",
    "    new_im = np.array(new_im)\n",
    "    return new_im\n",
    "    \n",
    "def preprocess_jpg_by_path(base_path, rsz_func=rsz_img, ninstance=None):\n",
    "    i, j, X, y = 0, 0, [], []\n",
    "    name_pattern = re.compile(\".*/(w+)\")\n",
    "    for path in os.listdir(base_path):\n",
    "        full_path = os.path.join(base_path, path)\n",
    "        if not os.path.isdir(full_path):\n",
    "            continue\n",
    "        name = path\n",
    "        for file in os.listdir(full_path):\n",
    "            if i >= ninstance:\n",
    "                break\n",
    "            if file.endswith(\".jpg\"):\n",
    "                img = 2 * rsz_func(os.path.join(full_path, file)) / 255 -1\n",
    "#                 print(img.shape)\n",
    "                X.append(img)\n",
    "                y.append(name)\n",
    "                i += 1\n",
    "        i = 0\n",
    "#     X = np.concatenate(X, axis=len(X[0].shape))\n",
    "    X = np.stack(X, axis=0)\n",
    "#     y = np.concatenate(y, axis=len(y[0].shape))\n",
    "    y = np.stack(y, axis=0)\n",
    "    return X, y\n",
    "                \n",
    "def onehot_encode_label(labels, nclass=False):\n",
    "    label_dict = {}\n",
    "    lst_classes = np.unique(labels)\n",
    "    num_classes = len(lst_classes)\n",
    "    onehot_labels = []\n",
    "    for i in range(num_classes):\n",
    "#         encoding = np.zeros([num_classes])\n",
    "#         encoding[i] = 1\n",
    "        encoding = i\n",
    "        label_dict[lst_classes[i]] = encoding\n",
    "    for label in labels:\n",
    "        onehot_labels.append(label_dict[label])\n",
    "    onehot_labels = np.stack(onehot_labels)\n",
    "    if nclass:\n",
    "        return onehot_labels, num_classes\n",
    "    return onehot_labels"
   ]
  },
  {
   "cell_type": "code",
   "execution_count": 367,
   "metadata": {
    "ExecuteTime": {
     "end_time": "2018-03-05T07:10:39.778172Z",
     "start_time": "2018-03-05T07:09:23.307222Z"
    },
    "collapsed": true,
    "scrolled": true
   },
   "outputs": [],
   "source": [
    "base_img_path = os.path.join(\".\", \"imgs\", \"flower_photos\")\n",
    "feedX, feedy = preprocess_jpg_by_path(base_img_path, ninstance=500)"
   ]
  },
  {
   "cell_type": "code",
   "execution_count": 370,
   "metadata": {
    "ExecuteTime": {
     "end_time": "2018-03-05T07:11:37.251716Z",
     "start_time": "2018-03-05T07:11:37.139534Z"
    },
    "collapsed": true
   },
   "outputs": [],
   "source": [
    "feedy, nclass = onehot_encode_label(feedy, True)"
   ]
  },
  {
   "cell_type": "code",
   "execution_count": 371,
   "metadata": {
    "ExecuteTime": {
     "end_time": "2018-03-05T07:12:19.514293Z",
     "start_time": "2018-03-05T07:11:39.450174Z"
    },
    "collapsed": true
   },
   "outputs": [],
   "source": [
    "shuffle_ind = np.random.randint(feedy.shape[0], size=[feedy.shape[0]])\n",
    "feedX = feedX[shuffle_ind]\n",
    "feedy = feedy[shuffle_ind]\n",
    "split_ind1 = int(0.7 * feedX.shape[0])\n",
    "split_ind2 = int(0.9 * feedX.shape[0])\n",
    "X_train = feedX[:split_ind1]\n",
    "y_train = feedy[:split_ind1]\n",
    "X_valid = feedX[split_ind1:split_ind2]\n",
    "y_valid = feedy[split_ind1:split_ind2]\n",
    "X_test = feedX[split_ind2:]\n",
    "y_test = feedy[split_ind2:]"
   ]
  },
  {
   "cell_type": "code",
   "execution_count": 372,
   "metadata": {
    "ExecuteTime": {
     "end_time": "2018-03-05T07:12:25.644032Z",
     "start_time": "2018-03-05T07:12:19.786452Z"
    },
    "collapsed": true
   },
   "outputs": [],
   "source": [
    "tf.reset_default_graph()\n",
    "X = tf.placeholder(tf.float32, shape=[None, 299, 299, 3], name=\"X\")\n",
    "with slim.arg_scope(inception.inception_v3_arg_scope()):\n",
    "    logits, end_points = inception.inception_v3(\n",
    "                                X, num_classes=1001, is_training=False)\n",
    "    predictions = end_points[\"Predictions\"]\n",
    "    saver = tf.train.Saver()"
   ]
  },
  {
   "cell_type": "code",
   "execution_count": 373,
   "metadata": {
    "ExecuteTime": {
     "end_time": "2018-03-05T07:12:25.956858Z",
     "start_time": "2018-03-05T07:12:25.790917Z"
    },
    "collapsed": true,
    "scrolled": true
   },
   "outputs": [],
   "source": [
    "kersize = 1\n",
    "y = tf.placeholder(dtype=tf.int32, shape=[None])\n",
    "prelogits = tf.squeeze(end_points[\"PreLogits\"], axis=[1, 2])\n",
    "new_logits = tf.layers.dense(prelogits, nclass, name=\"new_logits\")\n",
    "vars_list = tf.get_collection(tf.GraphKeys.TRAINABLE_VARIABLES, scope=\"new_logits\")\n",
    "new_xentropy = tf.nn.sparse_softmax_cross_entropy_with_logits(labels=y, logits=new_logits)\n",
    "new_loss = tf.reduce_mean(new_xentropy)\n",
    "new_optimizer = tf.train.AdamOptimizer()\n",
    "new_training_op = new_optimizer.minimize(new_loss,var_list=vars_list)\n",
    "new_initializer = tf.global_variables_initializer()"
   ]
  },
  {
   "cell_type": "code",
   "execution_count": 374,
   "metadata": {
    "ExecuteTime": {
     "end_time": "2018-03-05T07:12:29.907494Z",
     "start_time": "2018-03-05T07:12:29.892743Z"
    },
    "collapsed": true
   },
   "outputs": [],
   "source": [
    "with tf.name_scope(\"eval\"):\n",
    "    correct = tf.nn.in_top_k(new_logits, y, 1)\n",
    "    accuracy = tf.reduce_mean(tf.cast(correct, tf.float32))"
   ]
  },
  {
   "cell_type": "code",
   "execution_count": 375,
   "metadata": {
    "ExecuteTime": {
     "end_time": "2018-03-05T07:12:30.457411Z",
     "start_time": "2018-03-05T07:12:30.444551Z"
    },
    "collapsed": true
   },
   "outputs": [],
   "source": [
    "def get_mini_batch(X, y, batch_size, epoch, batch):\n",
    "    \"\"\"\n",
    "    get a batch of training set\n",
    "    \"\"\"\n",
    "    num_inst = X.shape[0]\n",
    "    np.random.seed(epoch * batch * np.random.randint(100))\n",
    "    shuffle_index = np.random.randint(num_inst, size=batch_size)\n",
    "    return X[shuffle_index], y[shuffle_index]"
   ]
  },
  {
   "cell_type": "code",
   "execution_count": null,
   "metadata": {
    "ExecuteTime": {
     "start_time": "2018-03-05T08:07:21.716Z"
    }
   },
   "outputs": [
    {
     "name": "stdout",
     "output_type": "stream",
     "text": [
      "INFO:tensorflow:Restoring parameters from ./temp/inception_v3/inception_v3.ckpt\n",
      "epoch:\n",
      "        valid_acc=0.6819999814033508, valid_loss=0.9909176230430603\n",
      "        train_acc=0.699999988079071, train_loss=0.9188228845596313\n",
      "epoch:\n",
      "        valid_acc=0.7599999904632568, valid_loss=0.7556639909744263\n",
      "        train_acc=0.7699999809265137, train_loss=0.7013585567474365\n",
      "epoch:\n",
      "        valid_acc=0.7599999904632568, valid_loss=0.6965269446372986\n",
      "        train_acc=0.8399999737739563, train_loss=0.7217665314674377\n",
      "epoch:\n",
      "        valid_acc=0.828000009059906, valid_loss=0.6213418245315552\n",
      "        train_acc=0.8600000143051147, train_loss=0.45599982142448425\n",
      "epoch:\n",
      "        valid_acc=0.8159999847412109, valid_loss=0.6080906391143799\n",
      "        train_acc=0.8899999856948853, train_loss=0.41991305351257324\n",
      "epoch:\n",
      "        valid_acc=0.8360000252723694, valid_loss=0.5741997361183167\n",
      "        train_acc=0.8799999952316284, train_loss=0.5031177997589111\n",
      "epoch:\n",
      "        valid_acc=0.8220000267028809, valid_loss=0.5479210019111633\n",
      "        train_acc=0.8500000238418579, train_loss=0.43546444177627563\n",
      "epoch:\n",
      "        valid_acc=0.8339999914169312, valid_loss=0.5432398319244385\n",
      "        train_acc=0.8399999737739563, train_loss=0.46885550022125244\n",
      "epoch:\n",
      "        valid_acc=0.8579999804496765, valid_loss=0.5133888721466064\n",
      "        train_acc=0.949999988079071, train_loss=0.2833983302116394\n",
      "epoch:\n",
      "        valid_acc=0.8539999723434448, valid_loss=0.49114885926246643\n",
      "        train_acc=0.9200000166893005, train_loss=0.2901262938976288\n",
      "epoch:\n",
      "        valid_acc=0.8600000143051147, valid_loss=0.4875720143318176\n",
      "        train_acc=0.9599999785423279, train_loss=0.22533661127090454\n",
      "epoch:\n",
      "        valid_acc=0.8600000143051147, valid_loss=0.4787141680717468\n",
      "        train_acc=0.8999999761581421, train_loss=0.34107470512390137\n",
      "epoch:\n",
      "        valid_acc=0.8700000047683716, valid_loss=0.4640325903892517\n",
      "        train_acc=0.9100000262260437, train_loss=0.34235626459121704\n",
      "epoch:\n",
      "        valid_acc=0.8619999885559082, valid_loss=0.4724724590778351\n",
      "        train_acc=0.9200000166893005, train_loss=0.25564730167388916\n",
      "epoch:\n",
      "        valid_acc=0.878000020980835, valid_loss=0.45308372378349304\n",
      "        train_acc=0.9100000262260437, train_loss=0.24207744002342224\n"
     ]
    }
   ],
   "source": [
    "num_train = X_train.shape[0]\n",
    "batch_size = 100\n",
    "n_epoch = 20\n",
    "n_batch = int(np.ceil(num_train/batch_size))\n",
    "\n",
    "with tf.Session() as sess:\n",
    "    sess.run(new_initializer)\n",
    "    saver.restore(sess, ckpt_path)\n",
    "    for epoch in range(1, n_epoch+1):\n",
    "        for batch in range(1, n_batch+1):\n",
    "            X_batch, y_batch = get_mini_batch(X_train, y_train, batch_size, epoch, batch)\n",
    "            sess.run([new_training_op], feed_dict={X:X_batch, y:y_batch})\n",
    "        valid_acc, valid_loss = sess.run([accuracy, new_loss], feed_dict={X:X_valid, y:y_valid})\n",
    "        train_acc, train_loss = sess.run([accuracy, new_loss], feed_dict={X:X_batch, y:y_batch})\n",
    "        print(\"epoch:\")\n",
    "        print(\"        valid_acc={}, valid_loss={}\".format(valid_acc, valid_loss))\n",
    "        print(\"        train_acc={}, train_loss={}\".format(train_acc, train_loss))\n",
    "        "
   ]
  }
 ],
 "metadata": {
  "kernelspec": {
   "display_name": "Python 3",
   "language": "python",
   "name": "python3"
  },
  "language_info": {
   "codemirror_mode": {
    "name": "ipython",
    "version": 3
   },
   "file_extension": ".py",
   "mimetype": "text/x-python",
   "name": "python",
   "nbconvert_exporter": "python",
   "pygments_lexer": "ipython3",
   "version": "3.6.3"
  },
  "varInspector": {
   "cols": {
    "lenName": 16,
    "lenType": 16,
    "lenVar": 40
   },
   "kernels_config": {
    "python": {
     "delete_cmd_postfix": "",
     "delete_cmd_prefix": "del ",
     "library": "var_list.py",
     "varRefreshCmd": "print(var_dic_list())"
    },
    "r": {
     "delete_cmd_postfix": ") ",
     "delete_cmd_prefix": "rm(",
     "library": "var_list.r",
     "varRefreshCmd": "cat(var_dic_list()) "
    }
   },
   "position": {
    "height": "449px",
    "left": "1070px",
    "right": "20px",
    "top": "120px",
    "width": "352px"
   },
   "types_to_exclude": [
    "module",
    "function",
    "builtin_function_or_method",
    "instance",
    "_Feature"
   ],
   "window_display": false
  }
 },
 "nbformat": 4,
 "nbformat_minor": 2
}
