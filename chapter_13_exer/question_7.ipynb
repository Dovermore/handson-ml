{
 "cells": [
  {
   "cell_type": "markdown",
   "metadata": {},
   "source": [
    "# Question 7"
   ]
  },
  {
   "cell_type": "markdown",
   "metadata": {},
   "source": [
    "# Set-up setction"
   ]
  },
  {
   "cell_type": "markdown",
   "metadata": {},
   "source": [
    "## import modules"
   ]
  },
  {
   "cell_type": "code",
   "execution_count": 55,
   "metadata": {
    "ExecuteTime": {
     "end_time": "2018-02-22T13:13:20.552024Z",
     "start_time": "2018-02-22T13:13:20.531948Z"
    },
    "collapsed": true
   },
   "outputs": [],
   "source": [
    "import tensorflow as tf\n",
    "from datetime import datetime\n",
    "import os\n",
    "import time\n",
    "import sklearn\n",
    "from functools import partial"
   ]
  },
  {
   "cell_type": "code",
   "execution_count": 56,
   "metadata": {
    "ExecuteTime": {
     "end_time": "2018-02-22T13:13:20.840134Z",
     "start_time": "2018-02-22T13:13:20.802190Z"
    },
    "collapsed": true
   },
   "outputs": [],
   "source": [
    "from __future__ import print_function, division\n",
    "import numpy as np\n",
    "import matplotlib as mpl\n",
    "import matplotlib.pyplot as plt\n",
    "%matplotlib inline"
   ]
  },
  {
   "cell_type": "markdown",
   "metadata": {},
   "source": [
    "## Loading data"
   ]
  },
  {
   "cell_type": "code",
   "execution_count": 57,
   "metadata": {
    "ExecuteTime": {
     "end_time": "2018-02-22T13:13:22.491388Z",
     "start_time": "2018-02-22T13:13:21.308802Z"
    }
   },
   "outputs": [
    {
     "name": "stdout",
     "output_type": "stream",
     "text": [
      "Extracting MNIST_data/train-images-idx3-ubyte.gz\n",
      "Extracting MNIST_data/train-labels-idx1-ubyte.gz\n",
      "Extracting MNIST_data/t10k-images-idx3-ubyte.gz\n",
      "Extracting MNIST_data/t10k-labels-idx1-ubyte.gz\n"
     ]
    }
   ],
   "source": [
    "from tensorflow.examples.tutorials.mnist import input_data\n",
    "mnist = input_data.read_data_sets(\"MNIST_data\", one_hot=False)"
   ]
  },
  {
   "cell_type": "code",
   "execution_count": 58,
   "metadata": {
    "ExecuteTime": {
     "end_time": "2018-02-22T13:13:22.609410Z",
     "start_time": "2018-02-22T13:13:22.597619Z"
    },
    "collapsed": true
   },
   "outputs": [],
   "source": [
    "X_train = mnist.train.images.reshape(-1,28,28,1)\n",
    "y_train = mnist.train.labels\n",
    "X_test = mnist.test.images.reshape(-1,28,28,1)\n",
    "y_test = mnist.test.labels\n",
    "X_valid = mnist.validation.images.reshape(-1,28,28,1)\n",
    "y_valid = mnist.validation.labels"
   ]
  },
  {
   "cell_type": "markdown",
   "metadata": {},
   "source": [
    "## Batch function"
   ]
  },
  {
   "cell_type": "code",
   "execution_count": 59,
   "metadata": {
    "ExecuteTime": {
     "end_time": "2018-02-22T13:13:22.745370Z",
     "start_time": "2018-02-22T13:13:22.734795Z"
    },
    "collapsed": true
   },
   "outputs": [],
   "source": [
    "def get_mini_batch(X, y, batch_size, epoch, batch):\n",
    "    \"\"\"\n",
    "    get a batch of training set\n",
    "    \"\"\"\n",
    "    num_inst = X.shape[0]\n",
    "    np.random.seed(epoch * batch * np.random.randint(100))\n",
    "    shuffle_index = np.random.randint(num_inst, size=batch_size)\n",
    "    return X[shuffle_index], y[shuffle_index]"
   ]
  },
  {
   "cell_type": "markdown",
   "metadata": {},
   "source": [
    "# Constructing CNN"
   ]
  },
  {
   "cell_type": "markdown",
   "metadata": {},
   "source": [
    "### Reset function"
   ]
  },
  {
   "cell_type": "code",
   "execution_count": 60,
   "metadata": {
    "ExecuteTime": {
     "end_time": "2018-02-22T13:13:23.097613Z",
     "start_time": "2018-02-22T13:13:23.090774Z"
    },
    "collapsed": true
   },
   "outputs": [],
   "source": [
    "graph=None"
   ]
  },
  {
   "cell_type": "code",
   "execution_count": 61,
   "metadata": {
    "ExecuteTime": {
     "end_time": "2018-02-22T13:13:23.434153Z",
     "start_time": "2018-02-22T13:13:23.421214Z"
    },
    "collapsed": true
   },
   "outputs": [],
   "source": [
    "def reset_graph(graph=None, random=42):\n",
    "    try:\n",
    "        del graph\n",
    "    except NameError:\n",
    "        pass\n",
    "    np.random.seed(random)\n",
    "    tf.set_random_seed(random)\n",
    "    graph = tf.Graph()\n",
    "\n",
    "    return graph"
   ]
  },
  {
   "cell_type": "markdown",
   "metadata": {},
   "source": [
    "## Construct CNN"
   ]
  },
  {
   "cell_type": "markdown",
   "metadata": {},
   "source": [
    "#### Setting constants for network"
   ]
  },
  {
   "cell_type": "code",
   "execution_count": 62,
   "metadata": {
    "ExecuteTime": {
     "end_time": "2018-02-22T13:13:24.520280Z",
     "start_time": "2018-02-22T13:13:24.505331Z"
    },
    "collapsed": true
   },
   "outputs": [],
   "source": [
    "base_dir = 'temp'\n",
    "base_dir_saves = os.path.join(base_dir, \"saves\")\n",
    "base_dir_logs = os.path.join(base_dir, \"logs\")\n",
    "\n",
    "random_seed = 42\n",
    "\n",
    "n_outputs = np.unique(y_train).shape[0]\n",
    "\n",
    "learning_rate=0.005"
   ]
  },
  {
   "cell_type": "markdown",
   "metadata": {},
   "source": [
    "#### Reset graph"
   ]
  },
  {
   "cell_type": "code",
   "execution_count": 63,
   "metadata": {
    "ExecuteTime": {
     "end_time": "2018-02-22T13:13:25.312144Z",
     "start_time": "2018-02-22T13:13:25.304703Z"
    },
    "collapsed": true
   },
   "outputs": [],
   "source": [
    "graph = reset_graph(graph, random_seed)"
   ]
  },
  {
   "cell_type": "markdown",
   "metadata": {},
   "source": [
    "### Make network part"
   ]
  },
  {
   "cell_type": "code",
   "execution_count": 64,
   "metadata": {
    "ExecuteTime": {
     "end_time": "2018-02-22T13:13:26.322881Z",
     "start_time": "2018-02-22T13:13:26.316021Z"
    },
    "collapsed": true
   },
   "outputs": [],
   "source": [
    "dropout_rate = 0.5"
   ]
  },
  {
   "cell_type": "code",
   "execution_count": 66,
   "metadata": {
    "ExecuteTime": {
     "end_time": "2018-02-22T13:13:35.755279Z",
     "start_time": "2018-02-22T13:13:35.082926Z"
    }
   },
   "outputs": [],
   "source": [
    "with graph.as_default():\n",
    "    with tf.name_scope(\"inputs\"):\n",
    "        X = inputs = tf.placeholder(tf.float32, \n",
    "                                    shape=[None, 28, 28, 1], name=\"X\")\n",
    "        y = tf.placeholder(\n",
    "                        tf.int32,\n",
    "                        name=\"y\")\n",
    "        \n",
    "        training = tf.placeholder_with_default(False, [], name=\"training\")\n",
    "    \n",
    "    conv1 = tf.layers.conv2d(\n",
    "                            inputs,\n",
    "                            filters=6,\n",
    "                            kernel_size=3,\n",
    "                            strides=(1, 1),\n",
    "                            padding='SAME',\n",
    "                            activation=tf.nn.selu,\n",
    "                            name=\"conv1\",\n",
    "                        )\n",
    "\n",
    "    conv2 = tf.layers.conv2d(\n",
    "                            conv1,\n",
    "                            filters=12,\n",
    "                            kernel_size=3,\n",
    "                            strides=(1, 1),\n",
    "                            padding='SAME',\n",
    "                            activation=tf.nn.selu,\n",
    "                            name=\"conv2\",\n",
    "                        )\n",
    "\n",
    "    max_pool3 = tf.layers.max_pooling2d(\n",
    "                                conv2,\n",
    "                                pool_size=8,\n",
    "                                strides=2,\n",
    "                                padding='SAME',\n",
    "                                name=\"max_pool3\"\n",
    "                            )\n",
    "    with tf.name_scope(\"conv4\"):\n",
    "        conv4 = tf.layers.conv2d(\n",
    "                                max_pool3,\n",
    "                                filters=12,\n",
    "                                kernel_size=3,\n",
    "                                strides=(1, 1),\n",
    "                                padding='SAME',\n",
    "                                activation=tf.nn.selu,\n",
    "                                name=\"conv4\",\n",
    "                            )\n",
    "\n",
    "        num_ele = int(conv4.shape[1]*conv4.shape[2]*conv4.shape[3])\n",
    "        conv4_flat = tf.reshape(\n",
    "                            conv4,\n",
    "                            shape=[-1, num_ele],\n",
    "                            name=\"conv4_flat\"\n",
    "                          )\n",
    "        conv4_flat_dropout = tf.layers.dropout(conv4_flat, rate=dropout_rate,\n",
    "                                            training=training,\n",
    "                                            name=\"conv4_flat_dropout\")\n",
    "        \n",
    "    with tf.name_scope(\"fc5\"):\n",
    "        fc5 = tf.layers.dense(\n",
    "                                conv4_flat_dropout,\n",
    "                                conv4_flat_dropout.shape[1]//2,\n",
    "                                activation=tf.nn.selu,\n",
    "                                name=\"fc5\",\n",
    "                            )\n",
    "        fc5_dropout = tf.layers.dropout(fc5, rate=dropout_rate,\n",
    "                                       training=training,\n",
    "                                       name=\"fc5_dropout\")\n",
    "\n",
    "    logits = tf.layers.dense(\n",
    "                            fc5_dropout,\n",
    "                            n_outputs,\n",
    "                            name=\"logits\",\n",
    "                        )\n",
    "        \n",
    "    with tf.name_scope(\"outputs\"):\n",
    "        y_prob = tf.nn.softmax(logits, \n",
    "                               axis=1,\n",
    "                               name=\"y_prob\")\n",
    "        \n",
    "        y_pred = tf.cast(tf.argmax(\n",
    "                                logits,\n",
    "                                axis=1,\n",
    "                                ), \n",
    "                         tf.int32,\n",
    "                         name=\"y_pred\")\n",
    "        \n",
    "    with tf.name_scope(\"train\"):\n",
    "        xentropy = tf.nn.sparse_softmax_cross_entropy_with_logits(\n",
    "                                                        labels=y, \n",
    "                                                        logits=logits,\n",
    "                                                        name=\"xentropy\"\n",
    "                                                     )\n",
    "        loss = tf.reduce_mean(\n",
    "                            xentropy,\n",
    "                            name='loss'\n",
    "                        )\n",
    "\n",
    "        training_op = tf.train.AdamOptimizer(\n",
    "                                            learning_rate=learning_rate, \n",
    "                                            beta1=0.9,\n",
    "                                            beta2=0.999,\n",
    "                                            epsilon=1e-08,\n",
    "                                            name=\"Adam\")\\\n",
    "                                            .minimize(\n",
    "                                                    loss,\n",
    "                                                    name=\"training_op\")"
   ]
  },
  {
   "cell_type": "markdown",
   "metadata": {},
   "source": [
    "### Auxiliary network part"
   ]
  },
  {
   "cell_type": "code",
   "execution_count": 67,
   "metadata": {
    "ExecuteTime": {
     "end_time": "2018-02-22T13:13:39.250425Z",
     "start_time": "2018-02-22T13:13:38.590123Z"
    },
    "collapsed": true
   },
   "outputs": [],
   "source": [
    "with graph.as_default():\n",
    "    with tf.name_scope(\"eval\"):\n",
    "        correct = tf.cast(tf.equal(\n",
    "                                y,\n",
    "                                y_pred,),\n",
    "                         tf.float32,\n",
    "                         name=\"correct\")\n",
    "        accuracy = tf.reduce_mean(correct, name=\"accuracy\")\n",
    "        \n",
    "    with tf.name_scope(\"saver\"):\n",
    "        saver = tf.train.Saver(name=\"saver\")\n",
    "        \n",
    "        \n",
    "    str_time_now = datetime.now().strftime(\"%Y%m%d%H%M%S\")\n",
    "    dir_logs = os.path.join(base_dir_logs, str_time_now)\n",
    "    with tf.name_scope(\"logging\"):\n",
    "        file_writer = tf.summary.FileWriter(dir_logs)\n",
    "        log_training_acc = tf.summary.scalar(\"training_accuracy\", accuracy)\n",
    "        log_valid_acc = tf.summary.scalar(\"validation_accuracy\", accuracy)\n",
    "        log_training_loss = tf.summary.scalar(\"training_loss\", loss)\n",
    "        log_valid_loss = tf.summary.scalar(\"validatiaon_loss\", loss)\n",
    "        \n",
    "    with tf.name_scope(\"initializer\"):\n",
    "        initializer = tf.global_variables_initializer()"
   ]
  },
  {
   "cell_type": "markdown",
   "metadata": {},
   "source": [
    "### Adding collection"
   ]
  },
  {
   "cell_type": "code",
   "execution_count": 68,
   "metadata": {
    "ExecuteTime": {
     "end_time": "2018-02-22T13:13:42.662873Z",
     "start_time": "2018-02-22T13:13:42.648390Z"
    },
    "collapsed": true
   },
   "outputs": [],
   "source": [
    "graph.add_to_collection(\"input_ops\", X)\n",
    "graph.add_to_collection(\"input_ops\", y)\n",
    "graph.add_to_collection(\"output_ops\", logits)\n",
    "graph.add_to_collection(\"output_ops\", y_prob)\n",
    "graph.add_to_collection(\"output_ops\", y_pred)\n",
    "graph.add_to_collection(\"metrics_ops\", loss)\n",
    "graph.add_to_collection(\"metrics_ops\", correct)\n",
    "graph.add_to_collection(\"metrics_ops\", accuracy)\n",
    "graph.add_to_collection(\"training_ops\", training_op)"
   ]
  },
  {
   "cell_type": "markdown",
   "metadata": {},
   "source": [
    "## Train network"
   ]
  },
  {
   "cell_type": "markdown",
   "metadata": {},
   "source": [
    "#### Setting some constant"
   ]
  },
  {
   "cell_type": "code",
   "execution_count": 69,
   "metadata": {
    "ExecuteTime": {
     "end_time": "2018-02-22T13:13:44.799488Z",
     "start_time": "2018-02-22T13:13:44.754223Z"
    }
   },
   "outputs": [
    {
     "name": "stdout",
     "output_type": "stream",
     "text": [
      "Making path of saving dirs\n"
     ]
    }
   ],
   "source": [
    "small_index = np.random.permutation(X_train.shape[0])[:2000]\n",
    "X_train_small = X_train[small_index]\n",
    "y_train_small = y_train[small_index]\n",
    "\n",
    "train_size=X_train.shape[0]\n",
    "# train_size=X_train_small.shape[0]\n",
    "test_size = X_test.shape[0]\n",
    "valid_size = X_valid.shape[0]\n",
    "\n",
    "n_epochs = 20\n",
    "batch_size = 100\n",
    "n_batchs = (np.ceil(train_size/batch_size) + 1).astype(int)\n",
    "\n",
    "log_freq = 1\n",
    "max_drop = 10\n",
    "\n",
    "dir_saves = os.path.join(base_dir_saves, str_time_now)\n",
    "\n",
    "if not os.path.isdir(dir_saves):\n",
    "    print(\"Making path of saving dirs\")\n",
    "    \n",
    "    os.makedirs(dir_saves)\n",
    "    \n",
    "if not os.path.isdir(dir_logs):\n",
    "    print(\"Making path of logging dirs\")\n",
    "    os.makedirs(dir_logs)"
   ]
  },
  {
   "cell_type": "code",
   "execution_count": 70,
   "metadata": {
    "ExecuteTime": {
     "end_time": "2018-02-22T14:13:19.331798Z",
     "start_time": "2018-02-22T13:13:45.693085Z"
    }
   },
   "outputs": [
    {
     "name": "stdout",
     "output_type": "stream",
     "text": [
      " 0 train loss:1.8484\n",
      "    train acc:0.751745\n",
      "                     validation loss:1.7019\n",
      "                      validation acc:0.7656\n",
      " 1 train loss:0.0745\n",
      "    train acc:0.978927\n",
      "                     validation loss:0.0782\n",
      "                      validation acc:0.9764\n",
      " 2 train loss:0.0958\n",
      "    train acc:0.972818\n",
      "                     validation loss:0.1072\n",
      "                      validation acc:0.9706\n",
      " 3 train loss:0.1186\n",
      "    train acc:0.971727\n",
      "                     validation loss:0.1292\n",
      "                      validation acc:0.9714\n",
      " 4 train loss:0.1397\n",
      "    train acc:0.969836\n",
      "                     validation loss:0.1422\n",
      "                      validation acc:0.9738\n",
      " 5 train loss:0.8394\n",
      "    train acc:0.939564\n",
      "                     validation loss:0.8237\n",
      "                      validation acc:0.9470\n",
      " 6 train loss:0.3108\n",
      "    train acc:0.979182\n",
      "                     validation loss:0.3345\n",
      "                      validation acc:0.9786\n",
      " 7 train loss:0.6576\n",
      "    train acc:0.967382\n",
      "                     validation loss:0.8300\n",
      "                      validation acc:0.9652\n",
      " 8 train loss:0.2005\n",
      "    train acc:0.987273\n",
      "                     validation loss:0.3021\n",
      "                      validation acc:0.9832\n",
      " 9 train loss:0.2915\n",
      "    train acc:0.984145\n",
      "                     validation loss:0.4509\n",
      "                      validation acc:0.9812\n",
      "10 train loss:0.7932\n",
      "    train acc:0.968273\n",
      "                     validation loss:1.1119\n",
      "                      validation acc:0.9634\n",
      "11 train loss:0.2778\n",
      "    train acc:0.988636\n",
      "                     validation loss:0.4988\n",
      "                      validation acc:0.9848\n",
      "12 train loss:0.4892\n",
      "    train acc:0.982982\n",
      "                     validation loss:0.6407\n",
      "                      validation acc:0.9826\n",
      "13 train loss:0.5457\n",
      "    train acc:0.983382\n",
      "                     validation loss:0.9361\n",
      "                      validation acc:0.9806\n",
      "14 train loss:0.3998\n",
      "    train acc:0.989527\n",
      "                     validation loss:0.7423\n",
      "                      validation acc:0.9876\n",
      "15 train loss:0.3925\n",
      "    train acc:0.985745\n",
      "                     validation loss:0.7599\n",
      "                      validation acc:0.9788\n",
      "16 train loss:0.2093\n",
      "    train acc:0.993236\n",
      "                     validation loss:0.5771\n",
      "                      validation acc:0.9850\n",
      "17 train loss:0.5663\n",
      "    train acc:0.989855\n",
      "                     validation loss:1.2298\n",
      "                      validation acc:0.9846\n",
      "18 train loss:0.6623\n",
      "    train acc:0.988927\n",
      "                     validation loss:1.3572\n",
      "                      validation acc:0.9824\n",
      "19 train loss:0.1555\n",
      "    train acc:0.994891\n",
      "                     validation loss:0.6606\n",
      "                      validation acc:0.9872\n"
     ]
    }
   ],
   "source": [
    "with graph.as_default():\n",
    "    with tf.Session() as sess:\n",
    "        with open(os.path.join(dir_saves, 'record.txt'), 'a') as hfile:\n",
    "            cdrop = 0\n",
    "            max_valid_acc = 0\n",
    "\n",
    "            initializer.run()\n",
    "            file_writer.add_graph(graph)\n",
    "            for epoch in range(n_epochs):\n",
    "                for batch in range(n_batchs):\n",
    "                    X_batch, y_batch = get_mini_batch(X_train, \n",
    "                                                      y_train, \n",
    "                                                      batch_size, \n",
    "                                                      epoch, \n",
    "                                                      batch)\n",
    "                    sess.run(training_op,\n",
    "                            feed_dict={X:X_batch,\n",
    "                                       y:y_batch,}\n",
    "                            )\n",
    "                if not epoch % log_freq:\n",
    "                    val_training_acc,\\\n",
    "                    val_training_loss,\\\n",
    "                    str_training_acc,\\\n",
    "                    str_training_loss=\\\n",
    "                    sess.run([accuracy, \n",
    "                              loss,\n",
    "                              log_training_acc, \n",
    "                              log_training_loss],\n",
    "                              feed_dict={X:X_train,\n",
    "                                         y:y_train})\n",
    "\n",
    "                    val_validation_acc,\\\n",
    "                    val_validation_loss,\\\n",
    "                    str_validation_acc,\\\n",
    "                    str_validation_loss=\\\n",
    "                    sess.run([accuracy, \n",
    "                              loss,\n",
    "                              log_valid_acc,\n",
    "                              log_valid_loss],\n",
    "                              feed_dict={X:X_valid,\n",
    "                                         y:y_valid})\n",
    "                    rec_train_loss = \"%2d train loss:%.4f\\n\" % (epoch, val_training_loss)\n",
    "                    rec_train_acc = \"    train acc:%4f\\n\" % val_training_acc\n",
    "                    rec_validation_loss = \"                     validation loss:%.4f\\n\" % val_validation_loss\n",
    "                    rec_validation_acc = \"                      validation acc:%.4f\\n\" % val_validation_acc\n",
    "                    print(rec_train_loss, end='')\n",
    "                    print(rec_train_acc, end='')\n",
    "                    print(rec_validation_loss, end='')\n",
    "                    print(rec_validation_acc, end='')\n",
    "                    \n",
    "                    hfile.write(rec_train_loss+rec_train_acc+\n",
    "                                rec_validation_loss+rec_validation_acc+'\\n')\n",
    "                    hfile.flush()\n",
    "                    \n",
    "                    \n",
    "\n",
    "\n",
    "    #                 correct_label= sess.run(correct,\n",
    "    #                               feed_dict={X:X_valid,\n",
    "    #                                          y:y_valid})\n",
    "\n",
    "                    file_writer.add_summary(str_training_acc, \n",
    "                                            epoch*n_batchs+batch)\n",
    "                    file_writer.add_summary(str_training_loss,\n",
    "                                            epoch*n_batchs+batch)\n",
    "                    file_writer.add_summary(str_validation_acc,\n",
    "                                            epoch*n_batchs+batch)\n",
    "                    file_writer.add_summary(str_validation_loss,\n",
    "                                            epoch*n_batchs+batch)\n",
    "\n",
    "                    save_path = saver.save(sess, os.path.join(dir_saves, \n",
    "                                                              '{}.ckpt'\n",
    "                                                              .format(epoch)))\n",
    "\n",
    "                    if val_validation_acc > max_valid_acc:\n",
    "                        cdrop = 0\n",
    "                        max_valid_acc = val_validation_acc\n",
    "                        best_save_path = save_path\n",
    "\n",
    "                    else:\n",
    "                        cdrop += 1\n",
    "\n",
    "                    if cdrop >= max_drop:\n",
    "                        print(\"cdrop:%d  Early stopping\" % cdrop)\n",
    "                        break\n",
    "\n",
    "            final_save_path = saver.save(sess, dir_saves)\n",
    "            \n",
    "            hfile.write('Best save path: %s' % best_save_path)\n",
    "            hfile.write('Final save path: %s\\n' % final_save_path)\n",
    "            hfile.flush()\n"
   ]
  },
  {
   "cell_type": "code",
   "execution_count": 73,
   "metadata": {
    "ExecuteTime": {
     "end_time": "2018-02-22T14:24:30.367510Z",
     "start_time": "2018-02-22T14:24:30.360206Z"
    }
   },
   "outputs": [],
   "source": [
    "best_save_path = final_save_path"
   ]
  },
  {
   "cell_type": "code",
   "execution_count": 74,
   "metadata": {
    "ExecuteTime": {
     "end_time": "2018-02-22T14:24:38.689430Z",
     "start_time": "2018-02-22T14:24:31.135866Z"
    }
   },
   "outputs": [
    {
     "name": "stdout",
     "output_type": "stream",
     "text": [
      "INFO:tensorflow:Restoring parameters from temp/saves/20180223001339\n",
      "test accuracy = 0.987500011920929, test loss = 0.6853736639022827, test entropy = [0. 0. 0. ... 0. 0. 0.]\n"
     ]
    }
   ],
   "source": [
    "with graph.as_default():\n",
    "    with tf.Session() as sess:\n",
    "        saver.restore(sess, best_save_path)\n",
    "        test_pred, test_prob, test_acc, test_loss, test_entropy = \\\n",
    "            sess.run([y_pred, y_prob, accuracy, loss, xentropy],\n",
    "                    feed_dict={X: X_test, y: y_test})\n",
    "        print(\"test accuracy = {}, test loss = {}, test entropy = {}\"\n",
    "              .format(test_acc, test_loss, test_entropy))"
   ]
  },
  {
   "cell_type": "code",
   "execution_count": 85,
   "metadata": {
    "ExecuteTime": {
     "end_time": "2018-02-22T14:33:13.887045Z",
     "start_time": "2018-02-22T14:33:13.090326Z"
    }
   },
   "outputs": [
    {
     "name": "stdout",
     "output_type": "stream",
     "text": [
      "[0. 0. 1. 0. 0. 0. 0. 0. 0. 0.]\n",
      "[0. 0. 0. 0. 0. 1. 0. 0. 0. 0.]\n",
      "[0. 0. 0. 0. 0. 0. 1. 0. 0. 0.]\n",
      "[0. 0. 0. 0. 1. 0. 0. 0. 0. 0.]\n",
      "[0. 0. 1. 0. 0. 0. 0. 0. 0. 0.]\n",
      "[0. 0. 1. 0. 0. 0. 0. 0. 0. 0.]\n",
      "[0. 0. 0. 0. 0. 0. 0. 0. 0. 1.]\n",
      "[0. 1. 0. 0. 0. 0. 0. 0. 0. 0.]\n",
      "[1. 0. 0. 0. 0. 0. 0. 0. 0. 0.]\n"
     ]
    },
    {
     "data": {
      "image/png": "[encoded data removed]",
      "text/plain": [
       "<matplotlib.figure.Figure at 0x1c2c123780>"
      ]
     },
     "metadata": {},
     "output_type": "display_data"
    }
   ],
   "source": [
    "false_ind = (test_entropy > 1e+2)\n",
    "false_graph_X = X_test[false_ind]\n",
    "false_graph_y = y_test[false_ind]\n",
    "false_prob = test_prob[false_ind]\n",
    "false_pred = test_pred[false_ind]\n",
    "\n",
    "from matplotlib import gridspec\n",
    "\n",
    "plt.figure(figsize = (20,20))\n",
    "for i in range(1, min(len(false_graph_X), 10)):\n",
    "    ax = plt.subplot(min(len(false_graph_X), 10), 1, i)\n",
    "    ax.set_title(\"false_graph_y={}, false_pred={}\".format(false_graph_y[i], false_pred[i]))\n",
    "    ax.axis(\"off\")\n",
    "    false_img = false_graph_X[i].reshape(28, 28)\n",
    "    plt.imshow(false_img, cmap=\"gist_gray\", interpolation='nearest')\n",
    "    print(false_prob[i])"
   ]
  },
  {
   "cell_type": "markdown",
   "metadata": {
    "collapsed": true
   },
   "source": [
    "## Load model"
   ]
  },
  {
   "cell_type": "markdown",
   "metadata": {
    "collapsed": true
   },
   "source": [
    "Missing lines ^.^"
   ]
  },
  {
   "cell_type": "code",
   "execution_count": null,
   "metadata": {
    "collapsed": true
   },
   "outputs": [],
   "source": []
  }
 ],
 "metadata": {
  "kernelspec": {
   "display_name": "Python 3",
   "language": "python",
   "name": "python3"
  },
  "language_info": {
   "codemirror_mode": {
    "name": "ipython",
    "version": 3
   },
   "file_extension": ".py",
   "mimetype": "text/x-python",
   "name": "python",
   "nbconvert_exporter": "python",
   "pygments_lexer": "ipython3",
   "version": "3.6.3"
  },
  "varInspector": {
   "cols": {
    "lenName": 16,
    "lenType": 16,
    "lenVar": 40
   },
   "kernels_config": {
    "python": {
     "delete_cmd_postfix": "",
     "delete_cmd_prefix": "del ",
     "library": "var_list.py",
     "varRefreshCmd": "print(var_dic_list())"
    },
    "r": {
     "delete_cmd_postfix": ") ",
     "delete_cmd_prefix": "rm(",
     "library": "var_list.r",
     "varRefreshCmd": "cat(var_dic_list()) "
    }
   },
   "types_to_exclude": [
    "module",
    "function",
    "builtin_function_or_method",
    "instance",
    "_Feature"
   ],
   "window_display": false
  }
 },
 "nbformat": 4,
 "nbformat_minor": 2
}
